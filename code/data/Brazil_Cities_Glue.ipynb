{
 "cells": [
  {
   "cell_type": "code",
   "execution_count": 1,
   "metadata": {
    "ExecuteTime": {
     "end_time": "2020-05-11T19:14:18.223359Z",
     "start_time": "2020-05-11T19:14:17.896439Z"
    }
   },
   "outputs": [],
   "source": [
    "from string import punctuation\n",
    "from unicodedata import normalize\n",
    "\n",
    "import pandas as pd\n",
    "\n",
    "def remover_acentos(txt):\n",
    "    return normalize(\"NFKD\", txt).encode(\"ASCII\", \"ignore\").decode(\"ASCII\")"
   ]
  },
  {
   "cell_type": "code",
   "execution_count": 2,
   "metadata": {
    "ExecuteTime": {
     "end_time": "2020-05-11T19:14:18.268749Z",
     "start_time": "2020-05-11T19:14:18.238990Z"
    }
   },
   "outputs": [],
   "source": [
    "df = pd.read_csv(\"brazil_cities.csv\")\n",
    "df[\"estado\"] = \"\"\n",
    "df[\"regiao\"] = \"\"\n",
    "df = df.drop([\"nomeabrev\"], axis=1)\n",
    "df2 = pd.read_csv(\"cities.csv\", sep=\";\", encoding=\"ISO-8859-1\")"
   ]
  },
  {
   "cell_type": "code",
   "execution_count": 3,
   "metadata": {
    "ExecuteTime": {
     "end_time": "2020-05-11T19:14:24.540677Z",
     "start_time": "2020-05-11T19:14:18.664999Z"
    },
    "scrolled": true
   },
   "outputs": [],
   "source": [
    "for idx, row in df.iterrows():\n",
    "    dados = df2[df2[\"Município\"] == row[\"nome\"]].to_numpy()\n",
    "    if len(dados) > 0:\n",
    "        dados = dados[0]\n",
    "        df.at[idx, \"estado\"] = dados[0]\n",
    "        df.at[idx, \"regiao\"] = dados[2]"
   ]
  },
  {
   "cell_type": "code",
   "execution_count": 4,
   "metadata": {
    "ExecuteTime": {
     "end_time": "2020-05-11T19:14:24.552311Z",
     "start_time": "2020-05-11T19:14:24.543664Z"
    }
   },
   "outputs": [],
   "source": [
    "df = df.rename(columns={\"id_cidade\": \"id\", \"LATITUDE\": \"lat\", \"LONGITUDE\": \"lng\"})\n",
    "df = df.reset_index()"
   ]
  },
  {
   "cell_type": "code",
   "execution_count": 5,
   "metadata": {
    "ExecuteTime": {
     "end_time": "2020-05-11T19:14:24.684873Z",
     "start_time": "2020-05-11T19:14:24.555754Z"
    }
   },
   "outputs": [],
   "source": [
    "df.to_csv(\"brazil_cities_final.csv\")"
   ]
  },
  {
   "cell_type": "code",
   "execution_count": null,
   "metadata": {},
   "outputs": [],
   "source": []
  }
 ],
 "metadata": {
  "kernelspec": {
   "display_name": "Python 3",
   "language": "python",
   "name": "python3"
  },
  "language_info": {
   "codemirror_mode": {
    "name": "ipython",
    "version": 3
   },
   "file_extension": ".py",
   "mimetype": "text/x-python",
   "name": "python",
   "nbconvert_exporter": "python",
   "pygments_lexer": "ipython3",
   "version": "3.8.2"
  }
 },
 "nbformat": 4,
 "nbformat_minor": 4
}
