{
 "cells": [
  {
   "cell_type": "markdown",
   "metadata": {},
   "source": [
    "## Verificacao de Algoritmos\n",
    "\n",
    "Neste notebook sera verificado o uso do algoritmo Word2Vec e Doc2Vec juntamente com o algoritmo de clusterizacao Spectral Clustering para um \"treinamento\" nao supervisionado."
   ]
  },
  {
   "cell_type": "code",
   "execution_count": 65,
   "metadata": {
    "ExecuteTime": {
     "end_time": "2020-05-24T18:13:31.827918Z",
     "start_time": "2020-05-24T18:13:31.825457Z"
    }
   },
   "outputs": [],
   "source": [
    "import os\n",
    "import sys\n",
    "\n",
    "sys.path.append(f\"{os.getcwd()}/../\")"
   ]
  },
  {
   "cell_type": "code",
   "execution_count": 66,
   "metadata": {
    "ExecuteTime": {
     "end_time": "2020-05-24T18:13:32.121189Z",
     "start_time": "2020-05-24T18:13:32.113884Z"
    }
   },
   "outputs": [],
   "source": [
    "import random\n",
    "import warnings\n",
    "warnings.filterwarnings(\"ignore\")\n",
    "\n",
    "import numpy as np\n",
    "import pandas as pd\n",
    "import matplotlib.pyplot as plt\n",
    "import seaborn as sn\n",
    "\n",
    "from sklearn.metrics.pairwise import (\n",
    "    cosine_similarity, \n",
    "    cosine_distances,\n",
    "    laplacian_kernel, \n",
    "    euclidean_distances, \n",
    "    sigmoid_kernel, \n",
    "    chi2_kernel,\n",
    "    polynomial_kernel,\n",
    "    rbf_kernel\n",
    ")\n",
    "from sklearn.preprocessing import MinMaxScaler, StandardScaler\n",
    "from sklearn.metrics import confusion_matrix, f1_score, accuracy_score, v_measure_score, silhouette_score\n",
    "from sklearn.model_selection import train_test_split\n",
    "from sklearn.feature_extraction.text import TfidfVectorizer, CountVectorizer\n",
    "from sklearn.cluster import SpectralClustering\n",
    "\n",
    "from gensim.models import Word2Vec, Doc2Vec\n",
    "\n",
    "from processing.utils import CleanUp, RSLP_STEMMER, SNOWBALL_STEMMER, NLP_LEMMATIZER\n",
    "\n",
    "%matplotlib inline\n",
    "\n",
    "clean_up = CleanUp()"
   ]
  },
  {
   "cell_type": "code",
   "execution_count": 67,
   "metadata": {
    "ExecuteTime": {
     "end_time": "2020-05-24T18:13:33.053387Z",
     "start_time": "2020-05-24T18:13:32.540047Z"
    }
   },
   "outputs": [],
   "source": [
    "df = pd.read_csv(f\"{os.getcwd()}/../../data/dataset.csv\", sep=\"|\")\n",
    "df[\"x\"] = df[\"comentario\"].apply(lambda comment: clean_up.fit(str(comment)))\n",
    "df[\"y\"] = df[\"classificacao\"].apply(lambda clasf: 0 if clasf == \"negativo\" else 1)\n",
    "textos = df[[\"x\", \"y\"]].to_numpy()"
   ]
  },
  {
   "cell_type": "markdown",
   "metadata": {},
   "source": [
    "### Unsupervised Learning : Word2Vec +  Spectral Clustering"
   ]
  },
  {
   "cell_type": "code",
   "execution_count": 68,
   "metadata": {
    "ExecuteTime": {
     "end_time": "2020-05-24T18:13:34.807829Z",
     "start_time": "2020-05-24T18:13:33.892376Z"
    }
   },
   "outputs": [
    {
     "name": "stdout",
     "output_type": "stream",
     "text": [
      "Palavras no vocab: 210654\n"
     ]
    }
   ],
   "source": [
    "w2v = Word2Vec.load(f\"{os.getcwd()}/../ai/models/w2v.model\")\n",
    "print(f\"Palavras no vocab: {len(list(w2v.wv.vocab))}\")\n",
    "\n",
    "# from gensim.models import KeyedVectors\n",
    "# model = KeyedVectors.load_word2vec_format(f\"{os.getcwd()}/../ai/models/skip_s300.txt\")"
   ]
  },
  {
   "cell_type": "code",
   "execution_count": 69,
   "metadata": {
    "ExecuteTime": {
     "end_time": "2020-05-24T18:13:34.859770Z",
     "start_time": "2020-05-24T18:13:34.809066Z"
    }
   },
   "outputs": [],
   "source": [
    "n_textos = []\n",
    "for texto in textos:\n",
    "    doc = []\n",
    "    for palavra in texto[0].split():\n",
    "        try:\n",
    "            doc.append(w2v.wv[palavra])\n",
    "        except:\n",
    "            # print(palavra)\n",
    "            # doc.append(np.ones((150, )))\n",
    "            pass\n",
    "    doc = np.asarray(doc)\n",
    "    doc = np.mean(doc, axis=0)\n",
    "    n_textos.append(doc)\n",
    "n_textos = np.asarray(n_textos)"
   ]
  },
  {
   "cell_type": "code",
   "execution_count": 70,
   "metadata": {
    "ExecuteTime": {
     "end_time": "2020-05-24T18:13:38.190224Z",
     "start_time": "2020-05-24T18:13:35.341615Z"
    }
   },
   "outputs": [],
   "source": [
    "validacoes = []\n",
    "\n",
    "X = n_textos\n",
    "y = textos[:, 1].astype(np.int).ravel()\n",
    "\n",
    "for metric in (\n",
    "    cosine_distances,\n",
    "    laplacian_kernel, \n",
    "    euclidean_distances, \n",
    "    sigmoid_kernel, \n",
    "    polynomial_kernel,\n",
    "    rbf_kernel\n",
    "):\n",
    "    for assign_labels in [\"discretize\", \"kmeans\"]:\n",
    "        clustering = SpectralClustering(\n",
    "            n_clusters=2,\n",
    "            eigen_solver=\"amg\",\n",
    "            assign_labels=assign_labels,\n",
    "            affinity=\"precomputed_nearest_neighbors\",\n",
    "            random_state=0,\n",
    "            n_jobs=-1\n",
    "        ).fit(metric(X))\n",
    "\n",
    "        pred = clustering.labels_\n",
    "        acc = round(accuracy_score(pred, y) * 100, 2)\n",
    "        f1 = round(f1_score(pred, y) * 100, 2)\n",
    "        vm = round(v_measure_score(y, pred), 2)\n",
    "        silhouette = None\n",
    "        try:\n",
    "            silhouette = silhouette_score(metric(X), pred, metric=\"precomputed\")\n",
    "        except:\n",
    "            pass\n",
    "        validacoes.append((\n",
    "            metric.__name__,\n",
    "            assign_labels,\n",
    "            acc, \n",
    "            f1,\n",
    "            vm,\n",
    "            silhouette\n",
    "        ))"
   ]
  },
  {
   "cell_type": "code",
   "execution_count": 74,
   "metadata": {
    "ExecuteTime": {
     "end_time": "2020-05-24T18:41:21.781695Z",
     "start_time": "2020-05-24T18:41:21.743516Z"
    }
   },
   "outputs": [
    {
     "data": {
      "text/html": [
       "<div>\n",
       "<style scoped>\n",
       "    .dataframe tbody tr th:only-of-type {\n",
       "        vertical-align: middle;\n",
       "    }\n",
       "\n",
       "    .dataframe tbody tr th {\n",
       "        vertical-align: top;\n",
       "    }\n",
       "\n",
       "    .dataframe thead th {\n",
       "        text-align: right;\n",
       "    }\n",
       "</style>\n",
       "<table border=\"1\" class=\"dataframe\">\n",
       "  <thead>\n",
       "    <tr style=\"text-align: right;\">\n",
       "      <th></th>\n",
       "      <th>Metric</th>\n",
       "      <th>AssignLabels</th>\n",
       "      <th>Accuracy</th>\n",
       "      <th>F1</th>\n",
       "      <th>V-Measure</th>\n",
       "      <th>Silhouette</th>\n",
       "    </tr>\n",
       "  </thead>\n",
       "  <tbody>\n",
       "    <tr>\n",
       "      <th>3</th>\n",
       "      <td>laplacian_kernel</td>\n",
       "      <td>kmeans</td>\n",
       "      <td>37.64</td>\n",
       "      <td>49.65</td>\n",
       "      <td>0.02</td>\n",
       "      <td>NaN</td>\n",
       "    </tr>\n",
       "    <tr>\n",
       "      <th>1</th>\n",
       "      <td>cosine_distances</td>\n",
       "      <td>kmeans</td>\n",
       "      <td>66.28</td>\n",
       "      <td>45.51</td>\n",
       "      <td>0.05</td>\n",
       "      <td>0.221881</td>\n",
       "    </tr>\n",
       "    <tr>\n",
       "      <th>10</th>\n",
       "      <td>rbf_kernel</td>\n",
       "      <td>discretize</td>\n",
       "      <td>35.92</td>\n",
       "      <td>43.45</td>\n",
       "      <td>0.03</td>\n",
       "      <td>NaN</td>\n",
       "    </tr>\n",
       "    <tr>\n",
       "      <th>5</th>\n",
       "      <td>euclidean_distances</td>\n",
       "      <td>kmeans</td>\n",
       "      <td>33.05</td>\n",
       "      <td>41.51</td>\n",
       "      <td>0.06</td>\n",
       "      <td>0.155404</td>\n",
       "    </tr>\n",
       "    <tr>\n",
       "      <th>0</th>\n",
       "      <td>cosine_distances</td>\n",
       "      <td>discretize</td>\n",
       "      <td>33.62</td>\n",
       "      <td>39.58</td>\n",
       "      <td>0.06</td>\n",
       "      <td>0.183314</td>\n",
       "    </tr>\n",
       "    <tr>\n",
       "      <th>6</th>\n",
       "      <td>sigmoid_kernel</td>\n",
       "      <td>discretize</td>\n",
       "      <td>54.50</td>\n",
       "      <td>38.23</td>\n",
       "      <td>0.00</td>\n",
       "      <td>NaN</td>\n",
       "    </tr>\n",
       "    <tr>\n",
       "      <th>7</th>\n",
       "      <td>sigmoid_kernel</td>\n",
       "      <td>kmeans</td>\n",
       "      <td>54.50</td>\n",
       "      <td>38.23</td>\n",
       "      <td>0.00</td>\n",
       "      <td>NaN</td>\n",
       "    </tr>\n",
       "    <tr>\n",
       "      <th>8</th>\n",
       "      <td>polynomial_kernel</td>\n",
       "      <td>discretize</td>\n",
       "      <td>54.50</td>\n",
       "      <td>38.23</td>\n",
       "      <td>0.00</td>\n",
       "      <td>NaN</td>\n",
       "    </tr>\n",
       "    <tr>\n",
       "      <th>9</th>\n",
       "      <td>polynomial_kernel</td>\n",
       "      <td>kmeans</td>\n",
       "      <td>54.50</td>\n",
       "      <td>38.23</td>\n",
       "      <td>0.00</td>\n",
       "      <td>NaN</td>\n",
       "    </tr>\n",
       "    <tr>\n",
       "      <th>4</th>\n",
       "      <td>euclidean_distances</td>\n",
       "      <td>discretize</td>\n",
       "      <td>32.95</td>\n",
       "      <td>37.39</td>\n",
       "      <td>0.06</td>\n",
       "      <td>0.122168</td>\n",
       "    </tr>\n",
       "    <tr>\n",
       "      <th>2</th>\n",
       "      <td>laplacian_kernel</td>\n",
       "      <td>discretize</td>\n",
       "      <td>61.40</td>\n",
       "      <td>35.93</td>\n",
       "      <td>0.01</td>\n",
       "      <td>NaN</td>\n",
       "    </tr>\n",
       "    <tr>\n",
       "      <th>11</th>\n",
       "      <td>rbf_kernel</td>\n",
       "      <td>kmeans</td>\n",
       "      <td>62.36</td>\n",
       "      <td>29.44</td>\n",
       "      <td>0.02</td>\n",
       "      <td>NaN</td>\n",
       "    </tr>\n",
       "  </tbody>\n",
       "</table>\n",
       "</div>"
      ],
      "text/plain": [
       "                 Metric AssignLabels  Accuracy     F1  V-Measure  Silhouette\n",
       "3      laplacian_kernel       kmeans     37.64  49.65       0.02         NaN\n",
       "1      cosine_distances       kmeans     66.28  45.51       0.05    0.221881\n",
       "10           rbf_kernel   discretize     35.92  43.45       0.03         NaN\n",
       "5   euclidean_distances       kmeans     33.05  41.51       0.06    0.155404\n",
       "0      cosine_distances   discretize     33.62  39.58       0.06    0.183314\n",
       "6        sigmoid_kernel   discretize     54.50  38.23       0.00         NaN\n",
       "7        sigmoid_kernel       kmeans     54.50  38.23       0.00         NaN\n",
       "8     polynomial_kernel   discretize     54.50  38.23       0.00         NaN\n",
       "9     polynomial_kernel       kmeans     54.50  38.23       0.00         NaN\n",
       "4   euclidean_distances   discretize     32.95  37.39       0.06    0.122168\n",
       "2      laplacian_kernel   discretize     61.40  35.93       0.01         NaN\n",
       "11           rbf_kernel       kmeans     62.36  29.44       0.02         NaN"
      ]
     },
     "execution_count": 74,
     "metadata": {},
     "output_type": "execute_result"
    }
   ],
   "source": [
    "columns = [\"Metric\", \"AssignLabels\", \"Accuracy\", \"F1\", \"V-Measure\", \"Silhouette\"]\n",
    "df = pd.DataFrame(validacoes, columns=columns)\n",
    "df = df.sort_values(by=[\"F1\", \"Accuracy\", \"V-Measure\", \"Silhouette\", \"Metric\"], ascending=False)\n",
    "df.reset_index().head(25)"
   ]
  },
  {
   "cell_type": "code",
   "execution_count": 75,
   "metadata": {
    "ExecuteTime": {
     "end_time": "2020-05-24T18:41:22.918596Z",
     "start_time": "2020-05-24T18:41:22.613200Z"
    }
   },
   "outputs": [
    {
     "data": {
      "image/png": "[encoded data removed]",
      "text/plain": [
       "<Figure size 432x288 with 2 Axes>"
      ]
     },
     "metadata": {
      "needs_background": "light"
     },
     "output_type": "display_data"
    }
   ],
   "source": [
    "X = n_textos\n",
    "y = textos[:, 1].astype(np.int).ravel()\n",
    "\n",
    "clustering = SpectralClustering(\n",
    "    n_clusters=2,\n",
    "    eigen_solver=\"amg\",\n",
    "    assign_labels=\"kmeans\",\n",
    "    affinity=\"precomputed_nearest_neighbors\",\n",
    "    random_state=0,\n",
    "    n_jobs=-1\n",
    ").fit(cosine_distances(X))\n",
    "\n",
    "pred = clustering.labels_\n",
    "df_cm = confusion_matrix(pred, y)\n",
    "plt.figure(figsize=(6, 4))\n",
    "sn.heatmap(df_cm, annot=True)\n",
    "plt.show()"
   ]
  },
  {
   "cell_type": "markdown",
   "metadata": {},
   "source": [
    "### Unsupervised Learning : Doc2Vec +  Spectral Clustering"
   ]
  },
  {
   "cell_type": "code",
   "execution_count": 76,
   "metadata": {
    "ExecuteTime": {
     "end_time": "2020-05-24T18:41:25.726721Z",
     "start_time": "2020-05-24T18:41:24.952008Z"
    }
   },
   "outputs": [],
   "source": [
    "d2v = Doc2Vec.load(f\"{os.getcwd()}/../ai/models/d2v.model\")"
   ]
  },
  {
   "cell_type": "code",
   "execution_count": 117,
   "metadata": {
    "ExecuteTime": {
     "end_time": "2020-05-24T18:53:56.422425Z",
     "start_time": "2020-05-24T18:53:55.089984Z"
    }
   },
   "outputs": [],
   "source": [
    "n_textos = []\n",
    "for texto in textos:\n",
    "    doc_vec = d2v.infer_vector(texto[0].split())\n",
    "    n_textos.append(doc_vec)\n",
    "n_textos = np.asarray(n_textos)"
   ]
  },
  {
   "cell_type": "code",
   "execution_count": 118,
   "metadata": {
    "ExecuteTime": {
     "end_time": "2020-05-24T18:53:59.192987Z",
     "start_time": "2020-05-24T18:53:57.027593Z"
    }
   },
   "outputs": [],
   "source": [
    "validacoes = []\n",
    "\n",
    "X = n_textos\n",
    "y = textos[:, 1].astype(np.int).ravel()\n",
    "\n",
    "for metric in (\n",
    "    cosine_distances,\n",
    "    laplacian_kernel, \n",
    "    euclidean_distances, \n",
    "    rbf_kernel\n",
    "):\n",
    "    for assign_labels in [\"discretize\", \"kmeans\"]:\n",
    "        clustering = SpectralClustering(\n",
    "            n_clusters=2,\n",
    "            eigen_solver=\"amg\",\n",
    "            assign_labels=assign_labels,\n",
    "            affinity=\"precomputed_nearest_neighbors\",\n",
    "            random_state=0,\n",
    "            n_jobs=-1\n",
    "        ).fit(metric(X))\n",
    "\n",
    "        pred = clustering.labels_\n",
    "        acc = round(accuracy_score(pred, y) * 100, 2)\n",
    "        f1 = round(f1_score(pred, y) * 100, 2)\n",
    "        vm = round(v_measure_score(y, pred), 2)\n",
    "        silhouette = None\n",
    "        try:\n",
    "            silhouette = silhouette_score(metric(X), pred, metric=\"precomputed\")\n",
    "        except:\n",
    "            pass\n",
    "        validacoes.append((\n",
    "            metric.__name__,\n",
    "            assign_labels,\n",
    "            acc, \n",
    "            f1,\n",
    "            vm,\n",
    "            silhouette\n",
    "        ))"
   ]
  },
  {
   "cell_type": "code",
   "execution_count": 122,
   "metadata": {
    "ExecuteTime": {
     "end_time": "2020-05-24T18:55:25.753692Z",
     "start_time": "2020-05-24T18:55:25.736500Z"
    }
   },
   "outputs": [
    {
     "data": {
      "text/html": [
       "<div>\n",
       "<style scoped>\n",
       "    .dataframe tbody tr th:only-of-type {\n",
       "        vertical-align: middle;\n",
       "    }\n",
       "\n",
       "    .dataframe tbody tr th {\n",
       "        vertical-align: top;\n",
       "    }\n",
       "\n",
       "    .dataframe thead th {\n",
       "        text-align: right;\n",
       "    }\n",
       "</style>\n",
       "<table border=\"1\" class=\"dataframe\">\n",
       "  <thead>\n",
       "    <tr style=\"text-align: right;\">\n",
       "      <th></th>\n",
       "      <th>index</th>\n",
       "      <th>Metric</th>\n",
       "      <th>AssignLabels</th>\n",
       "      <th>Accuracy</th>\n",
       "      <th>F1</th>\n",
       "      <th>V-Measure</th>\n",
       "      <th>Silhouette</th>\n",
       "    </tr>\n",
       "  </thead>\n",
       "  <tbody>\n",
       "    <tr>\n",
       "      <th>0</th>\n",
       "      <td>6</td>\n",
       "      <td>rbf_kernel</td>\n",
       "      <td>discretize</td>\n",
       "      <td>59.77</td>\n",
       "      <td>55.70</td>\n",
       "      <td>0.03</td>\n",
       "      <td>NaN</td>\n",
       "    </tr>\n",
       "    <tr>\n",
       "      <th>1</th>\n",
       "      <td>3</td>\n",
       "      <td>laplacian_kernel</td>\n",
       "      <td>kmeans</td>\n",
       "      <td>40.13</td>\n",
       "      <td>33.58</td>\n",
       "      <td>0.03</td>\n",
       "      <td>NaN</td>\n",
       "    </tr>\n",
       "    <tr>\n",
       "      <th>2</th>\n",
       "      <td>2</td>\n",
       "      <td>laplacian_kernel</td>\n",
       "      <td>discretize</td>\n",
       "      <td>39.85</td>\n",
       "      <td>33.47</td>\n",
       "      <td>0.03</td>\n",
       "      <td>NaN</td>\n",
       "    </tr>\n",
       "    <tr>\n",
       "      <th>3</th>\n",
       "      <td>7</td>\n",
       "      <td>rbf_kernel</td>\n",
       "      <td>kmeans</td>\n",
       "      <td>41.19</td>\n",
       "      <td>31.01</td>\n",
       "      <td>0.03</td>\n",
       "      <td>NaN</td>\n",
       "    </tr>\n",
       "    <tr>\n",
       "      <th>4</th>\n",
       "      <td>4</td>\n",
       "      <td>euclidean_distances</td>\n",
       "      <td>discretize</td>\n",
       "      <td>59.87</td>\n",
       "      <td>1.41</td>\n",
       "      <td>0.00</td>\n",
       "      <td>0.144181</td>\n",
       "    </tr>\n",
       "    <tr>\n",
       "      <th>5</th>\n",
       "      <td>5</td>\n",
       "      <td>euclidean_distances</td>\n",
       "      <td>kmeans</td>\n",
       "      <td>59.77</td>\n",
       "      <td>0.94</td>\n",
       "      <td>0.00</td>\n",
       "      <td>0.163650</td>\n",
       "    </tr>\n",
       "    <tr>\n",
       "      <th>6</th>\n",
       "      <td>1</td>\n",
       "      <td>cosine_distances</td>\n",
       "      <td>kmeans</td>\n",
       "      <td>59.77</td>\n",
       "      <td>0.94</td>\n",
       "      <td>0.00</td>\n",
       "      <td>0.060408</td>\n",
       "    </tr>\n",
       "    <tr>\n",
       "      <th>7</th>\n",
       "      <td>0</td>\n",
       "      <td>cosine_distances</td>\n",
       "      <td>discretize</td>\n",
       "      <td>59.39</td>\n",
       "      <td>0.93</td>\n",
       "      <td>0.01</td>\n",
       "      <td>0.053590</td>\n",
       "    </tr>\n",
       "  </tbody>\n",
       "</table>\n",
       "</div>"
      ],
      "text/plain": [
       "   index               Metric AssignLabels  Accuracy     F1  V-Measure  \\\n",
       "0      6           rbf_kernel   discretize     59.77  55.70       0.03   \n",
       "1      3     laplacian_kernel       kmeans     40.13  33.58       0.03   \n",
       "2      2     laplacian_kernel   discretize     39.85  33.47       0.03   \n",
       "3      7           rbf_kernel       kmeans     41.19  31.01       0.03   \n",
       "4      4  euclidean_distances   discretize     59.87   1.41       0.00   \n",
       "5      5  euclidean_distances       kmeans     59.77   0.94       0.00   \n",
       "6      1     cosine_distances       kmeans     59.77   0.94       0.00   \n",
       "7      0     cosine_distances   discretize     59.39   0.93       0.01   \n",
       "\n",
       "   Silhouette  \n",
       "0         NaN  \n",
       "1         NaN  \n",
       "2         NaN  \n",
       "3         NaN  \n",
       "4    0.144181  \n",
       "5    0.163650  \n",
       "6    0.060408  \n",
       "7    0.053590  "
      ]
     },
     "execution_count": 122,
     "metadata": {},
     "output_type": "execute_result"
    }
   ],
   "source": [
    "columns = [\"Metric\", \"AssignLabels\", \"Accuracy\", \"F1\", \"V-Measure\", \"Silhouette\"]\n",
    "df = pd.DataFrame(validacoes, columns=columns)\n",
    "df = df.sort_values(by=[\"F1\", \"Accuracy\", \"V-Measure\", \"Silhouette\", \"Metric\"], ascending=False)\n",
    "df.reset_index().head(25)"
   ]
  },
  {
   "cell_type": "code",
   "execution_count": 121,
   "metadata": {
    "ExecuteTime": {
     "end_time": "2020-05-24T18:54:11.163007Z",
     "start_time": "2020-05-24T18:54:10.872638Z"
    }
   },
   "outputs": [
    {
     "data": {
      "image/png": "[encoded data removed]",
      "text/plain": [
       "<Figure size 432x288 with 2 Axes>"
      ]
     },
     "metadata": {
      "needs_background": "light"
     },
     "output_type": "display_data"
    }
   ],
   "source": [
    "X = n_textos\n",
    "y = textos[:, 1].astype(np.int).ravel()\n",
    "\n",
    "clustering = SpectralClustering(\n",
    "    n_clusters=2,\n",
    "    eigen_solver=\"amg\",\n",
    "    assign_labels=\"discretize\",\n",
    "    affinity=\"precomputed_nearest_neighbors\",\n",
    "    random_state=0,\n",
    "    n_jobs=-1\n",
    ").fit(rbf_kernel(X))\n",
    "\n",
    "pred = clustering.labels_\n",
    "df_cm = confusion_matrix(pred, y)\n",
    "plt.figure(figsize=(6, 4))\n",
    "sn.heatmap(df_cm, annot=True)\n",
    "plt.show()"
   ]
  },
  {
   "cell_type": "code",
   "execution_count": null,
   "metadata": {},
   "outputs": [],
   "source": []
  }
 ],
 "metadata": {
  "hide_input": false,
  "kernelspec": {
   "display_name": "Python 3",
   "language": "python",
   "name": "python3"
  },
  "language_info": {
   "codemirror_mode": {
    "name": "ipython",
    "version": 3
   },
   "file_extension": ".py",
   "mimetype": "text/x-python",
   "name": "python",
   "nbconvert_exporter": "python",
   "pygments_lexer": "ipython3",
   "version": "3.8.3"
  },
  "toc": {
   "base_numbering": 1,
   "nav_menu": {},
   "number_sections": true,
   "sideBar": true,
   "skip_h1_title": false,
   "title_cell": "Table of Contents",
   "title_sidebar": "Contents",
   "toc_cell": false,
   "toc_position": {},
   "toc_section_display": true,
   "toc_window_display": false
  }
 },
 "nbformat": 4,
 "nbformat_minor": 4
}
