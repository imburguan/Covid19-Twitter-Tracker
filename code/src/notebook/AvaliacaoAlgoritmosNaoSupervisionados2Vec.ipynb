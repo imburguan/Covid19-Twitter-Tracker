{
 "cells": [
  {
   "cell_type": "markdown",
   "metadata": {},
   "source": [
    "## Verificacao de Algoritmos\n",
    "\n",
    "Neste notebook sera verificado o uso do algoritmo Word2Vec e Doc2Vec juntamente com o algoritmo de clusterizacao Spectral Clustering para um \"treinamento\" nao supervisionado."
   ]
  },
  {
   "cell_type": "code",
   "execution_count": 1,
   "metadata": {
    "ExecuteTime": {
     "end_time": "2020-05-31T18:18:23.792886Z",
     "start_time": "2020-05-31T18:18:23.790344Z"
    }
   },
   "outputs": [],
   "source": [
    "import os\n",
    "import sys\n",
    "\n",
    "sys.path.append(f\"{os.getcwd()}/../\")"
   ]
  },
  {
   "cell_type": "code",
   "execution_count": 2,
   "metadata": {
    "ExecuteTime": {
     "end_time": "2020-05-31T18:18:30.035050Z",
     "start_time": "2020-05-31T18:18:24.668333Z"
    }
   },
   "outputs": [],
   "source": [
    "import random\n",
    "import warnings\n",
    "warnings.filterwarnings(\"ignore\")\n",
    "\n",
    "import numpy as np\n",
    "import pandas as pd\n",
    "import matplotlib.pyplot as plt\n",
    "import seaborn as sn\n",
    "\n",
    "from sklearn.metrics.pairwise import (\n",
    "    cosine_distances,\n",
    "    laplacian_kernel, \n",
    "    euclidean_distances, \n",
    "    sigmoid_kernel, \n",
    "    chi2_kernel,\n",
    "    polynomial_kernel,\n",
    "    rbf_kernel\n",
    ")\n",
    "from sklearn.metrics import classification_report\n",
    "from sklearn.preprocessing import MinMaxScaler, StandardScaler\n",
    "from sklearn.metrics import confusion_matrix, f1_score, accuracy_score, v_measure_score, silhouette_score\n",
    "from sklearn.model_selection import train_test_split\n",
    "from sklearn.feature_extraction.text import TfidfVectorizer, CountVectorizer\n",
    "from sklearn.cluster import SpectralClustering\n",
    "from sklearn.linear_model import LogisticRegression, SGDClassifier\n",
    "from sklearn.naive_bayes import GaussianNB\n",
    "from sklearn.ensemble import RandomForestClassifier\n",
    "from sklearn.ensemble import VotingClassifier\n",
    "\n",
    "from minisom import MiniSom\n",
    "from gensim.models import Word2Vec, Doc2Vec\n",
    "\n",
    "from processing.utils import CleanUp, RSLP_STEMMER, SNOWBALL_STEMMER, NLP_LEMMATIZER\n",
    "\n",
    "%matplotlib inline\n",
    "\n",
    "clean_up = CleanUp()"
   ]
  },
  {
   "cell_type": "code",
   "execution_count": 3,
   "metadata": {
    "ExecuteTime": {
     "end_time": "2020-05-31T18:18:31.906251Z",
     "start_time": "2020-05-31T18:18:30.036444Z"
    }
   },
   "outputs": [],
   "source": [
    "df = pd.read_csv(f\"{os.getcwd()}/../../data/dataset.csv\", sep=\"|\")\n",
    "df[\"x\"] = df[\"comentario\"].apply(lambda comment: clean_up.fit(str(comment)))\n",
    "df[\"y\"] = df[\"classificacao\"].apply(lambda clasf: 0 if clasf == \"negativo\" else 1)\n",
    "textos = df[[\"x\", \"y\"]].to_numpy()"
   ]
  },
  {
   "cell_type": "code",
   "execution_count": 4,
   "metadata": {
    "ExecuteTime": {
     "end_time": "2020-05-31T18:18:31.910770Z",
     "start_time": "2020-05-31T18:18:31.907795Z"
    }
   },
   "outputs": [
    {
     "name": "stdout",
     "output_type": "stream",
     "text": [
      "['gente acho que peguei corona' 1]\n",
      "2197\n"
     ]
    }
   ],
   "source": [
    "print(random.choice(textos))\n",
    "print(len(textos))"
   ]
  },
  {
   "cell_type": "markdown",
   "metadata": {},
   "source": [
    "### Unsupervised Learning : Word2Vec +  Spectral Clustering"
   ]
  },
  {
   "cell_type": "code",
   "execution_count": 5,
   "metadata": {
    "ExecuteTime": {
     "end_time": "2020-05-31T18:18:32.693417Z",
     "start_time": "2020-05-31T18:18:31.912017Z"
    }
   },
   "outputs": [
    {
     "name": "stdout",
     "output_type": "stream",
     "text": [
      "Palavras no vocab: 117145\n"
     ]
    }
   ],
   "source": [
    "w2v = Word2Vec.load(f\"{os.getcwd()}/../ai/models/w2v.model\")\n",
    "print(f\"Palavras no vocab: {len(list(w2v.wv.vocab))}\")\n",
    "\n",
    "# from gensim.models import KeyedVectors\n",
    "# model = KeyedVectors.load_word2vec_format(f\"{os.getcwd()}/../ai/models/skip_s300.txt\")"
   ]
  },
  {
   "cell_type": "code",
   "execution_count": 6,
   "metadata": {
    "ExecuteTime": {
     "end_time": "2020-05-31T18:18:32.879627Z",
     "start_time": "2020-05-31T18:18:32.695084Z"
    },
    "scrolled": false
   },
   "outputs": [],
   "source": [
    "n_textos = []\n",
    "for texto in textos:\n",
    "    doc = []\n",
    "    for palavra in texto[0].split():\n",
    "        try:\n",
    "            doc.append(w2v.wv[palavra])\n",
    "        except:\n",
    "            # print(palavra)\n",
    "            # doc.append(np.zeros((300, )))\n",
    "            pass\n",
    "    doc = np.mean(doc, axis=0)\n",
    "    n_textos.append(doc)\n",
    "n_textos = np.asarray(n_textos)"
   ]
  },
  {
   "cell_type": "code",
   "execution_count": 7,
   "metadata": {
    "ExecuteTime": {
     "end_time": "2020-05-31T18:18:57.148537Z",
     "start_time": "2020-05-31T18:18:33.465016Z"
    },
    "scrolled": false
   },
   "outputs": [],
   "source": [
    "validacoes = []\n",
    "\n",
    "X = n_textos\n",
    "y = textos[:, 1].astype(np.int).ravel()\n",
    "\n",
    "for metric in (\n",
    "    cosine_distances,\n",
    "    euclidean_distances, \n",
    "    sigmoid_kernel, \n",
    "    polynomial_kernel,\n",
    "    rbf_kernel,\n",
    "    laplacian_kernel,\n",
    "):\n",
    "    for assign_labels in [\"discretize\", \"kmeans\"]:\n",
    "        clustering = SpectralClustering(\n",
    "            n_clusters=2,\n",
    "            eigen_solver=\"amg\",\n",
    "            assign_labels=assign_labels,\n",
    "            affinity=\"precomputed_nearest_neighbors\",\n",
    "            random_state=0,\n",
    "            n_jobs=-1\n",
    "        ).fit(metric(X))\n",
    "\n",
    "        pred = clustering.labels_\n",
    "        acc = round(accuracy_score(pred, y) * 100, 2)\n",
    "        f1 = round(f1_score(pred, y) * 100, 2)\n",
    "        vm = round(v_measure_score(y, pred), 2)\n",
    "        validacoes.append((\n",
    "            metric.__name__,\n",
    "            assign_labels,\n",
    "            acc, \n",
    "            f1,\n",
    "            vm\n",
    "        ))"
   ]
  },
  {
   "cell_type": "code",
   "execution_count": 9,
   "metadata": {
    "ExecuteTime": {
     "end_time": "2020-05-31T18:21:07.423746Z",
     "start_time": "2020-05-31T18:21:07.410992Z"
    }
   },
   "outputs": [
    {
     "data": {
      "text/html": [
       "<div>\n",
       "<style scoped>\n",
       "    .dataframe tbody tr th:only-of-type {\n",
       "        vertical-align: middle;\n",
       "    }\n",
       "\n",
       "    .dataframe tbody tr th {\n",
       "        vertical-align: top;\n",
       "    }\n",
       "\n",
       "    .dataframe thead th {\n",
       "        text-align: right;\n",
       "    }\n",
       "</style>\n",
       "<table border=\"1\" class=\"dataframe\">\n",
       "  <thead>\n",
       "    <tr style=\"text-align: right;\">\n",
       "      <th></th>\n",
       "      <th>Metric</th>\n",
       "      <th>AssignLabels</th>\n",
       "      <th>Accuracy</th>\n",
       "      <th>F1</th>\n",
       "      <th>V-Measure</th>\n",
       "    </tr>\n",
       "  </thead>\n",
       "  <tbody>\n",
       "    <tr>\n",
       "      <th>10</th>\n",
       "      <td>laplacian_kernel</td>\n",
       "      <td>discretize</td>\n",
       "      <td>37.87</td>\n",
       "      <td>51.13</td>\n",
       "      <td>0.02</td>\n",
       "    </tr>\n",
       "    <tr>\n",
       "      <th>4</th>\n",
       "      <td>sigmoid_kernel</td>\n",
       "      <td>discretize</td>\n",
       "      <td>46.11</td>\n",
       "      <td>51.07</td>\n",
       "      <td>0.00</td>\n",
       "    </tr>\n",
       "    <tr>\n",
       "      <th>6</th>\n",
       "      <td>polynomial_kernel</td>\n",
       "      <td>discretize</td>\n",
       "      <td>46.06</td>\n",
       "      <td>51.05</td>\n",
       "      <td>0.00</td>\n",
       "    </tr>\n",
       "    <tr>\n",
       "      <th>9</th>\n",
       "      <td>rbf_kernel</td>\n",
       "      <td>kmeans</td>\n",
       "      <td>64.41</td>\n",
       "      <td>46.44</td>\n",
       "      <td>0.04</td>\n",
       "    </tr>\n",
       "    <tr>\n",
       "      <th>8</th>\n",
       "      <td>rbf_kernel</td>\n",
       "      <td>discretize</td>\n",
       "      <td>36.28</td>\n",
       "      <td>42.05</td>\n",
       "      <td>0.04</td>\n",
       "    </tr>\n",
       "    <tr>\n",
       "      <th>5</th>\n",
       "      <td>sigmoid_kernel</td>\n",
       "      <td>kmeans</td>\n",
       "      <td>54.71</td>\n",
       "      <td>33.53</td>\n",
       "      <td>0.00</td>\n",
       "    </tr>\n",
       "    <tr>\n",
       "      <th>7</th>\n",
       "      <td>polynomial_kernel</td>\n",
       "      <td>kmeans</td>\n",
       "      <td>54.67</td>\n",
       "      <td>33.42</td>\n",
       "      <td>0.00</td>\n",
       "    </tr>\n",
       "    <tr>\n",
       "      <th>11</th>\n",
       "      <td>laplacian_kernel</td>\n",
       "      <td>kmeans</td>\n",
       "      <td>60.22</td>\n",
       "      <td>10.45</td>\n",
       "      <td>0.00</td>\n",
       "    </tr>\n",
       "    <tr>\n",
       "      <th>2</th>\n",
       "      <td>euclidean_distances</td>\n",
       "      <td>discretize</td>\n",
       "      <td>60.63</td>\n",
       "      <td>2.48</td>\n",
       "      <td>0.01</td>\n",
       "    </tr>\n",
       "    <tr>\n",
       "      <th>3</th>\n",
       "      <td>euclidean_distances</td>\n",
       "      <td>kmeans</td>\n",
       "      <td>60.63</td>\n",
       "      <td>2.48</td>\n",
       "      <td>0.01</td>\n",
       "    </tr>\n",
       "    <tr>\n",
       "      <th>1</th>\n",
       "      <td>cosine_distances</td>\n",
       "      <td>kmeans</td>\n",
       "      <td>59.67</td>\n",
       "      <td>0.00</td>\n",
       "      <td>0.01</td>\n",
       "    </tr>\n",
       "    <tr>\n",
       "      <th>0</th>\n",
       "      <td>cosine_distances</td>\n",
       "      <td>discretize</td>\n",
       "      <td>59.63</td>\n",
       "      <td>0.00</td>\n",
       "      <td>0.01</td>\n",
       "    </tr>\n",
       "  </tbody>\n",
       "</table>\n",
       "</div>"
      ],
      "text/plain": [
       "                 Metric AssignLabels  Accuracy     F1  V-Measure\n",
       "10     laplacian_kernel   discretize     37.87  51.13       0.02\n",
       "4        sigmoid_kernel   discretize     46.11  51.07       0.00\n",
       "6     polynomial_kernel   discretize     46.06  51.05       0.00\n",
       "9            rbf_kernel       kmeans     64.41  46.44       0.04\n",
       "8            rbf_kernel   discretize     36.28  42.05       0.04\n",
       "5        sigmoid_kernel       kmeans     54.71  33.53       0.00\n",
       "7     polynomial_kernel       kmeans     54.67  33.42       0.00\n",
       "11     laplacian_kernel       kmeans     60.22  10.45       0.00\n",
       "2   euclidean_distances   discretize     60.63   2.48       0.01\n",
       "3   euclidean_distances       kmeans     60.63   2.48       0.01\n",
       "1      cosine_distances       kmeans     59.67   0.00       0.01\n",
       "0      cosine_distances   discretize     59.63   0.00       0.01"
      ]
     },
     "execution_count": 9,
     "metadata": {},
     "output_type": "execute_result"
    }
   ],
   "source": [
    "columns = [\"Metric\", \"AssignLabels\", \"Accuracy\", \"F1\", \"V-Measure\"]\n",
    "df = pd.DataFrame(validacoes, columns=columns)\n",
    "df = df.sort_values(by=[\"F1\", \"Accuracy\", \"V-Measure\", \"Metric\"], ascending=False)\n",
    "df.head(25)"
   ]
  },
  {
   "cell_type": "code",
   "execution_count": 13,
   "metadata": {
    "ExecuteTime": {
     "end_time": "2020-05-31T18:22:02.117811Z",
     "start_time": "2020-05-31T18:22:01.076130Z"
    }
   },
   "outputs": [
    {
     "name": "stdout",
     "output_type": "stream",
     "text": [
      "              precision    recall  f1-score   support\n",
      "\n",
      "           0       0.42      0.09      0.15      1321\n",
      "           1       0.37      0.82      0.51       876\n",
      "\n",
      "    accuracy                           0.38      2197\n",
      "   macro avg       0.40      0.45      0.33      2197\n",
      "weighted avg       0.40      0.38      0.29      2197\n",
      "\n"
     ]
    },
    {
     "data": {
      "image/png": "[encoded data removed]",
      "text/plain": [
       "<Figure size 432x288 with 2 Axes>"
      ]
     },
     "metadata": {
      "needs_background": "light"
     },
     "output_type": "display_data"
    }
   ],
   "source": [
    "X = n_textos\n",
    "y = textos[:, 1].astype(np.int).ravel()\n",
    "\n",
    "clustering = SpectralClustering(\n",
    "    n_clusters=2,\n",
    "    eigen_solver=\"amg\",\n",
    "    assign_labels=\"discretize\",\n",
    "    affinity=\"precomputed_nearest_neighbors\",\n",
    "    random_state=0,\n",
    "    n_jobs=-1\n",
    ").fit(laplacian_kernel(X))\n",
    "\n",
    "pred = clustering.labels_\n",
    "\n",
    "print(classification_report(y, pred))\n",
    "\n",
    "df_cm = confusion_matrix(pred, y)\n",
    "plt.figure(figsize=(6, 4))\n",
    "sn.heatmap(df_cm, annot=True, fmt=\"d\")\n",
    "plt.show()"
   ]
  },
  {
   "cell_type": "markdown",
   "metadata": {},
   "source": [
    "### Unsupervised Learning : Doc2Vec +  Spectral Clustering"
   ]
  },
  {
   "cell_type": "code",
   "execution_count": 14,
   "metadata": {
    "ExecuteTime": {
     "end_time": "2020-05-31T18:22:10.931340Z",
     "start_time": "2020-05-31T18:22:06.813139Z"
    }
   },
   "outputs": [],
   "source": [
    "d2v = Doc2Vec.load(f\"{os.getcwd()}/../ai/models/d2v.model\")"
   ]
  },
  {
   "cell_type": "code",
   "execution_count": 15,
   "metadata": {
    "ExecuteTime": {
     "end_time": "2020-05-31T18:23:07.001202Z",
     "start_time": "2020-05-31T18:22:10.932644Z"
    }
   },
   "outputs": [],
   "source": [
    "n_textos = []\n",
    "for texto in textos:\n",
    "    doc_vec = d2v.infer_vector(texto[0].split(), epochs=500)\n",
    "    n_textos.append(doc_vec)\n",
    "n_textos = np.asarray(n_textos)"
   ]
  },
  {
   "cell_type": "code",
   "execution_count": 16,
   "metadata": {
    "ExecuteTime": {
     "end_time": "2020-05-31T18:23:11.326986Z",
     "start_time": "2020-05-31T18:23:07.002780Z"
    }
   },
   "outputs": [],
   "source": [
    "validacoes = []\n",
    "\n",
    "X = n_textos\n",
    "y = textos[:, 1].astype(np.int).ravel()\n",
    "\n",
    "for metric in (\n",
    "    cosine_distances,\n",
    "    euclidean_distances, \n",
    "    rbf_kernel,\n",
    "    laplacian_kernel, \n",
    "):\n",
    "    for assign_labels in [\"discretize\", \"kmeans\"]:\n",
    "        clustering = SpectralClustering(\n",
    "            n_clusters=2,\n",
    "            eigen_solver=\"amg\",\n",
    "            assign_labels=assign_labels,\n",
    "            affinity=\"precomputed_nearest_neighbors\",\n",
    "            random_state=0,\n",
    "            n_jobs=-1\n",
    "        ).fit(metric(X))\n",
    "\n",
    "        pred = clustering.labels_\n",
    "        acc = round(accuracy_score(pred, y) * 100, 2)\n",
    "        f1 = round(f1_score(pred, y) * 100, 2)\n",
    "        vm = round(v_measure_score(y, pred), 2)\n",
    "        validacoes.append((\n",
    "            metric.__name__,\n",
    "            assign_labels,\n",
    "            acc, \n",
    "            f1,\n",
    "            vm\n",
    "        ))"
   ]
  },
  {
   "cell_type": "code",
   "execution_count": 17,
   "metadata": {
    "ExecuteTime": {
     "end_time": "2020-05-31T18:23:11.343249Z",
     "start_time": "2020-05-31T18:23:11.328390Z"
    }
   },
   "outputs": [
    {
     "data": {
      "text/html": [
       "<div>\n",
       "<style scoped>\n",
       "    .dataframe tbody tr th:only-of-type {\n",
       "        vertical-align: middle;\n",
       "    }\n",
       "\n",
       "    .dataframe tbody tr th {\n",
       "        vertical-align: top;\n",
       "    }\n",
       "\n",
       "    .dataframe thead th {\n",
       "        text-align: right;\n",
       "    }\n",
       "</style>\n",
       "<table border=\"1\" class=\"dataframe\">\n",
       "  <thead>\n",
       "    <tr style=\"text-align: right;\">\n",
       "      <th></th>\n",
       "      <th>index</th>\n",
       "      <th>Metric</th>\n",
       "      <th>AssignLabels</th>\n",
       "      <th>Accuracy</th>\n",
       "      <th>F1</th>\n",
       "      <th>V-Measure</th>\n",
       "    </tr>\n",
       "  </thead>\n",
       "  <tbody>\n",
       "    <tr>\n",
       "      <th>0</th>\n",
       "      <td>6</td>\n",
       "      <td>laplacian_kernel</td>\n",
       "      <td>discretize</td>\n",
       "      <td>46.84</td>\n",
       "      <td>23.46</td>\n",
       "      <td>0.02</td>\n",
       "    </tr>\n",
       "    <tr>\n",
       "      <th>1</th>\n",
       "      <td>4</td>\n",
       "      <td>rbf_kernel</td>\n",
       "      <td>discretize</td>\n",
       "      <td>50.07</td>\n",
       "      <td>19.28</td>\n",
       "      <td>0.02</td>\n",
       "    </tr>\n",
       "    <tr>\n",
       "      <th>2</th>\n",
       "      <td>7</td>\n",
       "      <td>laplacian_kernel</td>\n",
       "      <td>kmeans</td>\n",
       "      <td>51.16</td>\n",
       "      <td>17.14</td>\n",
       "      <td>0.02</td>\n",
       "    </tr>\n",
       "    <tr>\n",
       "      <th>3</th>\n",
       "      <td>5</td>\n",
       "      <td>rbf_kernel</td>\n",
       "      <td>kmeans</td>\n",
       "      <td>54.71</td>\n",
       "      <td>9.30</td>\n",
       "      <td>0.01</td>\n",
       "    </tr>\n",
       "    <tr>\n",
       "      <th>4</th>\n",
       "      <td>0</td>\n",
       "      <td>cosine_distances</td>\n",
       "      <td>discretize</td>\n",
       "      <td>59.44</td>\n",
       "      <td>2.41</td>\n",
       "      <td>0.00</td>\n",
       "    </tr>\n",
       "    <tr>\n",
       "      <th>5</th>\n",
       "      <td>1</td>\n",
       "      <td>cosine_distances</td>\n",
       "      <td>kmeans</td>\n",
       "      <td>59.49</td>\n",
       "      <td>1.33</td>\n",
       "      <td>0.00</td>\n",
       "    </tr>\n",
       "    <tr>\n",
       "      <th>6</th>\n",
       "      <td>2</td>\n",
       "      <td>euclidean_distances</td>\n",
       "      <td>discretize</td>\n",
       "      <td>59.40</td>\n",
       "      <td>0.89</td>\n",
       "      <td>0.00</td>\n",
       "    </tr>\n",
       "    <tr>\n",
       "      <th>7</th>\n",
       "      <td>3</td>\n",
       "      <td>euclidean_distances</td>\n",
       "      <td>kmeans</td>\n",
       "      <td>59.35</td>\n",
       "      <td>0.67</td>\n",
       "      <td>0.01</td>\n",
       "    </tr>\n",
       "  </tbody>\n",
       "</table>\n",
       "</div>"
      ],
      "text/plain": [
       "   index               Metric AssignLabels  Accuracy     F1  V-Measure\n",
       "0      6     laplacian_kernel   discretize     46.84  23.46       0.02\n",
       "1      4           rbf_kernel   discretize     50.07  19.28       0.02\n",
       "2      7     laplacian_kernel       kmeans     51.16  17.14       0.02\n",
       "3      5           rbf_kernel       kmeans     54.71   9.30       0.01\n",
       "4      0     cosine_distances   discretize     59.44   2.41       0.00\n",
       "5      1     cosine_distances       kmeans     59.49   1.33       0.00\n",
       "6      2  euclidean_distances   discretize     59.40   0.89       0.00\n",
       "7      3  euclidean_distances       kmeans     59.35   0.67       0.01"
      ]
     },
     "execution_count": 17,
     "metadata": {},
     "output_type": "execute_result"
    }
   ],
   "source": [
    "columns = [\"Metric\", \"AssignLabels\", \"Accuracy\", \"F1\", \"V-Measure\"]\n",
    "df = pd.DataFrame(validacoes, columns=columns)\n",
    "df = df.sort_values(by=[\"F1\", \"Accuracy\", \"V-Measure\", \"Metric\"], ascending=False)\n",
    "df.reset_index().head(25)"
   ]
  },
  {
   "cell_type": "code",
   "execution_count": 18,
   "metadata": {
    "ExecuteTime": {
     "end_time": "2020-05-31T18:23:30.594114Z",
     "start_time": "2020-05-31T18:23:30.166474Z"
    }
   },
   "outputs": [
    {
     "name": "stdout",
     "output_type": "stream",
     "text": [
      "              precision    recall  f1-score   support\n",
      "\n",
      "           0       0.57      0.73      0.64      1321\n",
      "           1       0.27      0.15      0.19       876\n",
      "\n",
      "    accuracy                           0.50      2197\n",
      "   macro avg       0.42      0.44      0.42      2197\n",
      "weighted avg       0.45      0.50      0.46      2197\n",
      "\n"
     ]
    },
    {
     "data": {
      "image/png": "[encoded data removed]",
      "text/plain": [
       "<Figure size 432x288 with 2 Axes>"
      ]
     },
     "metadata": {
      "needs_background": "light"
     },
     "output_type": "display_data"
    }
   ],
   "source": [
    "X = n_textos\n",
    "y = textos[:, 1].astype(np.int).ravel()\n",
    "\n",
    "clustering = SpectralClustering(\n",
    "    n_clusters=2,\n",
    "    eigen_solver=\"amg\",\n",
    "    assign_labels=\"discretize\",\n",
    "    affinity=\"precomputed_nearest_neighbors\",\n",
    "    random_state=0,\n",
    "    n_jobs=-1\n",
    ").fit(rbf_kernel(X))\n",
    "\n",
    "pred = clustering.labels_\n",
    "\n",
    "print(classification_report(y, pred))\n",
    "\n",
    "df_cm = confusion_matrix(pred, y)\n",
    "plt.figure(figsize=(6, 4))\n",
    "sn.heatmap(df_cm, annot=True, fmt=\"d\")\n",
    "plt.show()"
   ]
  },
  {
   "cell_type": "markdown",
   "metadata": {},
   "source": [
    "### Unsupervised Learning : Doc2Vec +  SOM"
   ]
  },
  {
   "cell_type": "code",
   "execution_count": 19,
   "metadata": {
    "ExecuteTime": {
     "end_time": "2020-05-31T18:23:37.678222Z",
     "start_time": "2020-05-31T18:23:37.674192Z"
    }
   },
   "outputs": [],
   "source": [
    "def classify(som, data, class_assignments):\n",
    "    \"\"\"Classifies each sample in data in one of the classes definited\n",
    "    using the method labels_map.\n",
    "    Returns a list of the same length of data where the i-th element\n",
    "    is the class assigned to data[i].\n",
    "    \"\"\"\n",
    "    winmap = class_assignments\n",
    "    default_class = np.sum(list(winmap.values())).most_common()[0][0]\n",
    "    result = []\n",
    "    for d in data:\n",
    "        win_position = som.winner(d)\n",
    "        if win_position in winmap:\n",
    "            result.append(winmap[win_position].most_common()[0][0])\n",
    "        else:\n",
    "            result.append(default_class)\n",
    "    return result"
   ]
  },
  {
   "cell_type": "code",
   "execution_count": 20,
   "metadata": {
    "ExecuteTime": {
     "end_time": "2020-05-31T18:24:31.529290Z",
     "start_time": "2020-05-31T18:23:38.258628Z"
    }
   },
   "outputs": [],
   "source": [
    "X = n_textos\n",
    "y = textos[:, 1].astype(np.int).ravel()\n",
    "\n",
    "X_train, X_test, y_train, y_test = train_test_split(X, y, test_size=0.2, random_state=0)\n",
    "\n",
    "som = MiniSom(150, 150, 300, activation_distance=\"cosine\", sigma=1e-1, learning_rate=1e-3)\n",
    "som.pca_weights_init(X_train)\n",
    "som.train_random(X_train, 1000)"
   ]
  },
  {
   "cell_type": "code",
   "execution_count": 21,
   "metadata": {
    "ExecuteTime": {
     "end_time": "2020-05-31T18:25:29.498652Z",
     "start_time": "2020-05-31T18:24:31.530854Z"
    }
   },
   "outputs": [
    {
     "name": "stdout",
     "output_type": "stream",
     "text": [
      "              precision    recall  f1-score   support\n",
      "\n",
      "           0       0.61      1.00      0.76       270\n",
      "           1       0.00      0.00      0.00       170\n",
      "\n",
      "    accuracy                           0.61       440\n",
      "   macro avg       0.31      0.50      0.38       440\n",
      "weighted avg       0.38      0.61      0.47       440\n",
      "\n"
     ]
    },
    {
     "data": {
      "image/png": "[encoded data removed]",
      "text/plain": [
       "<Figure size 432x288 with 2 Axes>"
      ]
     },
     "metadata": {
      "needs_background": "light"
     },
     "output_type": "display_data"
    }
   ],
   "source": [
    "class_assignments = som.labels_map(X_train, y_train)\n",
    "pred = classify(som, X_test, class_assignments)\n",
    "\n",
    "print(classification_report(y_test, pred))\n",
    "\n",
    "df_cm = confusion_matrix(pred, y_test)\n",
    "plt.figure(figsize=(6, 4))\n",
    "sn.heatmap(df_cm, annot=True, fmt=\"d\")\n",
    "plt.show()"
   ]
  },
  {
   "cell_type": "code",
   "execution_count": 22,
   "metadata": {
    "ExecuteTime": {
     "end_time": "2020-05-31T18:25:41.477503Z",
     "start_time": "2020-05-31T18:25:29.499971Z"
    },
    "scrolled": false
   },
   "outputs": [
    {
     "data": {
      "image/png": "[encoded data removed]",
      "text/plain": [
       "<Figure size 432x432 with 1 Axes>"
      ]
     },
     "metadata": {
      "needs_background": "light"
     },
     "output_type": "display_data"
    }
   ],
   "source": [
    "plt.figure(figsize=(6, 6))\n",
    "wmap = {}\n",
    "im = 0\n",
    "for x, t in zip(X_test, y_test):\n",
    "    w = som.winner(x)\n",
    "    wmap[w] = im\n",
    "    plt. text(w[0]+.5,  w[1]+.5, \"P\" if t == 1 else \"N\",\n",
    "              color=f\"C{t}\", fontdict={'weight': 'bold',  'size': 11})\n",
    "    im = im + 1\n",
    "plt.axis([0, som.get_weights().shape[0], 0,  som.get_weights().shape[1]])\n",
    "plt.show()"
   ]
  },
  {
   "cell_type": "markdown",
   "metadata": {},
   "source": [
    "### Supervised Learning : Doc2Vec + Logistic Regression"
   ]
  },
  {
   "cell_type": "code",
   "execution_count": 23,
   "metadata": {
    "ExecuteTime": {
     "end_time": "2020-05-31T18:25:58.798224Z",
     "start_time": "2020-05-31T18:25:46.208414Z"
    }
   },
   "outputs": [
    {
     "name": "stdout",
     "output_type": "stream",
     "text": [
      "              precision    recall  f1-score   support\n",
      "\n",
      "           0       0.74      0.63      0.68       270\n",
      "           1       0.53      0.65      0.58       170\n",
      "\n",
      "    accuracy                           0.64       440\n",
      "   macro avg       0.63      0.64      0.63       440\n",
      "weighted avg       0.66      0.64      0.64       440\n",
      "\n"
     ]
    },
    {
     "data": {
      "image/png": "[encoded data removed]",
      "text/plain": [
       "<Figure size 432x288 with 2 Axes>"
      ]
     },
     "metadata": {
      "needs_background": "light"
     },
     "output_type": "display_data"
    }
   ],
   "source": [
    "X = n_textos\n",
    "y = textos[:, 1].astype(np.int).ravel()\n",
    "\n",
    "X_train, X_test, y_train, y_test = train_test_split(X, y, test_size=0.2, random_state=0)\n",
    "\n",
    "clf = LogisticRegression(\n",
    "    random_state=0,\n",
    "    max_iter=100,\n",
    "    n_jobs=-1\n",
    ").fit(X_train, y_train)\n",
    "pred = clf.predict(X_test)\n",
    "\n",
    "print(classification_report(y_test, pred))\n",
    "\n",
    "df_cm = confusion_matrix(pred, y_test)\n",
    "plt.figure(figsize=(6, 4))\n",
    "sn.heatmap(df_cm, annot=True, fmt=\"d\")\n",
    "plt.tight_layout()\n",
    "plt.show()"
   ]
  },
  {
   "cell_type": "markdown",
   "metadata": {},
   "source": [
    "### Supervised Learning : Doc2Vec + Ensemble"
   ]
  },
  {
   "cell_type": "code",
   "execution_count": 24,
   "metadata": {
    "ExecuteTime": {
     "end_time": "2020-05-31T18:26:15.867252Z",
     "start_time": "2020-05-31T18:26:12.721750Z"
    }
   },
   "outputs": [
    {
     "name": "stdout",
     "output_type": "stream",
     "text": [
      "              precision    recall  f1-score   support\n",
      "\n",
      "           0       0.80      0.54      0.64       270\n",
      "           1       0.52      0.78      0.62       170\n",
      "\n",
      "    accuracy                           0.63       440\n",
      "   macro avg       0.66      0.66      0.63       440\n",
      "weighted avg       0.69      0.63      0.63       440\n",
      "\n"
     ]
    },
    {
     "data": {
      "image/png": "[encoded data removed]",
      "text/plain": [
       "<Figure size 432x288 with 2 Axes>"
      ]
     },
     "metadata": {
      "needs_background": "light"
     },
     "output_type": "display_data"
    }
   ],
   "source": [
    "X = n_textos\n",
    "y = textos[:, 1].astype(np.int).ravel()\n",
    "\n",
    "X_train, X_test, y_train, y_test = train_test_split(X, y, test_size=0.2, random_state=0)\n",
    "\n",
    "clf1 = LogisticRegression(random_state=0)\n",
    "clf2 = RandomForestClassifier(n_estimators=150, random_state=0)\n",
    "clf3 = GaussianNB()\n",
    "\n",
    "eclf = VotingClassifier(\n",
    "    estimators=[('lr', clf1), ('rf', clf2), ('gnb', clf3)],\n",
    "    voting='soft', weights=[2, 2, 1], n_jobs=-1\n",
    ").fit(X_train, y_train)\n",
    "pred = eclf.predict(X_test)\n",
    "\n",
    "print(classification_report(y_test, pred))\n",
    "\n",
    "df_cm = confusion_matrix(pred, y_test)\n",
    "plt.figure(figsize=(6, 4))\n",
    "sn.heatmap(df_cm, annot=True, fmt=\"d\")\n",
    "plt.tight_layout()\n",
    "plt.show()"
   ]
  },
  {
   "cell_type": "code",
   "execution_count": null,
   "metadata": {},
   "outputs": [],
   "source": []
  }
 ],
 "metadata": {
  "hide_input": false,
  "kernelspec": {
   "display_name": "Python 3",
   "language": "python",
   "name": "python3"
  },
  "language_info": {
   "codemirror_mode": {
    "name": "ipython",
    "version": 3
   },
   "file_extension": ".py",
   "mimetype": "text/x-python",
   "name": "python",
   "nbconvert_exporter": "python",
   "pygments_lexer": "ipython3",
   "version": "3.8.3"
  },
  "toc": {
   "base_numbering": 1,
   "nav_menu": {},
   "number_sections": true,
   "sideBar": true,
   "skip_h1_title": false,
   "title_cell": "Table of Contents",
   "title_sidebar": "Contents",
   "toc_cell": false,
   "toc_position": {},
   "toc_section_display": true,
   "toc_window_display": false
  }
 },
 "nbformat": 4,
 "nbformat_minor": 4
}
