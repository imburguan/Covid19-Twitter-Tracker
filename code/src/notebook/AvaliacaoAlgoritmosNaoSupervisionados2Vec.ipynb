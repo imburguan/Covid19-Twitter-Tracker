{
 "cells": [
  {
   "cell_type": "markdown",
   "metadata": {},
   "source": [
    "## Verificacao de Algoritmos\n",
    "\n",
    "Neste notebook sera verificado o uso do algoritmo Word2Vec e Doc2Vec juntamente com o algoritmo de clusterizacao Spectral Clustering para um \"treinamento\" nao supervisionado."
   ]
  },
  {
   "cell_type": "code",
   "execution_count": 1,
   "metadata": {
    "ExecuteTime": {
     "end_time": "2020-05-29T20:40:14.719645Z",
     "start_time": "2020-05-29T20:40:14.717615Z"
    }
   },
   "outputs": [],
   "source": [
    "import os\n",
    "import sys\n",
    "\n",
    "sys.path.append(f\"{os.getcwd()}/../\")"
   ]
  },
  {
   "cell_type": "code",
   "execution_count": 2,
   "metadata": {
    "ExecuteTime": {
     "end_time": "2020-05-29T20:40:18.884014Z",
     "start_time": "2020-05-29T20:40:14.720595Z"
    }
   },
   "outputs": [],
   "source": [
    "import random\n",
    "import warnings\n",
    "warnings.filterwarnings(\"ignore\")\n",
    "\n",
    "import numpy as np\n",
    "import pandas as pd\n",
    "import matplotlib.pyplot as plt\n",
    "import seaborn as sn\n",
    "\n",
    "from sklearn.metrics.pairwise import (\n",
    "    cosine_distances,\n",
    "    laplacian_kernel, \n",
    "    euclidean_distances, \n",
    "    sigmoid_kernel, \n",
    "    chi2_kernel,\n",
    "    polynomial_kernel,\n",
    "    rbf_kernel\n",
    ")\n",
    "from sklearn.metrics import classification_report\n",
    "from sklearn.preprocessing import MinMaxScaler, StandardScaler\n",
    "from sklearn.metrics import confusion_matrix, f1_score, accuracy_score, v_measure_score, silhouette_score\n",
    "from sklearn.model_selection import train_test_split\n",
    "from sklearn.feature_extraction.text import TfidfVectorizer, CountVectorizer\n",
    "from sklearn.cluster import SpectralClustering\n",
    "from sklearn.linear_model import LogisticRegression, SGDClassifier\n",
    "from sklearn.naive_bayes import GaussianNB\n",
    "from sklearn.ensemble import RandomForestClassifier\n",
    "from sklearn.ensemble import VotingClassifier\n",
    "\n",
    "from minisom import MiniSom\n",
    "from gensim.models import Word2Vec, Doc2Vec\n",
    "\n",
    "from processing.utils import CleanUp, RSLP_STEMMER, SNOWBALL_STEMMER, NLP_LEMMATIZER\n",
    "\n",
    "%matplotlib inline\n",
    "\n",
    "clean_up = CleanUp()"
   ]
  },
  {
   "cell_type": "code",
   "execution_count": 3,
   "metadata": {
    "ExecuteTime": {
     "end_time": "2020-05-29T20:40:19.889069Z",
     "start_time": "2020-05-29T20:40:18.885074Z"
    }
   },
   "outputs": [],
   "source": [
    "df = pd.read_csv(f\"{os.getcwd()}/../../data/dataset.csv\", sep=\"|\")\n",
    "df[\"x\"] = df[\"comentario\"].apply(lambda comment: clean_up.fit(str(comment)))\n",
    "df[\"y\"] = df[\"classificacao\"].apply(lambda clasf: 0 if clasf == \"negativo\" else 1)\n",
    "textos = df[[\"x\", \"y\"]].to_numpy()"
   ]
  },
  {
   "cell_type": "code",
   "execution_count": 4,
   "metadata": {
    "ExecuteTime": {
     "end_time": "2020-05-29T20:40:19.892865Z",
     "start_time": "2020-05-29T20:40:19.890155Z"
    }
   },
   "outputs": [
    {
     "name": "stdout",
     "output_type": "stream",
     "text": [
      "['nem entendendo essa febre' 1]\n",
      "2044\n"
     ]
    }
   ],
   "source": [
    "print(random.choice(textos))\n",
    "print(len(textos))"
   ]
  },
  {
   "cell_type": "markdown",
   "metadata": {},
   "source": [
    "### Unsupervised Learning : Word2Vec +  Spectral Clustering"
   ]
  },
  {
   "cell_type": "code",
   "execution_count": 5,
   "metadata": {
    "ExecuteTime": {
     "end_time": "2020-05-29T20:40:20.854221Z",
     "start_time": "2020-05-29T20:40:19.893904Z"
    }
   },
   "outputs": [
    {
     "name": "stdout",
     "output_type": "stream",
     "text": [
      "Palavras no vocab: 117145\n"
     ]
    }
   ],
   "source": [
    "w2v = Word2Vec.load(f\"{os.getcwd()}/../ai/models/w2v.model\")\n",
    "print(f\"Palavras no vocab: {len(list(w2v.wv.vocab))}\")\n",
    "\n",
    "# from gensim.models import KeyedVectors\n",
    "# model = KeyedVectors.load_word2vec_format(f\"{os.getcwd()}/../ai/models/skip_s300.txt\")"
   ]
  },
  {
   "cell_type": "code",
   "execution_count": 6,
   "metadata": {
    "ExecuteTime": {
     "end_time": "2020-05-29T20:40:20.953224Z",
     "start_time": "2020-05-29T20:40:20.856453Z"
    },
    "scrolled": false
   },
   "outputs": [],
   "source": [
    "n_textos = []\n",
    "for texto in textos:\n",
    "    doc = []\n",
    "    for palavra in texto[0].split():\n",
    "        try:\n",
    "            doc.append(w2v.wv[palavra])\n",
    "        except:\n",
    "            # print(palavra)\n",
    "            # doc.append(np.zeros((300, )))\n",
    "            pass\n",
    "    doc = np.mean(doc, axis=0)\n",
    "    n_textos.append(doc)\n",
    "n_textos = np.asarray(n_textos)"
   ]
  },
  {
   "cell_type": "code",
   "execution_count": 7,
   "metadata": {
    "ExecuteTime": {
     "end_time": "2020-05-29T20:40:26.100895Z",
     "start_time": "2020-05-29T20:40:20.954700Z"
    },
    "scrolled": false
   },
   "outputs": [],
   "source": [
    "validacoes = []\n",
    "\n",
    "X = n_textos\n",
    "y = textos[:, 1].astype(np.int).ravel()\n",
    "\n",
    "for metric in (\n",
    "    cosine_distances,\n",
    "    euclidean_distances, \n",
    "    sigmoid_kernel, \n",
    "    polynomial_kernel,\n",
    "    rbf_kernel,\n",
    "    laplacian_kernel,\n",
    "):\n",
    "    for assign_labels in [\"discretize\", \"kmeans\"]:\n",
    "        clustering = SpectralClustering(\n",
    "            n_clusters=2,\n",
    "            eigen_solver=\"amg\",\n",
    "            assign_labels=assign_labels,\n",
    "            affinity=\"precomputed_nearest_neighbors\",\n",
    "            random_state=0,\n",
    "            n_jobs=-1\n",
    "        ).fit(metric(X))\n",
    "\n",
    "        pred = clustering.labels_\n",
    "        acc = round(accuracy_score(pred, y) * 100, 2)\n",
    "        f1 = round(f1_score(pred, y) * 100, 2)\n",
    "        vm = round(v_measure_score(y, pred), 2)\n",
    "        validacoes.append((\n",
    "            metric.__name__,\n",
    "            assign_labels,\n",
    "            acc, \n",
    "            f1,\n",
    "            vm\n",
    "        ))"
   ]
  },
  {
   "cell_type": "code",
   "execution_count": 8,
   "metadata": {
    "ExecuteTime": {
     "end_time": "2020-05-29T20:40:26.118869Z",
     "start_time": "2020-05-29T20:40:26.101984Z"
    }
   },
   "outputs": [
    {
     "data": {
      "text/html": [
       "<div>\n",
       "<style scoped>\n",
       "    .dataframe tbody tr th:only-of-type {\n",
       "        vertical-align: middle;\n",
       "    }\n",
       "\n",
       "    .dataframe tbody tr th {\n",
       "        vertical-align: top;\n",
       "    }\n",
       "\n",
       "    .dataframe thead th {\n",
       "        text-align: right;\n",
       "    }\n",
       "</style>\n",
       "<table border=\"1\" class=\"dataframe\">\n",
       "  <thead>\n",
       "    <tr style=\"text-align: right;\">\n",
       "      <th></th>\n",
       "      <th>Metric</th>\n",
       "      <th>AssignLabels</th>\n",
       "      <th>Accuracy</th>\n",
       "      <th>F1</th>\n",
       "      <th>V-Measure</th>\n",
       "    </tr>\n",
       "  </thead>\n",
       "  <tbody>\n",
       "    <tr>\n",
       "      <th>10</th>\n",
       "      <td>laplacian_kernel</td>\n",
       "      <td>discretize</td>\n",
       "      <td>64.92</td>\n",
       "      <td>55.49</td>\n",
       "      <td>0.05</td>\n",
       "    </tr>\n",
       "    <tr>\n",
       "      <th>8</th>\n",
       "      <td>rbf_kernel</td>\n",
       "      <td>discretize</td>\n",
       "      <td>61.01</td>\n",
       "      <td>54.64</td>\n",
       "      <td>0.03</td>\n",
       "    </tr>\n",
       "    <tr>\n",
       "      <th>11</th>\n",
       "      <td>laplacian_kernel</td>\n",
       "      <td>kmeans</td>\n",
       "      <td>65.17</td>\n",
       "      <td>54.24</td>\n",
       "      <td>0.05</td>\n",
       "    </tr>\n",
       "    <tr>\n",
       "      <th>4</th>\n",
       "      <td>sigmoid_kernel</td>\n",
       "      <td>discretize</td>\n",
       "      <td>54.94</td>\n",
       "      <td>37.30</td>\n",
       "      <td>0.00</td>\n",
       "    </tr>\n",
       "    <tr>\n",
       "      <th>6</th>\n",
       "      <td>polynomial_kernel</td>\n",
       "      <td>discretize</td>\n",
       "      <td>54.94</td>\n",
       "      <td>37.30</td>\n",
       "      <td>0.00</td>\n",
       "    </tr>\n",
       "    <tr>\n",
       "      <th>5</th>\n",
       "      <td>sigmoid_kernel</td>\n",
       "      <td>kmeans</td>\n",
       "      <td>55.58</td>\n",
       "      <td>36.94</td>\n",
       "      <td>0.00</td>\n",
       "    </tr>\n",
       "    <tr>\n",
       "      <th>7</th>\n",
       "      <td>polynomial_kernel</td>\n",
       "      <td>kmeans</td>\n",
       "      <td>55.58</td>\n",
       "      <td>36.94</td>\n",
       "      <td>0.00</td>\n",
       "    </tr>\n",
       "    <tr>\n",
       "      <th>9</th>\n",
       "      <td>rbf_kernel</td>\n",
       "      <td>kmeans</td>\n",
       "      <td>38.85</td>\n",
       "      <td>33.72</td>\n",
       "      <td>0.03</td>\n",
       "    </tr>\n",
       "    <tr>\n",
       "      <th>2</th>\n",
       "      <td>euclidean_distances</td>\n",
       "      <td>discretize</td>\n",
       "      <td>61.64</td>\n",
       "      <td>2.73</td>\n",
       "      <td>0.01</td>\n",
       "    </tr>\n",
       "    <tr>\n",
       "      <th>3</th>\n",
       "      <td>euclidean_distances</td>\n",
       "      <td>kmeans</td>\n",
       "      <td>61.64</td>\n",
       "      <td>2.73</td>\n",
       "      <td>0.01</td>\n",
       "    </tr>\n",
       "    <tr>\n",
       "      <th>0</th>\n",
       "      <td>cosine_distances</td>\n",
       "      <td>discretize</td>\n",
       "      <td>60.13</td>\n",
       "      <td>0.00</td>\n",
       "      <td>0.01</td>\n",
       "    </tr>\n",
       "    <tr>\n",
       "      <th>1</th>\n",
       "      <td>cosine_distances</td>\n",
       "      <td>kmeans</td>\n",
       "      <td>60.13</td>\n",
       "      <td>0.00</td>\n",
       "      <td>0.01</td>\n",
       "    </tr>\n",
       "  </tbody>\n",
       "</table>\n",
       "</div>"
      ],
      "text/plain": [
       "                 Metric AssignLabels  Accuracy     F1  V-Measure\n",
       "10     laplacian_kernel   discretize     64.92  55.49       0.05\n",
       "8            rbf_kernel   discretize     61.01  54.64       0.03\n",
       "11     laplacian_kernel       kmeans     65.17  54.24       0.05\n",
       "4        sigmoid_kernel   discretize     54.94  37.30       0.00\n",
       "6     polynomial_kernel   discretize     54.94  37.30       0.00\n",
       "5        sigmoid_kernel       kmeans     55.58  36.94       0.00\n",
       "7     polynomial_kernel       kmeans     55.58  36.94       0.00\n",
       "9            rbf_kernel       kmeans     38.85  33.72       0.03\n",
       "2   euclidean_distances   discretize     61.64   2.73       0.01\n",
       "3   euclidean_distances       kmeans     61.64   2.73       0.01\n",
       "0      cosine_distances   discretize     60.13   0.00       0.01\n",
       "1      cosine_distances       kmeans     60.13   0.00       0.01"
      ]
     },
     "execution_count": 8,
     "metadata": {},
     "output_type": "execute_result"
    }
   ],
   "source": [
    "columns = [\"Metric\", \"AssignLabels\", \"Accuracy\", \"F1\", \"V-Measure\"]\n",
    "df = pd.DataFrame(validacoes, columns=columns)\n",
    "df = df.sort_values(by=[\"F1\", \"Accuracy\", \"V-Measure\", \"Metric\"], ascending=False)\n",
    "df.head(25)"
   ]
  },
  {
   "cell_type": "code",
   "execution_count": 9,
   "metadata": {
    "ExecuteTime": {
     "end_time": "2020-05-29T20:40:26.775031Z",
     "start_time": "2020-05-29T20:40:26.119947Z"
    }
   },
   "outputs": [
    {
     "name": "stdout",
     "output_type": "stream",
     "text": [
      "              precision    recall  f1-score   support\n",
      "\n",
      "           0       0.71      0.61      0.66      1249\n",
      "           1       0.50      0.60      0.55       795\n",
      "\n",
      "    accuracy                           0.61      2044\n",
      "   macro avg       0.60      0.61      0.60      2044\n",
      "weighted avg       0.63      0.61      0.61      2044\n",
      "\n"
     ]
    },
    {
     "data": {
      "image/png": "[encoded data removed]",
      "text/plain": [
       "<Figure size 432x288 with 2 Axes>"
      ]
     },
     "metadata": {
      "needs_background": "light"
     },
     "output_type": "display_data"
    }
   ],
   "source": [
    "X = n_textos\n",
    "y = textos[:, 1].astype(np.int).ravel()\n",
    "\n",
    "clustering = SpectralClustering(\n",
    "    n_clusters=2,\n",
    "    eigen_solver=\"amg\",\n",
    "    assign_labels=\"discretize\",\n",
    "    affinity=\"precomputed_nearest_neighbors\",\n",
    "    random_state=0,\n",
    "    n_jobs=-1\n",
    ").fit(rbf_kernel(X))\n",
    "\n",
    "pred = clustering.labels_\n",
    "\n",
    "print(classification_report(y, pred))\n",
    "\n",
    "df_cm = confusion_matrix(pred, y)\n",
    "plt.figure(figsize=(6, 4))\n",
    "sn.heatmap(df_cm, annot=True, fmt=\"d\")\n",
    "plt.show()"
   ]
  },
  {
   "cell_type": "markdown",
   "metadata": {},
   "source": [
    "### Unsupervised Learning : Doc2Vec +  Spectral Clustering"
   ]
  },
  {
   "cell_type": "code",
   "execution_count": 21,
   "metadata": {
    "ExecuteTime": {
     "end_time": "2020-05-29T23:39:49.699295Z",
     "start_time": "2020-05-29T23:39:47.840395Z"
    }
   },
   "outputs": [],
   "source": [
    "d2v = Doc2Vec.load(f\"{os.getcwd()}/../ai/models/d2v.model\")"
   ]
  },
  {
   "cell_type": "code",
   "execution_count": 36,
   "metadata": {
    "ExecuteTime": {
     "end_time": "2020-05-29T23:52:13.835956Z",
     "start_time": "2020-05-29T23:51:17.407797Z"
    }
   },
   "outputs": [],
   "source": [
    "n_textos = []\n",
    "for texto in textos:\n",
    "    doc_vec = d2v.infer_vector(texto[0].split(), epochs=500)\n",
    "    n_textos.append(doc_vec)\n",
    "n_textos = np.asarray(n_textos)"
   ]
  },
  {
   "cell_type": "code",
   "execution_count": 37,
   "metadata": {
    "ExecuteTime": {
     "end_time": "2020-05-29T23:52:18.066505Z",
     "start_time": "2020-05-29T23:52:13.837304Z"
    }
   },
   "outputs": [],
   "source": [
    "validacoes = []\n",
    "\n",
    "X = n_textos\n",
    "y = textos[:, 1].astype(np.int).ravel()\n",
    "\n",
    "for metric in (\n",
    "    cosine_distances,\n",
    "    euclidean_distances, \n",
    "    rbf_kernel,\n",
    "    laplacian_kernel, \n",
    "):\n",
    "    for assign_labels in [\"discretize\", \"kmeans\"]:\n",
    "        clustering = SpectralClustering(\n",
    "            n_clusters=2,\n",
    "            eigen_solver=\"amg\",\n",
    "            assign_labels=assign_labels,\n",
    "            affinity=\"precomputed_nearest_neighbors\",\n",
    "            random_state=0,\n",
    "            n_jobs=-1\n",
    "        ).fit(metric(X))\n",
    "\n",
    "        pred = clustering.labels_\n",
    "        acc = round(accuracy_score(pred, y) * 100, 2)\n",
    "        f1 = round(f1_score(pred, y) * 100, 2)\n",
    "        vm = round(v_measure_score(y, pred), 2)\n",
    "        validacoes.append((\n",
    "            metric.__name__,\n",
    "            assign_labels,\n",
    "            acc, \n",
    "            f1,\n",
    "            vm\n",
    "        ))"
   ]
  },
  {
   "cell_type": "code",
   "execution_count": 38,
   "metadata": {
    "ExecuteTime": {
     "end_time": "2020-05-29T23:52:18.085972Z",
     "start_time": "2020-05-29T23:52:18.067852Z"
    }
   },
   "outputs": [
    {
     "data": {
      "text/html": [
       "<div>\n",
       "<style scoped>\n",
       "    .dataframe tbody tr th:only-of-type {\n",
       "        vertical-align: middle;\n",
       "    }\n",
       "\n",
       "    .dataframe tbody tr th {\n",
       "        vertical-align: top;\n",
       "    }\n",
       "\n",
       "    .dataframe thead th {\n",
       "        text-align: right;\n",
       "    }\n",
       "</style>\n",
       "<table border=\"1\" class=\"dataframe\">\n",
       "  <thead>\n",
       "    <tr style=\"text-align: right;\">\n",
       "      <th></th>\n",
       "      <th>index</th>\n",
       "      <th>Metric</th>\n",
       "      <th>AssignLabels</th>\n",
       "      <th>Accuracy</th>\n",
       "      <th>F1</th>\n",
       "      <th>V-Measure</th>\n",
       "    </tr>\n",
       "  </thead>\n",
       "  <tbody>\n",
       "    <tr>\n",
       "      <th>0</th>\n",
       "      <td>4</td>\n",
       "      <td>rbf_kernel</td>\n",
       "      <td>discretize</td>\n",
       "      <td>54.31</td>\n",
       "      <td>58.45</td>\n",
       "      <td>0.03</td>\n",
       "    </tr>\n",
       "    <tr>\n",
       "      <th>1</th>\n",
       "      <td>6</td>\n",
       "      <td>laplacian_kernel</td>\n",
       "      <td>discretize</td>\n",
       "      <td>52.98</td>\n",
       "      <td>56.42</td>\n",
       "      <td>0.02</td>\n",
       "    </tr>\n",
       "    <tr>\n",
       "      <th>2</th>\n",
       "      <td>7</td>\n",
       "      <td>laplacian_kernel</td>\n",
       "      <td>kmeans</td>\n",
       "      <td>51.37</td>\n",
       "      <td>19.19</td>\n",
       "      <td>0.01</td>\n",
       "    </tr>\n",
       "    <tr>\n",
       "      <th>3</th>\n",
       "      <td>5</td>\n",
       "      <td>rbf_kernel</td>\n",
       "      <td>kmeans</td>\n",
       "      <td>47.02</td>\n",
       "      <td>17.64</td>\n",
       "      <td>0.03</td>\n",
       "    </tr>\n",
       "    <tr>\n",
       "      <th>4</th>\n",
       "      <td>0</td>\n",
       "      <td>cosine_distances</td>\n",
       "      <td>discretize</td>\n",
       "      <td>60.37</td>\n",
       "      <td>2.41</td>\n",
       "      <td>0.00</td>\n",
       "    </tr>\n",
       "    <tr>\n",
       "      <th>5</th>\n",
       "      <td>1</td>\n",
       "      <td>cosine_distances</td>\n",
       "      <td>kmeans</td>\n",
       "      <td>60.42</td>\n",
       "      <td>1.46</td>\n",
       "      <td>0.00</td>\n",
       "    </tr>\n",
       "    <tr>\n",
       "      <th>6</th>\n",
       "      <td>2</td>\n",
       "      <td>euclidean_distances</td>\n",
       "      <td>discretize</td>\n",
       "      <td>60.32</td>\n",
       "      <td>0.98</td>\n",
       "      <td>0.00</td>\n",
       "    </tr>\n",
       "    <tr>\n",
       "      <th>7</th>\n",
       "      <td>3</td>\n",
       "      <td>euclidean_distances</td>\n",
       "      <td>kmeans</td>\n",
       "      <td>60.32</td>\n",
       "      <td>0.98</td>\n",
       "      <td>0.00</td>\n",
       "    </tr>\n",
       "  </tbody>\n",
       "</table>\n",
       "</div>"
      ],
      "text/plain": [
       "   index               Metric AssignLabels  Accuracy     F1  V-Measure\n",
       "0      4           rbf_kernel   discretize     54.31  58.45       0.03\n",
       "1      6     laplacian_kernel   discretize     52.98  56.42       0.02\n",
       "2      7     laplacian_kernel       kmeans     51.37  19.19       0.01\n",
       "3      5           rbf_kernel       kmeans     47.02  17.64       0.03\n",
       "4      0     cosine_distances   discretize     60.37   2.41       0.00\n",
       "5      1     cosine_distances       kmeans     60.42   1.46       0.00\n",
       "6      2  euclidean_distances   discretize     60.32   0.98       0.00\n",
       "7      3  euclidean_distances       kmeans     60.32   0.98       0.00"
      ]
     },
     "execution_count": 38,
     "metadata": {},
     "output_type": "execute_result"
    }
   ],
   "source": [
    "columns = [\"Metric\", \"AssignLabels\", \"Accuracy\", \"F1\", \"V-Measure\"]\n",
    "df = pd.DataFrame(validacoes, columns=columns)\n",
    "df = df.sort_values(by=[\"F1\", \"Accuracy\", \"V-Measure\", \"Metric\"], ascending=False)\n",
    "df.reset_index().head(25)"
   ]
  },
  {
   "cell_type": "code",
   "execution_count": 39,
   "metadata": {
    "ExecuteTime": {
     "end_time": "2020-05-29T23:52:44.882112Z",
     "start_time": "2020-05-29T23:52:44.475358Z"
    }
   },
   "outputs": [
    {
     "name": "stdout",
     "output_type": "stream",
     "text": [
      "              precision    recall  f1-score   support\n",
      "\n",
      "           0       0.77      0.36      0.49      1249\n",
      "           1       0.45      0.83      0.58       795\n",
      "\n",
      "    accuracy                           0.54      2044\n",
      "   macro avg       0.61      0.59      0.54      2044\n",
      "weighted avg       0.64      0.54      0.53      2044\n",
      "\n"
     ]
    },
    {
     "data": {
      "image/png": "[encoded data removed]",
      "text/plain": [
       "<Figure size 432x288 with 2 Axes>"
      ]
     },
     "metadata": {
      "needs_background": "light"
     },
     "output_type": "display_data"
    }
   ],
   "source": [
    "X = n_textos\n",
    "y = textos[:, 1].astype(np.int).ravel()\n",
    "\n",
    "clustering = SpectralClustering(\n",
    "    n_clusters=2,\n",
    "    eigen_solver=\"amg\",\n",
    "    assign_labels=\"discretize\",\n",
    "    affinity=\"precomputed_nearest_neighbors\",\n",
    "    random_state=0,\n",
    "    n_jobs=-1\n",
    ").fit(rbf_kernel(X))\n",
    "\n",
    "pred = clustering.labels_\n",
    "\n",
    "print(classification_report(y, pred))\n",
    "\n",
    "df_cm = confusion_matrix(pred, y)\n",
    "plt.figure(figsize=(6, 4))\n",
    "sn.heatmap(df_cm, annot=True, fmt=\"d\")\n",
    "plt.show()"
   ]
  },
  {
   "cell_type": "markdown",
   "metadata": {},
   "source": [
    "### Unsupervised Learning : Doc2Vec +  SOM"
   ]
  },
  {
   "cell_type": "code",
   "execution_count": 40,
   "metadata": {
    "ExecuteTime": {
     "end_time": "2020-05-29T23:52:52.495058Z",
     "start_time": "2020-05-29T23:52:52.491623Z"
    }
   },
   "outputs": [],
   "source": [
    "def classify(som, data, class_assignments):\n",
    "    \"\"\"Classifies each sample in data in one of the classes definited\n",
    "    using the method labels_map.\n",
    "    Returns a list of the same length of data where the i-th element\n",
    "    is the class assigned to data[i].\n",
    "    \"\"\"\n",
    "    winmap = class_assignments\n",
    "    default_class = np.sum(list(winmap.values())).most_common()[0][0]\n",
    "    result = []\n",
    "    for d in data:\n",
    "        win_position = som.winner(d)\n",
    "        if win_position in winmap:\n",
    "            result.append(winmap[win_position].most_common()[0][0])\n",
    "        else:\n",
    "            result.append(default_class)\n",
    "    return result"
   ]
  },
  {
   "cell_type": "code",
   "execution_count": 44,
   "metadata": {
    "ExecuteTime": {
     "end_time": "2020-05-29T23:55:02.129754Z",
     "start_time": "2020-05-29T23:54:12.350228Z"
    }
   },
   "outputs": [],
   "source": [
    "X = n_textos\n",
    "y = textos[:, 1].astype(np.int).ravel()\n",
    "\n",
    "X_train, X_test, y_train, y_test = train_test_split(X, y, test_size=0.2, random_state=0)\n",
    "\n",
    "som = MiniSom(150, 150, 300, activation_distance=\"cosine\", sigma=1e-1, learning_rate=1e-3)\n",
    "som.pca_weights_init(X_train)\n",
    "som.train_random(X_train, 1000)"
   ]
  },
  {
   "cell_type": "code",
   "execution_count": 45,
   "metadata": {
    "ExecuteTime": {
     "end_time": "2020-05-29T23:55:48.847838Z",
     "start_time": "2020-05-29T23:55:02.131073Z"
    }
   },
   "outputs": [
    {
     "name": "stdout",
     "output_type": "stream",
     "text": [
      "              precision    recall  f1-score   support\n",
      "\n",
      "           0       0.62      1.00      0.77       255\n",
      "           1       0.00      0.00      0.00       154\n",
      "\n",
      "    accuracy                           0.62       409\n",
      "   macro avg       0.31      0.50      0.38       409\n",
      "weighted avg       0.39      0.62      0.48       409\n",
      "\n"
     ]
    },
    {
     "data": {
      "image/png": "[encoded data removed]",
      "text/plain": [
       "<Figure size 432x288 with 2 Axes>"
      ]
     },
     "metadata": {
      "needs_background": "light"
     },
     "output_type": "display_data"
    }
   ],
   "source": [
    "class_assignments = som.labels_map(X_train, y_train)\n",
    "pred = classify(som, X_test, class_assignments)\n",
    "\n",
    "print(classification_report(y_test, pred))\n",
    "\n",
    "df_cm = confusion_matrix(pred, y_test)\n",
    "plt.figure(figsize=(6, 4))\n",
    "sn.heatmap(df_cm, annot=True, fmt=\"d\")\n",
    "plt.show()"
   ]
  },
  {
   "cell_type": "code",
   "execution_count": 46,
   "metadata": {
    "ExecuteTime": {
     "end_time": "2020-05-29T23:55:58.582030Z",
     "start_time": "2020-05-29T23:55:48.849531Z"
    },
    "scrolled": false
   },
   "outputs": [
    {
     "data": {
      "image/png": "[encoded data removed]",
      "text/plain": [
       "<Figure size 432x432 with 1 Axes>"
      ]
     },
     "metadata": {
      "needs_background": "light"
     },
     "output_type": "display_data"
    }
   ],
   "source": [
    "plt.figure(figsize=(6, 6))\n",
    "wmap = {}\n",
    "im = 0\n",
    "for x, t in zip(X_test, y_test):\n",
    "    w = som.winner(x)\n",
    "    wmap[w] = im\n",
    "    plt. text(w[0]+.5,  w[1]+.5, \"P\" if t == 1 else \"N\",\n",
    "              color=f\"C{t}\", fontdict={'weight': 'bold',  'size': 11})\n",
    "    im = im + 1\n",
    "plt.axis([0, som.get_weights().shape[0], 0,  som.get_weights().shape[1]])\n",
    "plt.show()"
   ]
  },
  {
   "cell_type": "markdown",
   "metadata": {},
   "source": [
    "### Supervised Learning : Doc2Vec + Logistic Regression"
   ]
  },
  {
   "cell_type": "code",
   "execution_count": 47,
   "metadata": {
    "ExecuteTime": {
     "end_time": "2020-05-30T00:22:36.213437Z",
     "start_time": "2020-05-30T00:22:26.145560Z"
    }
   },
   "outputs": [
    {
     "name": "stdout",
     "output_type": "stream",
     "text": [
      "              precision    recall  f1-score   support\n",
      "\n",
      "           0       0.74      0.69      0.71       255\n",
      "           1       0.54      0.60      0.57       154\n",
      "\n",
      "    accuracy                           0.66       409\n",
      "   macro avg       0.64      0.64      0.64       409\n",
      "weighted avg       0.66      0.66      0.66       409\n",
      "\n"
     ]
    },
    {
     "data": {
      "image/png": "[encoded data removed]",
      "text/plain": [
       "<Figure size 432x288 with 2 Axes>"
      ]
     },
     "metadata": {
      "needs_background": "light"
     },
     "output_type": "display_data"
    }
   ],
   "source": [
    "X = n_textos\n",
    "y = textos[:, 1].astype(np.int).ravel()\n",
    "\n",
    "X_train, X_test, y_train, y_test = train_test_split(X, y, test_size=0.2, random_state=0)\n",
    "\n",
    "clf = LogisticRegression(\n",
    "    random_state=0,\n",
    "    max_iter=100,\n",
    "    n_jobs=-1\n",
    ").fit(X_train, y_train)\n",
    "pred = clf.predict(X_test)\n",
    "\n",
    "print(classification_report(y_test, pred))\n",
    "\n",
    "df_cm = confusion_matrix(pred, y_test)\n",
    "plt.figure(figsize=(6, 4))\n",
    "sn.heatmap(df_cm, annot=True, fmt=\"d\")\n",
    "plt.tight_layout()\n",
    "plt.show()"
   ]
  },
  {
   "cell_type": "markdown",
   "metadata": {},
   "source": [
    "### Supervised Learning : Doc2Vec + Ensemble"
   ]
  },
  {
   "cell_type": "code",
   "execution_count": 48,
   "metadata": {
    "ExecuteTime": {
     "end_time": "2020-05-30T00:22:40.845328Z",
     "start_time": "2020-05-30T00:22:36.929808Z"
    }
   },
   "outputs": [
    {
     "name": "stdout",
     "output_type": "stream",
     "text": [
      "              precision    recall  f1-score   support\n",
      "\n",
      "           0       0.77      0.62      0.69       255\n",
      "           1       0.52      0.70      0.60       154\n",
      "\n",
      "    accuracy                           0.65       409\n",
      "   macro avg       0.65      0.66      0.64       409\n",
      "weighted avg       0.68      0.65      0.65       409\n",
      "\n"
     ]
    },
    {
     "data": {
      "image/png": "[encoded data removed]",
      "text/plain": [
       "<Figure size 432x288 with 2 Axes>"
      ]
     },
     "metadata": {
      "needs_background": "light"
     },
     "output_type": "display_data"
    }
   ],
   "source": [
    "X = n_textos\n",
    "y = textos[:, 1].astype(np.int).ravel()\n",
    "\n",
    "X_train, X_test, y_train, y_test = train_test_split(X, y, test_size=0.2, random_state=0)\n",
    "\n",
    "clf1 = LogisticRegression(random_state=0)\n",
    "clf2 = RandomForestClassifier(n_estimators=150, random_state=0)\n",
    "clf3 = GaussianNB()\n",
    "\n",
    "eclf = VotingClassifier(\n",
    "    estimators=[('lr', clf1), ('rf', clf2), ('gnb', clf3)],\n",
    "    voting='soft', weights=[2, 2, 1], n_jobs=-1\n",
    ").fit(X_train, y_train)\n",
    "pred = eclf.predict(X_test)\n",
    "\n",
    "print(classification_report(y_test, pred))\n",
    "\n",
    "df_cm = confusion_matrix(pred, y_test)\n",
    "plt.figure(figsize=(6, 4))\n",
    "sn.heatmap(df_cm, annot=True, fmt=\"d\")\n",
    "plt.tight_layout()\n",
    "plt.show()"
   ]
  },
  {
   "cell_type": "code",
   "execution_count": null,
   "metadata": {},
   "outputs": [],
   "source": []
  }
 ],
 "metadata": {
  "hide_input": false,
  "kernelspec": {
   "display_name": "Python 3",
   "language": "python",
   "name": "python3"
  },
  "language_info": {
   "codemirror_mode": {
    "name": "ipython",
    "version": 3
   },
   "file_extension": ".py",
   "mimetype": "text/x-python",
   "name": "python",
   "nbconvert_exporter": "python",
   "pygments_lexer": "ipython3",
   "version": "3.8.3"
  },
  "toc": {
   "base_numbering": 1,
   "nav_menu": {},
   "number_sections": true,
   "sideBar": true,
   "skip_h1_title": false,
   "title_cell": "Table of Contents",
   "title_sidebar": "Contents",
   "toc_cell": false,
   "toc_position": {},
   "toc_section_display": true,
   "toc_window_display": false
  }
 },
 "nbformat": 4,
 "nbformat_minor": 4
}
