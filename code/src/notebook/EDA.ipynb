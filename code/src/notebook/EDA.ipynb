{
 "cells": [
  {
   "cell_type": "code",
   "execution_count": 19,
   "metadata": {
    "ExecuteTime": {
     "end_time": "2020-05-31T18:52:27.474034Z",
     "start_time": "2020-05-31T18:52:27.466148Z"
    }
   },
   "outputs": [],
   "source": [
    "import os\n",
    "import sys\n",
    "import pickle\n",
    "import random\n",
    "\n",
    "import numpy as np\n",
    "import pandas as pd\n",
    "import matplotlib.pyplot as plt\n",
    "\n",
    "sys.path.append(f\"{os.getcwd()}/../\")\n",
    "\n",
    "from processing.utils import CleanUp, SNOWBALL_STEMMER\n",
    "from database.models import RawHashtagComments, UserLocation\n",
    "\n",
    "%matplotlib inline\n",
    "\n",
    "normalizar = CleanUp(stemmer=SNOWBALL_STEMMER)"
   ]
  },
  {
   "cell_type": "code",
   "execution_count": 34,
   "metadata": {
    "ExecuteTime": {
     "end_time": "2020-05-31T18:57:28.267367Z",
     "start_time": "2020-05-31T18:57:26.519813Z"
    }
   },
   "outputs": [],
   "source": [
    "hashtags_ = pd.DataFrame(list(RawHashtagComments.select().dicts()))\n",
    "hashtags_ = hashtags_.drop([\"hash\"], axis=1)\n",
    "users_ = pd.DataFrame(list(UserLocation.select().dicts()))"
   ]
  },
  {
   "cell_type": "code",
   "execution_count": 61,
   "metadata": {
    "ExecuteTime": {
     "end_time": "2020-05-31T19:02:05.432004Z",
     "start_time": "2020-05-31T19:02:05.355980Z"
    }
   },
   "outputs": [
    {
     "name": "stdout",
     "output_type": "stream",
     "text": [
      "Qtde. de Comentarios            : 162866\n",
      "Qtde. de Comentarios positivos  : 66837\n",
      "Qtde. de Comentarios negativos  : 96029\n",
      "----------------------------------------\n",
      "Qtde. de Usuarios geolocalizados: 39148\n",
      "Qtde. de Usuarios em SP         : 7624\n"
     ]
    }
   ],
   "source": [
    "print(f\"Qtde. de Comentarios            : {len(hashtags_)}\")\n",
    "print(f\"Qtde. de Comentarios positivos  : {len(hashtags_[hashtags_['classify'] == 'positivo'])}\")\n",
    "print(f\"Qtde. de Comentarios negativos  : {len(hashtags_[hashtags_['classify'] == 'negativo'])}\")\n",
    "print(\"-\" * 40)\n",
    "print(f\"Qtde. de Usuarios geolocalizados: {len(users_)}\")\n",
    "print(f\"Qtde. de Usuarios em SP         : {len(users_[users_['state'] == 'SP'])}\")"
   ]
  },
  {
   "cell_type": "markdown",
   "metadata": {},
   "source": [
    "Exemplos de comentarios com suas classificacoes:"
   ]
  },
  {
   "cell_type": "code",
   "execution_count": 62,
   "metadata": {
    "ExecuteTime": {
     "end_time": "2020-05-31T19:02:07.946550Z",
     "start_time": "2020-05-31T19:02:07.935571Z"
    }
   },
   "outputs": [
    {
     "name": "stdout",
     "output_type": "stream",
     "text": [
      "- negativo <=> Em resposta a  @vilanovacaio1 Quando eu fecho os olhos eu fico com falta de ar.\n",
      "- positivo <=> febre, dor de cabeça forte, dor na costa e falta de apetite noite ótima\n",
      "- negativo <=> aquela dor de garganta por segurar o choro\n",
      "- negativo <=> Em resposta a  @ReinaldoLeandr8  @GabrielSpop  e  @felipeneto Quando vc estiver fodido na UTI, abra mão do seu respirador artificial. Além do mais, seria um prazer ver você morrendo com falta de ar.   Mongolóide!!!\n",
      "- negativo <=> To cm dor de garganta, tomara q eu tenha pegado corona de uma vez kkk\n"
     ]
    }
   ],
   "source": [
    "for idx, row in hashtags_.sample(n=5).iterrows():\n",
    "    print(f\"- {row.classify} <=> {row.comment}\")"
   ]
  },
  {
   "cell_type": "code",
   "execution_count": 106,
   "metadata": {
    "ExecuteTime": {
     "end_time": "2020-05-31T19:15:22.366386Z",
     "start_time": "2020-05-31T19:15:22.152601Z"
    }
   },
   "outputs": [
    {
     "data": {
      "image/png": "[encoded data removed]",
      "text/plain": [
       "<Figure size 576x432 with 1 Axes>"
      ]
     },
     "metadata": {
      "needs_background": "light"
     },
     "output_type": "display_data"
    }
   ],
   "source": [
    "# Pega todos os usuarios do estado de sao paulo\n",
    "# sp = users_[users_['state'] == 'SP'].copy()\n",
    "# Sem filtrar por estado...\n",
    "sp = users_.copy()\n",
    "sp['count'] = 1\n",
    "# filtra estes usuarios com comentarios identificados como positivo\n",
    "nsp = hashtags_[(hashtags_['username'].isin(sp['username'])) & (hashtags_['classify'] == 'positivo')]['username']\n",
    "# Tendo os usuarios com comentarios positivos filtra novamente\n",
    "sp = sp[sp['username'].isin(nsp)]\n",
    "# Agrupa e soma a quantidade por cidade do estado de sao paulo\n",
    "sp = sp.groupby(['city']).sum().reset_index()[['city', 'count']].sort_values(by=['count'], ascending=False)\n",
    "# Grafico\n",
    "plt.figure(figsize=(8, 6))\n",
    "plt.bar(sp['city'][:10], sp['count'][:10])\n",
    "plt.xticks(rotation=90)\n",
    "plt.tight_layout()\n",
    "plt.show()"
   ]
  },
  {
   "cell_type": "code",
   "execution_count": null,
   "metadata": {},
   "outputs": [],
   "source": []
  }
 ],
 "metadata": {
  "hide_input": false,
  "kernelspec": {
   "display_name": "Python 3",
   "language": "python",
   "name": "python3"
  },
  "language_info": {
   "codemirror_mode": {
    "name": "ipython",
    "version": 3
   },
   "file_extension": ".py",
   "mimetype": "text/x-python",
   "name": "python",
   "nbconvert_exporter": "python",
   "pygments_lexer": "ipython3",
   "version": "3.8.3"
  },
  "toc": {
   "base_numbering": 1,
   "nav_menu": {},
   "number_sections": true,
   "sideBar": true,
   "skip_h1_title": false,
   "title_cell": "Table of Contents",
   "title_sidebar": "Contents",
   "toc_cell": false,
   "toc_position": {},
   "toc_section_display": true,
   "toc_window_display": false
  }
 },
 "nbformat": 4,
 "nbformat_minor": 4
}
