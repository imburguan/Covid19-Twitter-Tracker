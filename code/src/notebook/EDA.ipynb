{
 "cells": [
  {
   "cell_type": "code",
   "execution_count": 6,
   "metadata": {
    "ExecuteTime": {
     "end_time": "2020-06-03T21:11:59.329068Z",
     "start_time": "2020-06-03T21:11:58.913824Z"
    }
   },
   "outputs": [],
   "source": [
    "import os\n",
    "import sys\n",
    "import pickle\n",
    "import random\n",
    "\n",
    "import numpy as np\n",
    "import pandas as pd\n",
    "import matplotlib.pyplot as plt\n",
    "\n",
    "sys.path.append(f\"{os.getcwd()}/../\")\n",
    "\n",
    "from processing.utils import CleanUp, SNOWBALL_STEMMER\n",
    "from database.models import RawHashtagComments, UserLocation\n",
    "\n",
    "%matplotlib inline\n",
    "\n",
    "normalizar = CleanUp(stemmer=SNOWBALL_STEMMER)"
   ]
  },
  {
   "cell_type": "code",
   "execution_count": 7,
   "metadata": {
    "ExecuteTime": {
     "end_time": "2020-06-03T21:12:09.118900Z",
     "start_time": "2020-06-03T21:11:59.337031Z"
    }
   },
   "outputs": [],
   "source": [
    "hashtags_ = pd.DataFrame(list(RawHashtagComments.select().dicts()))\n",
    "hashtags_ = hashtags_.drop([\"hash\"], axis=1)\n",
    "users_ = pd.DataFrame(list(UserLocation.select().dicts()))"
   ]
  },
  {
   "cell_type": "code",
   "execution_count": 8,
   "metadata": {
    "ExecuteTime": {
     "end_time": "2020-06-03T21:12:09.536294Z",
     "start_time": "2020-06-03T21:12:09.120817Z"
    }
   },
   "outputs": [
    {
     "name": "stdout",
     "output_type": "stream",
     "text": [
      "Qtde. de Comentarios            : 171240\n",
      "Qtde. de Comentarios positivos  : 74172\n",
      "Qtde. de Comentarios negativos  : 97068\n",
      "----------------------------------------\n",
      "Qtde. de Usuarios geolocalizados: 41790\n",
      "Qtde. de Usuarios em SP         : 8190\n"
     ]
    }
   ],
   "source": [
    "print(f\"Qtde. de Comentarios            : {len(hashtags_)}\")\n",
    "print(f\"Qtde. de Comentarios positivos  : {len(hashtags_[hashtags_['classify'] == 'positivo'])}\")\n",
    "print(f\"Qtde. de Comentarios negativos  : {len(hashtags_[hashtags_['classify'] == 'negativo'])}\")\n",
    "print(\"-\" * 40)\n",
    "print(f\"Qtde. de Usuarios geolocalizados: {len(users_)}\")\n",
    "print(f\"Qtde. de Usuarios em SP         : {len(users_[users_['state'] == 'SP'])}\")"
   ]
  },
  {
   "cell_type": "markdown",
   "metadata": {},
   "source": [
    "Exemplos de comentarios com suas classificacoes:"
   ]
  },
  {
   "cell_type": "code",
   "execution_count": 12,
   "metadata": {
    "ExecuteTime": {
     "end_time": "2020-06-03T21:12:16.839052Z",
     "start_time": "2020-06-03T21:12:16.813655Z"
    }
   },
   "outputs": [
    {
     "name": "stdout",
     "output_type": "stream",
     "text": [
      "- negativo => Mano quando e se as aulas voltarem vainser um inferno pra quem tem rinite Pq porra é so uma coriza mas ne vao me expulsar da facul por achar q é covid\n",
      "- positivo => Bom, estou resfriada e com a garganta inflamada, dores de cabeça e etc... será que estou com covid-19?\n",
      "- positivo => Estou com a rinite atacada ou estou com covid?\n",
      "- positivo => Maior falta de ar\n",
      "- negativo => coração acelerado, falta de ar e irritação e vamos dar início a esse sextou\n"
     ]
    }
   ],
   "source": [
    "for idx, row in hashtags_.sample(n=5).iterrows():\n",
    "    print(f\"- {row.classify} => {row.comment}\")"
   ]
  },
  {
   "cell_type": "code",
   "execution_count": 13,
   "metadata": {
    "ExecuteTime": {
     "end_time": "2020-06-03T21:12:34.606753Z",
     "start_time": "2020-06-03T21:12:34.391202Z"
    }
   },
   "outputs": [
    {
     "data": {
      "image/png": "[encoded data removed]",
      "text/plain": [
       "<Figure size 576x432 with 1 Axes>"
      ]
     },
     "metadata": {
      "needs_background": "light"
     },
     "output_type": "display_data"
    }
   ],
   "source": [
    "# Pega todos os usuarios do estado de sao paulo\n",
    "# sp = users_[users_['state'] == 'SP'].copy()\n",
    "# Sem filtrar por estado...\n",
    "sp = users_.copy()\n",
    "sp['count'] = 1\n",
    "# filtra estes usuarios com comentarios identificados como positivo\n",
    "nsp = hashtags_[(hashtags_['username'].isin(sp['username'])) & (hashtags_['classify'] == 'positivo')]['username']\n",
    "# Tendo os usuarios com comentarios positivos filtra novamente\n",
    "sp = sp[sp['username'].isin(nsp)]\n",
    "# Agrupa e soma a quantidade por cidade do estado de sao paulo\n",
    "sp = sp.groupby(['city']).sum().reset_index()[['city', 'count']].sort_values(by=['count'], ascending=False)\n",
    "# Grafico\n",
    "plt.figure(figsize=(8, 6))\n",
    "plt.bar(sp['city'][:10], sp['count'][:10])\n",
    "plt.xticks(rotation=90)\n",
    "plt.tight_layout()\n",
    "plt.show()"
   ]
  },
  {
   "cell_type": "code",
   "execution_count": null,
   "metadata": {},
   "outputs": [],
   "source": []
  }
 ],
 "metadata": {
  "hide_input": false,
  "kernelspec": {
   "display_name": "Python 3",
   "language": "python",
   "name": "python3"
  },
  "language_info": {
   "codemirror_mode": {
    "name": "ipython",
    "version": 3
   },
   "file_extension": ".py",
   "mimetype": "text/x-python",
   "name": "python",
   "nbconvert_exporter": "python",
   "pygments_lexer": "ipython3",
   "version": "3.8.3"
  },
  "toc": {
   "base_numbering": 1,
   "nav_menu": {},
   "number_sections": true,
   "sideBar": true,
   "skip_h1_title": false,
   "title_cell": "Table of Contents",
   "title_sidebar": "Contents",
   "toc_cell": false,
   "toc_position": {},
   "toc_section_display": true,
   "toc_window_display": false
  }
 },
 "nbformat": 4,
 "nbformat_minor": 4
}
