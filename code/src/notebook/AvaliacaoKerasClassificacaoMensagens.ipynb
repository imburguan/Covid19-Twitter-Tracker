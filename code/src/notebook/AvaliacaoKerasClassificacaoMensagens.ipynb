{
 "cells": [
  {
   "cell_type": "code",
   "execution_count": 1,
   "metadata": {
    "ExecuteTime": {
     "end_time": "2020-05-31T18:24:05.458892Z",
     "start_time": "2020-05-31T18:24:05.456288Z"
    }
   },
   "outputs": [],
   "source": [
    "import os\n",
    "import sys\n",
    "\n",
    "sys.path.append(f\"{os.getcwd()}/../\")"
   ]
  },
  {
   "cell_type": "code",
   "execution_count": 2,
   "metadata": {
    "ExecuteTime": {
     "end_time": "2020-05-31T18:24:16.549559Z",
     "start_time": "2020-05-31T18:24:05.724900Z"
    }
   },
   "outputs": [
    {
     "name": "stderr",
     "output_type": "stream",
     "text": [
      "Using TensorFlow backend.\n"
     ]
    },
    {
     "name": "stdout",
     "output_type": "stream",
     "text": [
      "Num GPUs Available:  1\n"
     ]
    }
   ],
   "source": [
    "from collections import defaultdict\n",
    "import random\n",
    "import warnings\n",
    "warnings.filterwarnings(\"ignore\")\n",
    "\n",
    "import numpy as np\n",
    "import pandas as pd\n",
    "import matplotlib.pyplot as plt\n",
    "import seaborn as sn\n",
    "\n",
    "from sklearn.model_selection import train_test_split\n",
    "from sklearn.linear_model import LogisticRegression, RidgeClassifier, SGDClassifier\n",
    "\n",
    "from gensim.models import Word2Vec, Doc2Vec\n",
    "\n",
    "import tensorflow as tf\n",
    "from keras.utils import to_categorical\n",
    "from tensorflow.keras.models import Sequential\n",
    "from tensorflow.keras.layers import (\n",
    "    Dense, Dropout, Activation, Bidirectional, \n",
    "    LSTM, GRU, Embedding, SpatialDropout1D, GlobalMaxPooling1D, \n",
    "    GlobalAveragePooling1D, Conv1D, TimeDistributed, MaxPool1D, Flatten\n",
    ")\n",
    "from tensorflow.compat.v1.keras.layers import CuDNNLSTM \n",
    "from keras.preprocessing.text import Tokenizer\n",
    "from keras.preprocessing.sequence import pad_sequences\n",
    "\n",
    "from processing.utils import CleanUp, RSLP_STEMMER, SNOWBALL_STEMMER, NLP_LEMMATIZER\n",
    "\n",
    "%matplotlib inline\n",
    "\n",
    "clean_up = CleanUp()\n",
    "\n",
    "print(\"Num GPUs Available: \", len(tf.config.experimental.list_physical_devices(\"GPU\")))"
   ]
  },
  {
   "cell_type": "code",
   "execution_count": 3,
   "metadata": {
    "ExecuteTime": {
     "end_time": "2020-05-31T18:24:16.636151Z",
     "start_time": "2020-05-31T18:24:16.551021Z"
    }
   },
   "outputs": [
    {
     "name": "stdout",
     "output_type": "stream",
     "text": [
      "Device mapping:\n",
      "/job:localhost/replica:0/task:0/device:XLA_CPU:0 -> device: XLA_CPU device\n",
      "/job:localhost/replica:0/task:0/device:XLA_GPU:0 -> device: XLA_GPU device\n",
      "/job:localhost/replica:0/task:0/device:GPU:0 -> device: 0, name: GeForce GTX 1060 with Max-Q Design, pci bus id: 0000:01:00.0, compute capability: 6.1\n",
      "\n"
     ]
    }
   ],
   "source": [
    "sess = tf.compat.v1.Session(config=tf.compat.v1.ConfigProto(log_device_placement=True))"
   ]
  },
  {
   "cell_type": "code",
   "execution_count": 24,
   "metadata": {
    "ExecuteTime": {
     "end_time": "2020-05-31T18:27:38.210918Z",
     "start_time": "2020-05-31T18:27:38.208520Z"
    }
   },
   "outputs": [],
   "source": [
    "classes = 2\n",
    "max_words = 20000\n",
    "maxlen = 32\n",
    "batch_size = 128\n",
    "epochs = 30"
   ]
  },
  {
   "cell_type": "code",
   "execution_count": 25,
   "metadata": {
    "ExecuteTime": {
     "end_time": "2020-05-31T18:27:40.365928Z",
     "start_time": "2020-05-31T18:27:38.906557Z"
    }
   },
   "outputs": [],
   "source": [
    "df = pd.read_csv(f\"{os.getcwd()}/../../data/dataset.csv\", sep=\"|\")\n",
    "df[\"x\"] = df[\"comentario\"].apply(lambda comment: clean_up.fit(str(comment)))\n",
    "df[\"y\"] = df[\"classificacao\"].apply(lambda clasf: 0 if clasf == \"negativo\" else 1)\n",
    "textos = df[[\"x\", \"y\"]].to_numpy()"
   ]
  },
  {
   "cell_type": "code",
   "execution_count": 26,
   "metadata": {
    "ExecuteTime": {
     "end_time": "2020-05-31T18:27:40.369715Z",
     "start_time": "2020-05-31T18:27:40.367141Z"
    }
   },
   "outputs": [
    {
     "name": "stdout",
     "output_type": "stream",
     "text": [
      "['nao sei febre mas ando constantemente com sono chega ser insuportavel' 1]\n",
      "2197\n"
     ]
    }
   ],
   "source": [
    "print(random.choice(textos))\n",
    "print(len(textos))\n",
    "# print(df[df['x'] == ''].index)\n",
    "# print(df.loc[250])"
   ]
  },
  {
   "cell_type": "code",
   "execution_count": 27,
   "metadata": {
    "ExecuteTime": {
     "end_time": "2020-05-31T18:27:40.560729Z",
     "start_time": "2020-05-31T18:27:40.370978Z"
    }
   },
   "outputs": [],
   "source": [
    "# word_counts = defaultdict(int)\n",
    "# for phrases in textos[:, 0]:\n",
    "#     for word in phrases.split():\n",
    "#         word_counts[word] += 1\n",
    "# v_count = len(word_counts.keys())\n",
    "# words_list = list(word_counts.keys())\n",
    "# word_index = dict((word, i) for i, word in enumerate(words_list))\n",
    "\n",
    "# X = []\n",
    "# for phrases in textos[:, 0]:\n",
    "#     xp = []\n",
    "#     for word in phrases.split():\n",
    "#         xp.append(word_index[word])\n",
    "#     X.append(xp)\n",
    "# y = textos[:, 1].astype(np.int).ravel()\n",
    "# y = to_categorical(y, classes)\n",
    "\n",
    "# X_train, X_test, y_train, y_test = train_test_split(X, y, test_size=0.3, random_state=0)\n",
    "\n",
    "# tokenizer = Tokenizer(num_words=max_words)\n",
    "# X_train = tokenizer.sequences_to_matrix(X_train, mode='binary')\n",
    "# X_test = tokenizer.sequences_to_matrix(X_test, mode='binary')"
   ]
  },
  {
   "cell_type": "code",
   "execution_count": 28,
   "metadata": {
    "ExecuteTime": {
     "end_time": "2020-05-31T18:27:40.891636Z",
     "start_time": "2020-05-31T18:27:40.562153Z"
    }
   },
   "outputs": [
    {
     "data": {
      "text/plain": [
       "65.0"
      ]
     },
     "execution_count": 28,
     "metadata": {},
     "output_type": "execute_result"
    }
   ],
   "source": [
    "X = textos[:, 0]\n",
    "y = textos[:, 1].astype(np.int).ravel()\n",
    "\n",
    "X_train, X_test, y_train, y_test = train_test_split(X, y, test_size=0.2, random_state=0)\n",
    "\n",
    "tokenizer = Tokenizer(num_words=max_words, lower=True, char_level=False)\n",
    "tokenizer.fit_on_texts(X)\n",
    "X_train = tokenizer.texts_to_sequences(X_train)\n",
    "X_test = tokenizer.texts_to_sequences(X_test)\n",
    "\n",
    "vocab_size = len(tokenizer.word_index) + 1\n",
    "X_train = pad_sequences(X_train, maxlen=maxlen)\n",
    "X_test = pad_sequences(X_test, maxlen=maxlen)\n",
    "\n",
    "clf = LogisticRegression(\n",
    "    random_state=0\n",
    ").fit(X_train, y_train)\n",
    "pred = clf.predict(X_test)\n",
    "\n",
    "round(np.mean(y_test == pred) * 100)"
   ]
  },
  {
   "cell_type": "code",
   "execution_count": 29,
   "metadata": {
    "ExecuteTime": {
     "end_time": "2020-05-31T18:27:41.057383Z",
     "start_time": "2020-05-31T18:27:40.893705Z"
    }
   },
   "outputs": [],
   "source": [
    "X = textos[:, 0]\n",
    "y = textos[:, 1].astype(np.int).ravel()\n",
    "y = to_categorical(y, classes)\n",
    "\n",
    "X_train, X_test, y_train, y_test = train_test_split(X, y, test_size=0.2, random_state=0)\n",
    "\n",
    "tokenizer = Tokenizer(num_words=max_words, lower=True, char_level=False)\n",
    "tokenizer.fit_on_texts(X)\n",
    "X_train = tokenizer.texts_to_sequences(X_train)\n",
    "X_test = tokenizer.texts_to_sequences(X_test)\n",
    "\n",
    "vocab_size = len(tokenizer.word_index) + 1\n",
    "X_train = pad_sequences(X_train, maxlen=maxlen)\n",
    "X_test = pad_sequences(X_test, maxlen=maxlen)"
   ]
  },
  {
   "cell_type": "code",
   "execution_count": 30,
   "metadata": {
    "ExecuteTime": {
     "end_time": "2020-05-31T18:27:42.584665Z",
     "start_time": "2020-05-31T18:27:41.058801Z"
    }
   },
   "outputs": [
    {
     "name": "stdout",
     "output_type": "stream",
     "text": [
      "Found 6112 word vectors.\n"
     ]
    }
   ],
   "source": [
    "word_index = tokenizer.word_index\n",
    "\n",
    "embeddings_index = {}\n",
    "w2v = Word2Vec.load(f\"{os.getcwd()}/../ai/models/w2v.model\")\n",
    "\n",
    "for phrase in X:\n",
    "    for word in phrase.split():\n",
    "        try:\n",
    "            embeddings_index[word] = w2v.wv[word]\n",
    "        except:\n",
    "            embeddings_index[word] = np.zeros(300, )\n",
    "print('Found %s word vectors.' % len(embeddings_index))\n",
    "\n",
    "embedding_matrix = np.zeros((len(word_index) + 1, 300))\n",
    "for word, i in word_index.items():\n",
    "    embedding_vector = embeddings_index.get(word)\n",
    "    if embedding_vector is not None:\n",
    "        embedding_matrix[i] = embedding_vector"
   ]
  },
  {
   "cell_type": "code",
   "execution_count": 31,
   "metadata": {
    "ExecuteTime": {
     "end_time": "2020-05-31T18:27:42.589184Z",
     "start_time": "2020-05-31T18:27:42.585952Z"
    }
   },
   "outputs": [
    {
     "data": {
      "text/plain": [
       "(array([   0,    0,    0,    0,    0,    0,    0,    0,    0,    0,    0,\n",
       "           0,    0,    0,    0,    0,    0,    0,    0,    0,    0,    0,\n",
       "           0,    0,    0,    0, 2146,    2,   92,  871,   40, 1624],\n",
       "       dtype=int32),\n",
       " array([   0,    0,    0,    0,    0,    0,    0,    0,    0,    0,    0,\n",
       "           0,    0,    0,    0,    0,    7,  177,   83,  236, 2468,  388,\n",
       "           1,    4, 5214,  328,  219, 2131, 1547,  219,  998,  766],\n",
       "       dtype=int32))"
      ]
     },
     "execution_count": 31,
     "metadata": {},
     "output_type": "execute_result"
    }
   ],
   "source": [
    "X_train[0], X_test[0]"
   ]
  },
  {
   "cell_type": "code",
   "execution_count": 32,
   "metadata": {
    "ExecuteTime": {
     "end_time": "2020-05-31T18:27:43.503993Z",
     "start_time": "2020-05-31T18:27:42.590237Z"
    },
    "scrolled": false
   },
   "outputs": [
    {
     "name": "stdout",
     "output_type": "stream",
     "text": [
      "[]\n"
     ]
    }
   ],
   "source": [
    "model = Sequential()\n",
    "# model.add(Dense(1024, input_shape=(max_words,)))\n",
    "model.add(Embedding(\n",
    "    len(word_index) + 1, \n",
    "    output_dim=300, \n",
    "    weights=[embedding_matrix],\n",
    "    trainable=False,\n",
    "    input_length=maxlen))\n",
    "model.add(Conv1D(128, 2, activation='relu'))\n",
    "model.add(MaxPool1D(2))\n",
    "model.add(Conv1D(128, 2, activation='relu'))\n",
    "model.add(MaxPool1D(2))\n",
    "model.add(Conv1D(128, 2, activation='relu'))\n",
    "model.add(MaxPool1D(2))\n",
    "# model.add(Conv1D(32, 3, activation='relu'))\n",
    "# model.add(Conv1D(64, 3, activation='relu'))\n",
    "# model.add(SpatialDropout1D(0.1))\n",
    "model.add(Bidirectional(GRU(16)))\n",
    "model.add(Flatten())\n",
    "model.add(Dense(128, activation='relu'))\n",
    "# model.add(Dropout(0.1))\n",
    "model.add(Dense(classes))\n",
    "model.add(Activation('softmax'))\n",
    "model.compile(loss='categorical_crossentropy', optimizer='rmsprop', metrics=['accuracy'])\n",
    "print(model.metrics_names)"
   ]
  },
  {
   "cell_type": "code",
   "execution_count": 33,
   "metadata": {
    "ExecuteTime": {
     "end_time": "2020-05-31T18:27:43.507156Z",
     "start_time": "2020-05-31T18:27:43.505468Z"
    }
   },
   "outputs": [],
   "source": [
    "# # For Conv & LSTM\n",
    "# print(X_train.shape)\n",
    "# print(X_test.shape)\n",
    "# # X_train = X_train.reshape(1430, 15000, -1)\n",
    "# # X_test = X_test.reshape(614, 15000, -1)\n",
    "# X_train = X_train.astype(np.float32)\n",
    "# X_test = X_test.astype(np.float32)"
   ]
  },
  {
   "cell_type": "code",
   "execution_count": 34,
   "metadata": {
    "ExecuteTime": {
     "end_time": "2020-05-31T18:27:50.137894Z",
     "start_time": "2020-05-31T18:27:43.508408Z"
    },
    "scrolled": false
   },
   "outputs": [
    {
     "name": "stdout",
     "output_type": "stream",
     "text": [
      "4/4 [==============================] - 0s 3ms/step - loss: 1.3427 - accuracy: 0.7159\n",
      "Test loss: 1.342716097831726\n",
      "Test accuracy: 72\n"
     ]
    }
   ],
   "source": [
    "history = model.fit(X_train, y_train, batch_size=batch_size, epochs=epochs, verbose=0, validation_split=0.1)\n",
    "score = model.evaluate(X_test, y_test, batch_size=batch_size, verbose=1)\n",
    "print('Test loss:', score[0])\n",
    "print('Test accuracy:', round(score[1] * 100))"
   ]
  },
  {
   "cell_type": "code",
   "execution_count": 35,
   "metadata": {
    "ExecuteTime": {
     "end_time": "2020-05-31T18:27:50.271915Z",
     "start_time": "2020-05-31T18:27:50.139426Z"
    }
   },
   "outputs": [
    {
     "data": {
      "image/png": "[encoded data removed]",
      "text/plain": [
       "<Figure size 432x288 with 1 Axes>"
      ]
     },
     "metadata": {
      "needs_background": "light"
     },
     "output_type": "display_data"
    }
   ],
   "source": [
    "plt.plot(history.history[\"loss\"], label=\"Loss\")\n",
    "plt.plot(history.history[\"accuracy\"], label=\"Acc\")\n",
    "plt.xticks(range(0, epochs, 2))\n",
    "plt.legend()\n",
    "plt.tight_layout()\n",
    "plt.show()"
   ]
  },
  {
   "cell_type": "markdown",
   "metadata": {},
   "source": [
    "### Do2Vec"
   ]
  },
  {
   "cell_type": "code",
   "execution_count": 36,
   "metadata": {
    "ExecuteTime": {
     "end_time": "2020-05-31T18:28:59.408487Z",
     "start_time": "2020-05-31T18:27:50.273209Z"
    }
   },
   "outputs": [],
   "source": [
    "d2v = Doc2Vec.load(f\"{os.getcwd()}/../ai/models/d2v.model\")\n",
    "\n",
    "n_textos = []\n",
    "for texto in textos:\n",
    "    doc_vec = d2v.infer_vector(texto[0].split(), epochs=500)\n",
    "    n_textos.append(doc_vec)\n",
    "n_textos = np.asarray(n_textos)"
   ]
  },
  {
   "cell_type": "code",
   "execution_count": 37,
   "metadata": {
    "ExecuteTime": {
     "end_time": "2020-05-31T18:28:59.413693Z",
     "start_time": "2020-05-31T18:28:59.409629Z"
    }
   },
   "outputs": [],
   "source": [
    "X = n_textos\n",
    "y = textos[:, 1].astype(np.int).ravel()\n",
    "y = to_categorical(y, classes)\n",
    "\n",
    "X_train, X_test, y_train, y_test = train_test_split(X, y, test_size=0.2, random_state=0)"
   ]
  },
  {
   "cell_type": "code",
   "execution_count": 38,
   "metadata": {
    "ExecuteTime": {
     "end_time": "2020-05-31T18:29:00.009209Z",
     "start_time": "2020-05-31T18:28:59.414968Z"
    }
   },
   "outputs": [
    {
     "name": "stdout",
     "output_type": "stream",
     "text": [
      "(1757, 300)\n",
      "(440, 300)\n"
     ]
    }
   ],
   "source": [
    "# # For Conv & LSTM\n",
    "print(X_train.shape)\n",
    "print(X_test.shape)\n",
    "X_train = X_train.reshape(1757, 300, -1)\n",
    "X_test = X_test.reshape(440, 300, -1)\n",
    "X_train = X_train.astype(np.float32)\n",
    "X_test = X_test.astype(np.float32)"
   ]
  },
  {
   "cell_type": "code",
   "execution_count": 39,
   "metadata": {
    "ExecuteTime": {
     "end_time": "2020-05-31T18:29:04.715991Z",
     "start_time": "2020-05-31T18:29:00.013531Z"
    }
   },
   "outputs": [
    {
     "name": "stdout",
     "output_type": "stream",
     "text": [
      "[]\n"
     ]
    }
   ],
   "source": [
    "model = Sequential()\n",
    "# model.add(Dense(1024, input_shape=(300,)))\n",
    "model.add(Conv1D(32, 2, activation='relu'))\n",
    "model.add(MaxPool1D())\n",
    "# model.add(Conv1D(32, 3, activation='relu'))\n",
    "# model.add(Conv1D(64, 3, activation='relu'))\n",
    "model.add(SpatialDropout1D(0.1))\n",
    "# model.add(Bidirectional(GRU(4)))\n",
    "model.add(Flatten())\n",
    "model.add(Dense(2048, activation='relu'))\n",
    "model.add(Dropout(0.1))\n",
    "model.add(Dense(classes))\n",
    "model.add(Activation('softmax'))\n",
    "model.compile(loss='categorical_crossentropy', optimizer='adam', metrics=['accuracy'])\n",
    "print(model.metrics_names)"
   ]
  },
  {
   "cell_type": "code",
   "execution_count": 40,
   "metadata": {
    "ExecuteTime": {
     "end_time": "2020-05-31T18:29:15.759149Z",
     "start_time": "2020-05-31T18:29:04.720807Z"
    },
    "scrolled": false
   },
   "outputs": [
    {
     "name": "stdout",
     "output_type": "stream",
     "text": [
      "4/4 [==============================] - 0s 6ms/step - loss: 0.7825 - accuracy: 0.6682\n",
      "Test loss: 0.7824962735176086\n",
      "Test accuracy: 67\n"
     ]
    }
   ],
   "source": [
    "history = model.fit(X_train, y_train, batch_size=batch_size, epochs=epochs, verbose=0, validation_split=0.2)\n",
    "score = model.evaluate(X_test, y_test, batch_size=batch_size, verbose=1)\n",
    "print('Test loss:', score[0])\n",
    "print('Test accuracy:', round(score[1] * 100))"
   ]
  },
  {
   "cell_type": "code",
   "execution_count": 41,
   "metadata": {
    "ExecuteTime": {
     "end_time": "2020-05-31T18:29:16.457021Z",
     "start_time": "2020-05-31T18:29:15.761253Z"
    }
   },
   "outputs": [
    {
     "data": {
      "image/png": "[encoded data removed]",
      "text/plain": [
       "<Figure size 432x288 with 1 Axes>"
      ]
     },
     "metadata": {
      "needs_background": "light"
     },
     "output_type": "display_data"
    }
   ],
   "source": [
    "plt.plot(history.history[\"loss\"], label=\"Loss\")\n",
    "plt.plot(history.history[\"accuracy\"], label=\"Acc\")\n",
    "plt.xticks(range(0, epochs, 2))\n",
    "plt.legend()\n",
    "plt.tight_layout()\n",
    "plt.show()"
   ]
  },
  {
   "cell_type": "code",
   "execution_count": null,
   "metadata": {},
   "outputs": [],
   "source": []
  }
 ],
 "metadata": {
  "hide_input": false,
  "kernelspec": {
   "display_name": "Python 3",
   "language": "python",
   "name": "python3"
  },
  "language_info": {
   "codemirror_mode": {
    "name": "ipython",
    "version": 3
   },
   "file_extension": ".py",
   "mimetype": "text/x-python",
   "name": "python",
   "nbconvert_exporter": "python",
   "pygments_lexer": "ipython3",
   "version": "3.8.3"
  },
  "toc": {
   "base_numbering": 1,
   "nav_menu": {},
   "number_sections": true,
   "sideBar": true,
   "skip_h1_title": false,
   "title_cell": "Table of Contents",
   "title_sidebar": "Contents",
   "toc_cell": false,
   "toc_position": {},
   "toc_section_display": true,
   "toc_window_display": false
  }
 },
 "nbformat": 4,
 "nbformat_minor": 4
}
