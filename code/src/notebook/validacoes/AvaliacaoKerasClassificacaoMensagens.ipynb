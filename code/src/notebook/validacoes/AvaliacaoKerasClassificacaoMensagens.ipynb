{
 "cells": [
  {
   "cell_type": "code",
   "execution_count": 23,
   "metadata": {
    "ExecuteTime": {
     "end_time": "2020-06-05T03:59:52.574569Z",
     "start_time": "2020-06-05T03:59:52.572142Z"
    }
   },
   "outputs": [],
   "source": [
    "import os\n",
    "import sys\n",
    "\n",
    "sys.path.append(f\"{os.getcwd()}/../../\")"
   ]
  },
  {
   "cell_type": "code",
   "execution_count": 24,
   "metadata": {
    "ExecuteTime": {
     "end_time": "2020-06-05T03:59:54.124163Z",
     "start_time": "2020-06-05T03:59:54.112632Z"
    }
   },
   "outputs": [
    {
     "name": "stdout",
     "output_type": "stream",
     "text": [
      "Num GPUs Available:  1\n"
     ]
    }
   ],
   "source": [
    "from collections import defaultdict\n",
    "import random\n",
    "import warnings\n",
    "from itertools import chain\n",
    "from multiprocessing import cpu_count\n",
    "warnings.filterwarnings(\"ignore\")\n",
    "\n",
    "import numpy as np\n",
    "import pandas as pd\n",
    "import matplotlib.pyplot as plt\n",
    "import seaborn as sn\n",
    "import ray\n",
    "\n",
    "from sklearn.model_selection import train_test_split\n",
    "from sklearn.metrics import classification_report\n",
    "from sklearn.metrics import confusion_matrix\n",
    "from sklearn.preprocessing import StandardScaler\n",
    "from sklearn.linear_model import LogisticRegression\n",
    "\n",
    "from gensim.models import Word2Vec, Doc2Vec\n",
    "\n",
    "import tensorflow as tf\n",
    "from keras.utils import to_categorical\n",
    "from keras.initializers import Constant\n",
    "from tensorflow.keras import regularizers\n",
    "from tensorflow.keras.models import Sequential\n",
    "from tensorflow.keras.layers import (\n",
    "    Dense, Dropout, Activation, Flatten, \n",
    "    Embedding, Bidirectional, LSTM, GRU, Attention, \n",
    "    BatchNormalization, Conv1D, MaxPooling1D, TimeDistributed,\n",
    "    SpatialDropout1D, GlobalMaxPooling1D, GlobalAveragePooling1D\n",
    ")\n",
    "from tensorflow.compat.v1.keras.layers import CuDNNLSTM \n",
    "from keras.preprocessing.text import Tokenizer\n",
    "from keras.preprocessing.sequence import pad_sequences\n",
    "\n",
    "from processing.utils import CleanUp, RSLP_STEMMER, SNOWBALL_STEMMER, NLP_LEMMATIZER\n",
    "\n",
    "%matplotlib inline\n",
    "\n",
    "clean_up = CleanUp()\n",
    "\n",
    "print(\"Num GPUs Available: \", len(tf.config.experimental.list_physical_devices(\"GPU\")))"
   ]
  },
  {
   "cell_type": "code",
   "execution_count": 25,
   "metadata": {
    "ExecuteTime": {
     "end_time": "2020-06-05T03:59:55.180447Z",
     "start_time": "2020-06-05T03:59:55.174589Z"
    }
   },
   "outputs": [
    {
     "name": "stdout",
     "output_type": "stream",
     "text": [
      "Device mapping:\n",
      "/job:localhost/replica:0/task:0/device:XLA_CPU:0 -> device: XLA_CPU device\n",
      "/job:localhost/replica:0/task:0/device:XLA_GPU:0 -> device: XLA_GPU device\n",
      "/job:localhost/replica:0/task:0/device:GPU:0 -> device: 0, name: GeForce GTX 1060 with Max-Q Design, pci bus id: 0000:01:00.0, compute capability: 6.1\n",
      "\n"
     ]
    }
   ],
   "source": [
    "sess = tf.compat.v1.Session(config=tf.compat.v1.ConfigProto(log_device_placement=True))"
   ]
  },
  {
   "cell_type": "code",
   "execution_count": 4,
   "metadata": {
    "ExecuteTime": {
     "end_time": "2020-06-05T03:56:06.693688Z",
     "start_time": "2020-06-05T03:56:06.538464Z"
    }
   },
   "outputs": [],
   "source": [
    "max_words = 50000\n",
    "batch_size = 32"
   ]
  },
  {
   "cell_type": "code",
   "execution_count": 39,
   "metadata": {
    "ExecuteTime": {
     "end_time": "2020-06-05T04:04:24.004040Z",
     "start_time": "2020-06-05T04:03:21.082450Z"
    }
   },
   "outputs": [
    {
     "name": "stderr",
     "output_type": "stream",
     "text": [
      "2020-06-05 01:03:21,089\tINFO resource_spec.py:204 -- Starting Ray with 3.81 GiB memory available for workers and up to 1.93 GiB for objects. You can adjust these settings with ray.init(memory=<bytes>, object_store_memory=<bytes>).\n",
      "2020-06-05 01:03:32,525\tWARNING worker.py:1090 -- The actor or task with ID 96695108ff5d9e42ffffffff0100 is pending and cannot currently be scheduled. It requires {CPU: 1.000000} for execution and {CPU: 1.000000} for placement, but this node only has remaining {node:10.8.1.7: 1.000000}, {object_store_memory: 1.318359 GiB}, {CPU: 12.000000}, {memory: 3.808594 GiB}, {GPU: 1.000000}. In total there are 31 pending tasks and 0 pending actors on this node. This is likely due to all cluster resources being claimed by actors. To resolve the issue, consider creating fewer actors or increase the resources available to this Ray cluster. You can ignore this message if this Ray cluster is expected to auto-scale.\n"
     ]
    }
   ],
   "source": [
    "ray.shutdown()\n",
    "ray.init(num_cpus=cpu_count(), include_webui=False, lru_evict=True)\n",
    "\n",
    "corpus = []\n",
    "\n",
    "filename = f\"{os.getcwd()}/../../../data/embedding/corpus.txt\"\n",
    "file_it = pd.read_csv(filename, header=None, iterator=True, names=[\"sentence\"], chunksize=1000,)\n",
    "\n",
    "@ray.remote\n",
    "def carregar_frases(lines):\n",
    "    import os\n",
    "    import sys\n",
    "\n",
    "    sys.path.append(f\"{os.getcwd()}/../../\")\n",
    "    from processing.utils import CleanUp, SNOWBALL_STEMMER\n",
    "    clean_up = CleanUp(stemmer=SNOWBALL_STEMMER)\n",
    "    \n",
    "    lines = lines[\"sentence\"].tolist()\n",
    "    return [clean_up.fit(line) for line in lines]\n",
    "\n",
    "i, itera = 0, []\n",
    "for lines in file_it:\n",
    "    itera.append(lines)\n",
    "    if i == 30:\n",
    "        break\n",
    "    i += 1\n",
    "corpus = list(chain(*ray.get([carregar_frases.remote(lines) for lines in itera])))\n",
    "\n",
    "ray.shutdown()"
   ]
  },
  {
   "cell_type": "code",
   "execution_count": 40,
   "metadata": {
    "ExecuteTime": {
     "end_time": "2020-06-05T04:04:26.446740Z",
     "start_time": "2020-06-05T04:04:24.015355Z"
    }
   },
   "outputs": [],
   "source": [
    "df = pd.read_csv(f\"{os.getcwd()}/../../../data/dataset.csv\", sep=\"|\")\n",
    "df[\"x\"] = df[\"comentario\"].apply(lambda comment: clean_up.fit(str(comment)))\n",
    "df[\"y\"] = df[\"classificacao\"].apply(lambda clasf: 0 if clasf == \"negativo\" else 1)\n",
    "textos = df[[\"x\", \"y\"]].to_numpy()"
   ]
  },
  {
   "cell_type": "code",
   "execution_count": 41,
   "metadata": {
    "ExecuteTime": {
     "end_time": "2020-06-05T04:04:26.451643Z",
     "start_time": "2020-06-05T04:04:26.447957Z"
    }
   },
   "outputs": [
    {
     "name": "stdout",
     "output_type": "stream",
     "text": [
      "['resposta otakusbrasil xgabixavier caralho agora peguei raiva real covid'\n",
      " 0]\n",
      "Dataset size: 2321\n",
      "Corpus size: 33321\n"
     ]
    }
   ],
   "source": [
    "print(random.choice(textos))\n",
    "print(f'Dataset size: {len(textos)}')\n",
    "# print(df[df['x'] == ''].index)\n",
    "# print(df.loc[250])\n",
    "\n",
    "for item in list(textos[:, 0]):\n",
    "    corpus.append(item)\n",
    "print(f'Corpus size: {len(corpus)}')"
   ]
  },
  {
   "cell_type": "code",
   "execution_count": 42,
   "metadata": {
    "ExecuteTime": {
     "end_time": "2020-06-05T04:04:27.116059Z",
     "start_time": "2020-06-05T04:04:26.452676Z"
    }
   },
   "outputs": [
    {
     "name": "stdout",
     "output_type": "stream",
     "text": [
      "Maxlen: 997\n"
     ]
    }
   ],
   "source": [
    "maxlen = 0\n",
    "for phrase in corpus:\n",
    "    size = len(phrase.split())\n",
    "    maxlen = size if size > maxlen else maxlen\n",
    "print(f'Maxlen: {maxlen}')"
   ]
  },
  {
   "cell_type": "code",
   "execution_count": 43,
   "metadata": {
    "ExecuteTime": {
     "end_time": "2020-06-05T04:04:27.339981Z",
     "start_time": "2020-06-05T04:04:27.117467Z"
    }
   },
   "outputs": [],
   "source": [
    "# word_counts = defaultdict(int)\n",
    "# for phrases in textos[:, 0]:\n",
    "#     for word in phrases.split():\n",
    "#         word_counts[word] += 1\n",
    "# v_count = len(word_counts.keys())\n",
    "# words_list = list(word_counts.keys())\n",
    "# word_index = dict((word, i) for i, word in enumerate(words_list))\n",
    "\n",
    "# X = []\n",
    "# for phrases in textos[:, 0]:\n",
    "#     xp = []\n",
    "#     for word in phrases.split():\n",
    "#         xp.append(word_index[word])\n",
    "#     X.append(xp)\n",
    "# y = textos[:, 1].astype(np.int).ravel()\n",
    "# y = to_categorical(y, classes)\n",
    "\n",
    "# X_train, X_test, y_train, y_test = train_test_split(X, y, test_size=0.3, random_state=0)\n",
    "\n",
    "# tokenizer = Tokenizer(num_words=max_words)\n",
    "# X_train = tokenizer.sequences_to_matrix(X_train, mode='binary')\n",
    "# X_test = tokenizer.sequences_to_matrix(X_test, mode='binary')"
   ]
  },
  {
   "cell_type": "code",
   "execution_count": 44,
   "metadata": {
    "ExecuteTime": {
     "end_time": "2020-06-05T04:05:18.742282Z",
     "start_time": "2020-06-05T04:04:27.341100Z"
    }
   },
   "outputs": [
    {
     "name": "stdout",
     "output_type": "stream",
     "text": [
      "              precision    recall  f1-score   support\n",
      "\n",
      "           0       0.68      0.86      0.76       276\n",
      "           1       0.67      0.41      0.51       189\n",
      "\n",
      "    accuracy                           0.68       465\n",
      "   macro avg       0.68      0.64      0.64       465\n",
      "weighted avg       0.68      0.68      0.66       465\n",
      "\n"
     ]
    },
    {
     "data": {
      "image/png": "[encoded data removed]",
      "text/plain": [
       "<Figure size 432x288 with 2 Axes>"
      ]
     },
     "metadata": {
      "needs_background": "light"
     },
     "output_type": "display_data"
    }
   ],
   "source": [
    "X = textos[:, 0]\n",
    "y = textos[:, 1].astype(np.int).ravel()\n",
    "\n",
    "X_train, X_test, y_train, y_test = train_test_split(X, y, test_size=0.2, random_state=0)\n",
    "\n",
    "tokenizer = Tokenizer(num_words=max_words, lower=False, oov_token='<OOV>', char_level=False)\n",
    "tokenizer.fit_on_texts(corpus)\n",
    "vocab_size = len(tokenizer.word_index) + 1\n",
    "\n",
    "X_train = tokenizer.texts_to_sequences(X_train)\n",
    "X_test = tokenizer.texts_to_sequences(X_test)\n",
    "X_train = pad_sequences(X_train, maxlen=maxlen, padding='post')\n",
    "X_test = pad_sequences(X_test, maxlen=maxlen, padding='post')\n",
    "\n",
    "clf = LogisticRegression(\n",
    "    random_state=0,\n",
    "    n_jobs=-1,\n",
    "    max_iter=3000,\n",
    "    multi_class=\"ovr\"\n",
    ")\n",
    "clf.fit(X_train, y_train)\n",
    "pred = clf.predict(X_test)\n",
    "\n",
    "print(classification_report(y_test, pred))\n",
    "\n",
    "df_cm = confusion_matrix(pred, y_test)\n",
    "plt.figure(figsize=(6, 4))\n",
    "sn.heatmap(df_cm, annot=True, fmt=\"d\")\n",
    "plt.tight_layout()\n",
    "plt.show()"
   ]
  },
  {
   "cell_type": "code",
   "execution_count": 45,
   "metadata": {
    "ExecuteTime": {
     "end_time": "2020-06-05T04:05:19.458645Z",
     "start_time": "2020-06-05T04:05:18.743599Z"
    }
   },
   "outputs": [
    {
     "name": "stdout",
     "output_type": "stream",
     "text": [
      "Vocab size: 32261\n"
     ]
    }
   ],
   "source": [
    "X = textos[:, 0]\n",
    "y = textos[:, 1].astype(np.int).ravel()\n",
    "# y = to_categorical(y, classes)\n",
    "\n",
    "X_train, X_test, y_train, y_test = train_test_split(X, y, test_size=0.2, random_state=0)\n",
    "\n",
    "tokenizer = Tokenizer(num_words=max_words, lower=False, oov_token='<OOV>', char_level=False)\n",
    "tokenizer.fit_on_texts(corpus)\n",
    "vocab_size = len(tokenizer.word_index) + 1\n",
    "\n",
    "X_train = tokenizer.texts_to_sequences(X_train)\n",
    "X_test = tokenizer.texts_to_sequences(X_test)\n",
    "X_train = pad_sequences(X_train, maxlen=maxlen, padding='post')\n",
    "X_test = pad_sequences(X_test, maxlen=maxlen, padding='post')\n",
    "\n",
    "print(f\"Vocab size: {vocab_size}\")"
   ]
  },
  {
   "cell_type": "code",
   "execution_count": 46,
   "metadata": {
    "ExecuteTime": {
     "end_time": "2020-06-05T04:05:22.978042Z",
     "start_time": "2020-06-05T04:05:19.459876Z"
    }
   },
   "outputs": [
    {
     "name": "stdout",
     "output_type": "stream",
     "text": [
      "Found 5605 word vectors.\n",
      "Embedding Matrix size: (32261, 300)\n"
     ]
    }
   ],
   "source": [
    "word_index = tokenizer.word_index\n",
    "\n",
    "embeddings_index = {}\n",
    "w2v = Word2Vec.load(f\"{os.getcwd()}/../../ai/models/w2v.model\")\n",
    "\n",
    "for phrase in X:\n",
    "    for word in phrase.split():\n",
    "        try:\n",
    "            embeddings_index[word] = w2v.wv[word]\n",
    "        except:\n",
    "            pass\n",
    "print('Found %s word vectors.' % len(embeddings_index))\n",
    "\n",
    "embedding_matrix = np.zeros((len(word_index) + 1, 300))\n",
    "for word, i in word_index.items():\n",
    "    embedding_vector = embeddings_index.get(word)\n",
    "    if embedding_vector is not None:\n",
    "        embedding_matrix[i] = embedding_vector\n",
    "print('Embedding Matrix size:', embedding_matrix.shape)"
   ]
  },
  {
   "cell_type": "code",
   "execution_count": 47,
   "metadata": {
    "ExecuteTime": {
     "end_time": "2020-06-05T04:05:22.981642Z",
     "start_time": "2020-06-05T04:05:22.979653Z"
    }
   },
   "outputs": [],
   "source": [
    "# X_train[0], X_test[0]"
   ]
  },
  {
   "cell_type": "code",
   "execution_count": 60,
   "metadata": {
    "ExecuteTime": {
     "end_time": "2020-06-05T04:21:03.671156Z",
     "start_time": "2020-06-05T04:21:03.311486Z"
    },
    "scrolled": false
   },
   "outputs": [
    {
     "name": "stdout",
     "output_type": "stream",
     "text": [
      "Model: \"WordEmbeddings\"\n",
      "_________________________________________________________________\n",
      "Layer (type)                 Output Shape              Param #   \n",
      "=================================================================\n",
      "embedding_6 (Embedding)      (None, None, 300)         9678300   \n",
      "_________________________________________________________________\n",
      "bidirectional_6 (Bidirection (None, 256)               439296    \n",
      "_________________________________________________________________\n",
      "dropout_12 (Dropout)         (None, 256)               0         \n",
      "_________________________________________________________________\n",
      "dense_12 (Dense)             (None, 128)               32896     \n",
      "_________________________________________________________________\n",
      "dropout_13 (Dropout)         (None, 128)               0         \n",
      "_________________________________________________________________\n",
      "dense_13 (Dense)             (None, 1)                 129       \n",
      "=================================================================\n",
      "Total params: 10,150,621\n",
      "Trainable params: 472,321\n",
      "Non-trainable params: 9,678,300\n",
      "_________________________________________________________________\n"
     ]
    }
   ],
   "source": [
    "model = Sequential(name='WordEmbeddings')\n",
    "model.add(\n",
    "    Embedding(\n",
    "        len(word_index) + 1,\n",
    "        300, \n",
    "        embeddings_initializer=Constant(embedding_matrix),\n",
    "        trainable=False,\n",
    "    )\n",
    ")\n",
    "# model.add(Dropout(0.5))\n",
    "# model.add(Conv1D(16, 2, padding='valid', activation='relu', strides=1))\n",
    "# model.add(MaxPooling1D())\n",
    "# model.add(Conv1D(16, 2, padding='valid', activation='relu', strides=1))\n",
    "# model.add(MaxPooling1D())\n",
    "# model.add(Conv1D(16, 2, padding='valid', activation='relu', strides=1))\n",
    "# model.add(BatchNormalization())\n",
    "# model.add(MaxPooling1D())\n",
    "# model.add(Dropout(0.5))\n",
    "# model.add(Bidirectional(LSTM(8, return_sequences=True)))\n",
    "model.add(Bidirectional(LSTM(128)))\n",
    "model.add(Dropout(0.5))\n",
    "# model.add(BatchNormalization())\n",
    "# model.add(GlobalMaxPooling1D())\n",
    "# model.add(Flatten())\n",
    "# model.add(Conv1D(128, 2, padding='same', activation='relu', strides=1))\n",
    "# model.add(GlobalMaxPooling1D())\n",
    "model.add(\n",
    "    Dense(\n",
    "        128,\n",
    "        activation='relu',\n",
    "        kernel_regularizer=regularizers.l2(1e-3),\n",
    "        activity_regularizer=regularizers.l2(1e-3)\n",
    "    )\n",
    ")\n",
    "model.add(Dropout(0.5))\n",
    "model.add(Dense(1, activation='sigmoid'))\n",
    "model.compile(loss='binary_crossentropy', optimizer='adam', metrics=['accuracy'])\n",
    "model.summary()"
   ]
  },
  {
   "cell_type": "code",
   "execution_count": 61,
   "metadata": {
    "ExecuteTime": {
     "end_time": "2020-06-05T04:21:47.684816Z",
     "start_time": "2020-06-05T04:21:12.506912Z"
    },
    "scrolled": false
   },
   "outputs": [
    {
     "name": "stdout",
     "output_type": "stream",
     "text": [
      "Epoch 1/5\n",
      "58/58 [==============================] - 7s 118ms/step - loss: 0.7495 - accuracy: 0.6800 - val_loss: 0.6467 - val_accuracy: 0.7290 loss: 0.7865 - accuracy: 0.66 - ETA: 2s - ETA: 0s - loss: 0.7578 - \n",
      "Epoch 2/5\n",
      "58/58 [==============================] - 6s 110ms/step - loss: 0.6393 - accuracy: 0.7398 - val_loss: 0.5941 - val_accuracy: 0.7570\n",
      "Epoch 3/5\n",
      "58/58 [==============================] - 6s 110ms/step - loss: 0.5546 - accuracy: 0.7764 - val_loss: 0.5634 - val_accuracy: 0.7656 - ETA: 2s - loss: 0 - ETA: 1s - loss: 0.5585 - accu - ETA: 0s - loss: 0.5561 \n",
      "Epoch 4/5\n",
      "58/58 [==============================] - 6s 110ms/step - loss: 0.4917 - accuracy: 0.8109 - val_loss: 0.5609 - val_accuracy: 0.7849 loss: 0.4756 - accu - ETA:  - ETA: 2s - - ETA: 0s - loss: 0.4903 - ac\n",
      "Epoch 5/5\n",
      "58/58 [==============================] - 6s 110ms/step - loss: 0.4222 - accuracy: 0.8384 - val_loss: 0.5705 - val_accuracy: 0.7677 0.4195 - accu - ETA: 0s - loss: 0.4222 - accuracy: 0.83\n",
      "15/15 [==============================] - 1s 39ms/step - loss: 0.5705 - accuracy: 0.7677\n",
      "Test loss: 0.5705284476280212\n",
      "Test accuracy: 77%\n"
     ]
    }
   ],
   "source": [
    "epochs = 5\n",
    "\n",
    "history = model.fit(\n",
    "    X_train, y_train, \n",
    "    batch_size=batch_size, \n",
    "    epochs=epochs, \n",
    "    verbose=1,\n",
    "    shuffle=True,\n",
    "    validation_data=(X_test, y_test)\n",
    ")\n",
    "score = model.evaluate(X_test, y_test, verbose=1)\n",
    "print('Test loss:', score[0])\n",
    "print('Test accuracy:', f'{round(score[1] * 100)}%')"
   ]
  },
  {
   "cell_type": "code",
   "execution_count": 62,
   "metadata": {
    "ExecuteTime": {
     "end_time": "2020-06-05T04:21:48.840293Z",
     "start_time": "2020-06-05T04:21:47.686515Z"
    }
   },
   "outputs": [
    {
     "name": "stdout",
     "output_type": "stream",
     "text": [
      "              precision    recall  f1-score   support\n",
      "\n",
      "           0       0.82      0.78      0.80       276\n",
      "           1       0.70      0.75      0.72       189\n",
      "\n",
      "    accuracy                           0.77       465\n",
      "   macro avg       0.76      0.76      0.76       465\n",
      "weighted avg       0.77      0.77      0.77       465\n",
      "\n"
     ]
    },
    {
     "data": {
      "image/png": "[encoded data removed]",
      "text/plain": [
       "<Figure size 432x288 with 2 Axes>"
      ]
     },
     "metadata": {
      "needs_background": "light"
     },
     "output_type": "display_data"
    }
   ],
   "source": [
    "pred = (model.predict(X_test) > 0.5).astype(np.int).ravel()\n",
    "print(classification_report(y_test, pred))\n",
    "\n",
    "df_cm = confusion_matrix(y_test, pred)\n",
    "plt.figure(figsize=(6, 4))\n",
    "sn.heatmap(df_cm, annot=True, fmt=\"d\")\n",
    "plt.tight_layout()\n",
    "plt.show()"
   ]
  },
  {
   "cell_type": "code",
   "execution_count": 63,
   "metadata": {
    "ExecuteTime": {
     "end_time": "2020-06-05T04:21:49.103648Z",
     "start_time": "2020-06-05T04:21:48.841688Z"
    }
   },
   "outputs": [
    {
     "data": {
      "image/png": "[encoded data removed]",
      "text/plain": [
       "<Figure size 1080x360 with 2 Axes>"
      ]
     },
     "metadata": {
      "needs_background": "light"
     },
     "output_type": "display_data"
    }
   ],
   "source": [
    "plt.figure(figsize=(15, 5))\n",
    "plt.subplot(1, 2, 1)\n",
    "\n",
    "plt.plot(history.history[\"accuracy\"], label=\"Acc\", c=\"C0\")\n",
    "plt.plot(history.history[\"val_accuracy\"], label=\"Val. Acc\", c=\"C2\")\n",
    "plt.legend()\n",
    "plt.subplot(1, 2, 2)\n",
    "plt.plot(history.history[\"loss\"], label=\"Loss\", c=\"C1\")\n",
    "plt.plot(history.history[\"val_loss\"], label=\"Val. Loss\", c=\"C3\")\n",
    "plt.xticks(range(0, epochs, 2))\n",
    "plt.legend()\n",
    "plt.tight_layout()\n",
    "plt.show()"
   ]
  },
  {
   "cell_type": "markdown",
   "metadata": {},
   "source": [
    "### Do2Vec"
   ]
  },
  {
   "cell_type": "code",
   "execution_count": 115,
   "metadata": {
    "ExecuteTime": {
     "end_time": "2020-06-04T20:55:54.761028Z",
     "start_time": "2020-06-04T20:55:42.699918Z"
    }
   },
   "outputs": [],
   "source": [
    "d2v = Doc2Vec.load(f\"{os.getcwd()}/../../ai/models/d2v.model\")\n",
    "\n",
    "n_textos = []\n",
    "for texto in textos:\n",
    "    doc_vec = d2v.infer_vector(texto[0].split(), epochs=100)\n",
    "    n_textos.append(doc_vec)\n",
    "n_textos = np.asarray(n_textos)"
   ]
  },
  {
   "cell_type": "code",
   "execution_count": 116,
   "metadata": {
    "ExecuteTime": {
     "end_time": "2020-06-04T20:55:54.766996Z",
     "start_time": "2020-06-04T20:55:54.762648Z"
    }
   },
   "outputs": [],
   "source": [
    "X = n_textos\n",
    "y = textos[:, 1].astype(np.int).ravel()\n",
    "\n",
    "X_train, X_test, y_train, y_test = train_test_split(X, y, test_size=0.2, random_state=0)"
   ]
  },
  {
   "cell_type": "code",
   "execution_count": 117,
   "metadata": {
    "ExecuteTime": {
     "end_time": "2020-06-04T20:55:54.942115Z",
     "start_time": "2020-06-04T20:55:54.768605Z"
    }
   },
   "outputs": [
    {
     "name": "stdout",
     "output_type": "stream",
     "text": [
      "(1847, 300)\n",
      "(462, 300)\n"
     ]
    }
   ],
   "source": [
    "# # For Conv & LSTM\n",
    "print(X_train.shape)\n",
    "print(X_test.shape)\n",
    "X_train = X_train.reshape(1847, 300, -1)\n",
    "X_test = X_test.reshape(462, 300, -1)\n",
    "X_train = X_train.astype(np.float32)\n",
    "X_test = X_test.astype(np.float32)"
   ]
  },
  {
   "cell_type": "code",
   "execution_count": 118,
   "metadata": {
    "ExecuteTime": {
     "end_time": "2020-06-04T20:55:55.141727Z",
     "start_time": "2020-06-04T20:55:54.943357Z"
    }
   },
   "outputs": [],
   "source": [
    "model = Sequential(name='Doc2Vec')\n",
    "model.add(Conv1D(128, 2, padding='valid', activation='relu', strides=1))\n",
    "model.add(MaxPooling1D())\n",
    "model.add(Conv1D(128, 2, padding='valid', activation='relu', strides=1))\n",
    "model.add(MaxPooling1D())\n",
    "model.add(Conv1D(128, 2, padding='valid', activation='relu', strides=1))\n",
    "model.add(MaxPooling1D(pool_size=4))\n",
    "model.add(Dropout(0.5))\n",
    "model.add(Bidirectional(LSTM(128, return_sequences=True)))\n",
    "model.add(Bidirectional(LSTM(128)))\n",
    "# model.add(GlobalMaxPooling1D())\n",
    "# model.add(Flatten())\n",
    "model.add(Dense(128, activation='relu'))\n",
    "model.add(Dropout(0.5))\n",
    "model.add(Dense(1, activation='sigmoid'))\n",
    "model.compile(loss='binary_crossentropy', optimizer='adam', metrics=['accuracy'])\n",
    "# model.summary()"
   ]
  },
  {
   "cell_type": "code",
   "execution_count": 119,
   "metadata": {
    "ExecuteTime": {
     "end_time": "2020-06-04T20:56:04.070254Z",
     "start_time": "2020-06-04T20:55:55.143165Z"
    },
    "scrolled": false
   },
   "outputs": [
    {
     "name": "stdout",
     "output_type": "stream",
     "text": [
      "Epoch 1/5\n",
      "58/58 [==============================] - 2s 36ms/step - loss: 0.6665 - accuracy: 0.6053 - val_loss: 0.6743 - val_accuracy: 0.6429\n",
      "Epoch 2/5\n",
      "58/58 [==============================] - 1s 10ms/step - loss: 0.6520 - accuracy: 0.6443 - val_loss: 0.6361 - val_accuracy: 0.6688\n",
      "Epoch 3/5\n",
      "58/58 [==============================] - 1s 10ms/step - loss: 0.6510 - accuracy: 0.6421 - val_loss: 0.6387 - val_accuracy: 0.6515\n",
      "Epoch 4/5\n",
      "58/58 [==============================] - 1s 11ms/step - loss: 0.6358 - accuracy: 0.6616 - val_loss: 0.6267 - val_accuracy: 0.6710\n",
      "Epoch 5/5\n",
      "58/58 [==============================] - 1s 11ms/step - loss: 0.6338 - accuracy: 0.6638 - val_loss: 0.6389 - val_accuracy: 0.6364\n",
      "15/15 [==============================] - 0s 4ms/step - loss: 0.6389 - accuracy: 0.6364\n",
      "Test loss: 0.6389148235321045\n",
      "Test accuracy: 64\n"
     ]
    }
   ],
   "source": [
    "epochs = 5\n",
    "\n",
    "history = model.fit(\n",
    "    X_train, y_train, \n",
    "    batch_size=batch_size, \n",
    "    epochs=epochs, \n",
    "    verbose=1,\n",
    "    shuffle=True,\n",
    "    validation_data=(X_test, y_test)\n",
    ")\n",
    "score = model.evaluate(X_test, y_test, batch_size=batch_size, verbose=1)\n",
    "print('Test loss:', score[0])\n",
    "print('Test accuracy:', round(score[1] * 100))"
   ]
  },
  {
   "cell_type": "code",
   "execution_count": 120,
   "metadata": {
    "ExecuteTime": {
     "end_time": "2020-06-04T20:56:05.143524Z",
     "start_time": "2020-06-04T20:56:04.071495Z"
    }
   },
   "outputs": [
    {
     "name": "stdout",
     "output_type": "stream",
     "text": [
      "              precision    recall  f1-score   support\n",
      "\n",
      "           0       0.70      0.68      0.69       274\n",
      "           1       0.55      0.57      0.56       188\n",
      "\n",
      "    accuracy                           0.64       462\n",
      "   macro avg       0.62      0.63      0.63       462\n",
      "weighted avg       0.64      0.64      0.64       462\n",
      "\n"
     ]
    },
    {
     "data": {
      "image/png": "[encoded data removed]",
      "text/plain": [
       "<Figure size 432x288 with 2 Axes>"
      ]
     },
     "metadata": {
      "needs_background": "light"
     },
     "output_type": "display_data"
    }
   ],
   "source": [
    "pred = (model.predict(X_test) > 0.5).astype(np.int).ravel()\n",
    "print(classification_report(y_test, pred))\n",
    "\n",
    "df_cm = confusion_matrix(y_test, pred)\n",
    "plt.figure(figsize=(6, 4))\n",
    "sn.heatmap(df_cm, annot=True, fmt=\"d\")\n",
    "plt.tight_layout()\n",
    "plt.show()"
   ]
  },
  {
   "cell_type": "code",
   "execution_count": 122,
   "metadata": {
    "ExecuteTime": {
     "end_time": "2020-06-04T20:56:29.682112Z",
     "start_time": "2020-06-04T20:56:29.404574Z"
    }
   },
   "outputs": [
    {
     "data": {
      "image/png": "[encoded data removed]",
      "text/plain": [
       "<Figure size 1080x360 with 2 Axes>"
      ]
     },
     "metadata": {
      "needs_background": "light"
     },
     "output_type": "display_data"
    }
   ],
   "source": [
    "plt.figure(figsize=(15, 5))\n",
    "plt.subplot(1, 2, 1)\n",
    "\n",
    "plt.plot(history.history[\"accuracy\"], label=\"Acc\", c=\"C0\")\n",
    "plt.plot(history.history[\"val_accuracy\"], label=\"Val. Acc\", c=\"C2\")\n",
    "plt.legend()\n",
    "plt.subplot(1, 2, 2)\n",
    "plt.plot(history.history[\"loss\"], label=\"Loss\", c=\"C1\")\n",
    "plt.plot(history.history[\"val_loss\"], label=\"Val. Loss\", c=\"C3\")\n",
    "plt.xticks(range(0, epochs, 2))\n",
    "plt.legend()\n",
    "plt.tight_layout()\n",
    "plt.show()"
   ]
  },
  {
   "cell_type": "code",
   "execution_count": null,
   "metadata": {},
   "outputs": [],
   "source": []
  }
 ],
 "metadata": {
  "hide_input": false,
  "kernelspec": {
   "display_name": "Python 3",
   "language": "python",
   "name": "python3"
  },
  "language_info": {
   "codemirror_mode": {
    "name": "ipython",
    "version": 3
   },
   "file_extension": ".py",
   "mimetype": "text/x-python",
   "name": "python",
   "nbconvert_exporter": "python",
   "pygments_lexer": "ipython3",
   "version": "3.8.3"
  },
  "toc": {
   "base_numbering": 1,
   "nav_menu": {},
   "number_sections": true,
   "sideBar": true,
   "skip_h1_title": false,
   "title_cell": "Table of Contents",
   "title_sidebar": "Contents",
   "toc_cell": false,
   "toc_position": {},
   "toc_section_display": true,
   "toc_window_display": false
  }
 },
 "nbformat": 4,
 "nbformat_minor": 4
}
