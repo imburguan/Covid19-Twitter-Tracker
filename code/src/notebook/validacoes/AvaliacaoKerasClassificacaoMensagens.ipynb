{
 "cells": [
  {
   "cell_type": "code",
   "execution_count": 1,
   "metadata": {
    "ExecuteTime": {
     "end_time": "2020-06-06T20:52:17.280229Z",
     "start_time": "2020-06-06T20:52:17.277385Z"
    }
   },
   "outputs": [],
   "source": [
    "import os\n",
    "import sys\n",
    "\n",
    "sys.path.append(f\"{os.getcwd()}/../../\")"
   ]
  },
  {
   "cell_type": "code",
   "execution_count": 2,
   "metadata": {
    "ExecuteTime": {
     "end_time": "2020-06-06T20:52:21.697323Z",
     "start_time": "2020-06-06T20:52:17.851776Z"
    }
   },
   "outputs": [
    {
     "name": "stderr",
     "output_type": "stream",
     "text": [
      "Using TensorFlow backend.\n"
     ]
    },
    {
     "name": "stdout",
     "output_type": "stream",
     "text": [
      "Num GPUs Available:  1\n"
     ]
    }
   ],
   "source": [
    "from collections import defaultdict\n",
    "import random\n",
    "import warnings\n",
    "from itertools import chain\n",
    "from multiprocessing import cpu_count\n",
    "warnings.filterwarnings(\"ignore\")\n",
    "\n",
    "import numpy as np\n",
    "import pandas as pd\n",
    "import matplotlib.pyplot as plt\n",
    "import seaborn as sn\n",
    "import ray\n",
    "\n",
    "from sklearn.model_selection import train_test_split\n",
    "from sklearn.metrics import classification_report\n",
    "from sklearn.metrics import confusion_matrix\n",
    "from sklearn.preprocessing import StandardScaler\n",
    "from sklearn.linear_model import LogisticRegression\n",
    "\n",
    "from gensim.models import Word2Vec, Doc2Vec\n",
    "\n",
    "import tensorflow as tf\n",
    "from keras.utils import to_categorical\n",
    "from keras.initializers import Constant\n",
    "from tensorflow.keras import regularizers\n",
    "from tensorflow.keras.models import Sequential\n",
    "from tensorflow.keras.callbacks import ModelCheckpoint\n",
    "from tensorflow.keras.layers import (\n",
    "    Dense, Dropout, Activation, Flatten, \n",
    "    Embedding, Bidirectional, LSTM, GRU, Attention, \n",
    "    BatchNormalization, Conv1D, MaxPooling1D, TimeDistributed,\n",
    "    SpatialDropout1D, GlobalMaxPooling1D, GlobalAveragePooling1D\n",
    ")\n",
    "from tensorflow.compat.v1.keras.layers import CuDNNLSTM \n",
    "from keras.preprocessing.text import Tokenizer\n",
    "from keras.preprocessing.sequence import pad_sequences\n",
    "\n",
    "from processing.utils import CleanUp, RSLP_STEMMER, SNOWBALL_STEMMER, NLP_LEMMATIZER\n",
    "\n",
    "%matplotlib inline\n",
    "\n",
    "clean_up = CleanUp()\n",
    "\n",
    "print(\"Num GPUs Available: \", len(tf.config.experimental.list_physical_devices(\"GPU\")))"
   ]
  },
  {
   "cell_type": "code",
   "execution_count": 3,
   "metadata": {
    "ExecuteTime": {
     "end_time": "2020-06-06T20:52:21.773633Z",
     "start_time": "2020-06-06T20:52:21.698678Z"
    }
   },
   "outputs": [
    {
     "name": "stdout",
     "output_type": "stream",
     "text": [
      "Device mapping:\n",
      "/job:localhost/replica:0/task:0/device:XLA_CPU:0 -> device: XLA_CPU device\n",
      "/job:localhost/replica:0/task:0/device:XLA_GPU:0 -> device: XLA_GPU device\n",
      "/job:localhost/replica:0/task:0/device:GPU:0 -> device: 0, name: GeForce GTX 1060 with Max-Q Design, pci bus id: 0000:01:00.0, compute capability: 6.1\n",
      "\n"
     ]
    }
   ],
   "source": [
    "sess = tf.compat.v1.Session(config=tf.compat.v1.ConfigProto(log_device_placement=True))"
   ]
  },
  {
   "cell_type": "code",
   "execution_count": 4,
   "metadata": {
    "ExecuteTime": {
     "end_time": "2020-06-06T20:52:21.914068Z",
     "start_time": "2020-06-06T20:52:21.774904Z"
    }
   },
   "outputs": [],
   "source": [
    "max_words = 250_000\n",
    "batch_size = 128\n",
    "w2v_size = 300\n",
    "\n",
    "corpus = []"
   ]
  },
  {
   "cell_type": "code",
   "execution_count": 5,
   "metadata": {
    "ExecuteTime": {
     "end_time": "2020-06-06T20:52:36.982000Z",
     "start_time": "2020-06-06T20:52:25.280811Z"
    }
   },
   "outputs": [
    {
     "name": "stderr",
     "output_type": "stream",
     "text": [
      "2020-06-06 17:52:25,287\tINFO resource_spec.py:204 -- Starting Ray with 4.93 GiB memory available for workers and up to 2.47 GiB for objects. You can adjust these settings with ray.init(memory=<bytes>, object_store_memory=<bytes>).\n",
      "2020-06-06 17:52:26,456\tINFO services.py:563 -- Failed to connect to the redis server, retrying.\n"
     ]
    }
   ],
   "source": [
    "ray.shutdown()\n",
    "ray.init(num_cpus=cpu_count(), include_webui=False, lru_evict=True)\n",
    "\n",
    "filename = f\"{os.getcwd()}/../../../data/embedding/corpus.txt\"\n",
    "file_it = pd.read_csv(filename, header=None, iterator=True, names=[\"sentence\"], chunksize=1000,)\n",
    "\n",
    "@ray.remote\n",
    "def carregar_frases(lines):\n",
    "    import os\n",
    "    import sys\n",
    "\n",
    "    sys.path.append(f\"{os.getcwd()}/../../\")\n",
    "    from processing.utils import CleanUp, SNOWBALL_STEMMER\n",
    "    clean_up = CleanUp(stemmer=SNOWBALL_STEMMER)\n",
    "    \n",
    "    lines = lines[\"sentence\"].tolist()\n",
    "    return [clean_up.fit(line) for line in lines]\n",
    "\n",
    "i, itera = 0, []\n",
    "for lines in file_it:\n",
    "    itera.append(lines)\n",
    "    if i == 10:\n",
    "        break\n",
    "    i += 1\n",
    "corpus = list(chain(*ray.get([carregar_frases.remote(lines) for lines in itera])))\n",
    "\n",
    "ray.shutdown()"
   ]
  },
  {
   "cell_type": "code",
   "execution_count": 6,
   "metadata": {
    "ExecuteTime": {
     "end_time": "2020-06-06T20:52:38.760957Z",
     "start_time": "2020-06-06T20:52:36.983270Z"
    }
   },
   "outputs": [],
   "source": [
    "df = pd.read_csv(f\"{os.getcwd()}/../../../data/dataset.csv\", sep=\"|\")\n",
    "df[\"x\"] = df[\"comentario\"].apply(lambda comment: clean_up.fit(str(comment)))\n",
    "df[\"y\"] = df[\"classificacao\"].apply(lambda clasf: 0 if clasf == \"negativo\" else 1)\n",
    "textos = df[[\"x\", \"y\"]].to_numpy()"
   ]
  },
  {
   "cell_type": "code",
   "execution_count": 7,
   "metadata": {
    "ExecuteTime": {
     "end_time": "2020-06-06T20:52:38.766264Z",
     "start_time": "2020-06-06T20:52:38.762292Z"
    }
   },
   "outputs": [
    {
     "name": "stdout",
     "output_type": "stream",
     "text": [
      "['resposta amandabdz ficar usando aquela mascara parece vamo morrer nao consigo respirar'\n",
      " 1]\n",
      "Dataset size: 2459\n",
      "Corpus size: 13459\n"
     ]
    }
   ],
   "source": [
    "print(random.choice(textos))\n",
    "print(f'Dataset size: {len(textos)}')\n",
    "# print(df[df['x'] == ''].index)\n",
    "# print(df.loc[250])\n",
    "\n",
    "for item in list(textos[:, 0]):\n",
    "    corpus.append(item)\n",
    "print(f'Corpus size: {len(corpus)}')"
   ]
  },
  {
   "cell_type": "code",
   "execution_count": 8,
   "metadata": {
    "ExecuteTime": {
     "end_time": "2020-06-06T20:52:38.955571Z",
     "start_time": "2020-06-06T20:52:38.767473Z"
    }
   },
   "outputs": [
    {
     "name": "stdout",
     "output_type": "stream",
     "text": [
      "Maxlen: 82\n"
     ]
    }
   ],
   "source": [
    "maxlen = 0\n",
    "for phrase in textos[:, 0]:\n",
    "    size = len(phrase.split())\n",
    "    maxlen = size if size > maxlen else maxlen\n",
    "maxlen += 1\n",
    "print(f'Maxlen: {maxlen}')"
   ]
  },
  {
   "cell_type": "code",
   "execution_count": 9,
   "metadata": {
    "ExecuteTime": {
     "end_time": "2020-06-06T20:52:40.495922Z",
     "start_time": "2020-06-06T20:52:40.493634Z"
    }
   },
   "outputs": [],
   "source": [
    "# word_counts = defaultdict(int)\n",
    "# for phrases in textos[:, 0]:\n",
    "#     for word in phrases.split():\n",
    "#         word_counts[word] += 1\n",
    "# v_count = len(word_counts.keys())\n",
    "# words_list = list(word_counts.keys())\n",
    "# word_index = dict((word, i) for i, word in enumerate(words_list))\n",
    "\n",
    "# X = []\n",
    "# for phrases in textos[:, 0]:\n",
    "#     xp = []\n",
    "#     for word in phrases.split():\n",
    "#         xp.append(word_index[word])\n",
    "#     X.append(xp)\n",
    "# y = textos[:, 1].astype(np.int).ravel()\n",
    "# y = to_categorical(y, classes)\n",
    "\n",
    "# X_train, X_test, y_train, y_test = train_test_split(X, y, test_size=0.3, random_state=0)\n",
    "\n",
    "# tokenizer = Tokenizer(num_words=max_words)\n",
    "# X_train = tokenizer.sequences_to_matrix(X_train, mode='binary')\n",
    "# X_test = tokenizer.sequences_to_matrix(X_test, mode='binary')"
   ]
  },
  {
   "cell_type": "code",
   "execution_count": 10,
   "metadata": {
    "ExecuteTime": {
     "end_time": "2020-06-06T20:52:46.456786Z",
     "start_time": "2020-06-06T20:52:43.436274Z"
    }
   },
   "outputs": [
    {
     "name": "stdout",
     "output_type": "stream",
     "text": [
      "              precision    recall  f1-score   support\n",
      "\n",
      "           0       0.71      0.69      0.70       299\n",
      "           1       0.54      0.56      0.55       193\n",
      "\n",
      "    accuracy                           0.64       492\n",
      "   macro avg       0.62      0.63      0.62       492\n",
      "weighted avg       0.64      0.64      0.64       492\n",
      "\n"
     ]
    },
    {
     "data": {
      "image/png": "[encoded data removed]",
      "text/plain": [
       "<Figure size 432x288 with 2 Axes>"
      ]
     },
     "metadata": {
      "needs_background": "light"
     },
     "output_type": "display_data"
    }
   ],
   "source": [
    "X = textos[:, 0]\n",
    "y = textos[:, 1].astype(np.int).ravel()\n",
    "\n",
    "X_train, X_test, y_train, y_test = train_test_split(X, y, test_size=0.2, random_state=0)\n",
    "\n",
    "tokenizer = Tokenizer(num_words=max_words, lower=False, oov_token='<OOV>', char_level=False)\n",
    "tokenizer.fit_on_texts(corpus)\n",
    "vocab_size = len(tokenizer.word_index) + 1\n",
    "\n",
    "X_train = tokenizer.texts_to_sequences(X_train)\n",
    "X_test = tokenizer.texts_to_sequences(X_test)\n",
    "X_train = pad_sequences(X_train, maxlen=maxlen, padding='post')\n",
    "X_test = pad_sequences(X_test, maxlen=maxlen, padding='post')\n",
    "\n",
    "clf = LogisticRegression(\n",
    "    random_state=0,\n",
    "    n_jobs=-1,\n",
    "    max_iter=3000,\n",
    "    multi_class=\"ovr\"\n",
    ")\n",
    "clf.fit(X_train, y_train)\n",
    "pred = clf.predict(X_test)\n",
    "\n",
    "print(classification_report(y_test, pred))\n",
    "\n",
    "df_cm = confusion_matrix(pred, y_test)\n",
    "plt.figure(figsize=(6, 4))\n",
    "sn.heatmap(df_cm, annot=True, fmt=\"d\")\n",
    "plt.tight_layout()\n",
    "plt.show()"
   ]
  },
  {
   "cell_type": "code",
   "execution_count": 11,
   "metadata": {
    "ExecuteTime": {
     "end_time": "2020-06-06T20:52:47.021722Z",
     "start_time": "2020-06-06T20:52:46.458564Z"
    }
   },
   "outputs": [],
   "source": [
    "w2v = Word2Vec.load(f\"{os.getcwd()}/../../ai/models/w2v.model\")"
   ]
  },
  {
   "cell_type": "code",
   "execution_count": 12,
   "metadata": {
    "ExecuteTime": {
     "end_time": "2020-06-06T20:52:47.229128Z",
     "start_time": "2020-06-06T20:52:47.023349Z"
    }
   },
   "outputs": [
    {
     "name": "stdout",
     "output_type": "stream",
     "text": [
      "Vocab size: 13794\n"
     ]
    }
   ],
   "source": [
    "X = textos[:, 0]\n",
    "y = textos[:, 1].astype(np.int).ravel()\n",
    "# y = to_categorical(y, 2)\n",
    "\n",
    "X_train, X_test, y_train, y_test = train_test_split(X, y, test_size=0.2, random_state=0)\n",
    "\n",
    "tokenizer = Tokenizer(num_words=max_words, lower=False, oov_token='<OOV>', char_level=False)\n",
    "tokenizer.fit_on_texts(corpus)\n",
    "vocab_size = len(tokenizer.word_index) + 1\n",
    "\n",
    "X_train = tokenizer.texts_to_sequences(X_train)\n",
    "X_test = tokenizer.texts_to_sequences(X_test)\n",
    "X_train = pad_sequences(X_train, maxlen=maxlen, padding='post')\n",
    "X_test = pad_sequences(X_test, maxlen=maxlen, padding='post')\n",
    "\n",
    "print(f\"Vocab size: {vocab_size}\")"
   ]
  },
  {
   "cell_type": "code",
   "execution_count": 13,
   "metadata": {
    "ExecuteTime": {
     "end_time": "2020-06-06T20:52:47.478059Z",
     "start_time": "2020-06-06T20:52:47.230826Z"
    }
   },
   "outputs": [],
   "source": [
    "# y_train"
   ]
  },
  {
   "cell_type": "code",
   "execution_count": 14,
   "metadata": {
    "ExecuteTime": {
     "end_time": "2020-06-06T20:52:48.003872Z",
     "start_time": "2020-06-06T20:52:47.995471Z"
    }
   },
   "outputs": [
    {
     "data": {
      "text/plain": [
       "{0: 0.8507785467128027, 1: 1.212700369913687}"
      ]
     },
     "execution_count": 14,
     "metadata": {},
     "output_type": "execute_result"
    }
   ],
   "source": [
    "from sklearn.utils import class_weight\n",
    "class_weights = class_weight.compute_class_weight('balanced', np.unique(y_train), y_train)\n",
    "class_weights = {i : class_weights[i] for i in range(2)}\n",
    "class_weights"
   ]
  },
  {
   "cell_type": "code",
   "execution_count": 15,
   "metadata": {
    "ExecuteTime": {
     "end_time": "2020-06-06T20:52:48.921831Z",
     "start_time": "2020-06-06T20:52:48.881787Z"
    },
    "scrolled": false
   },
   "outputs": [
    {
     "name": "stdout",
     "output_type": "stream",
     "text": [
      "Embedding Matrix size: (13794, 300)\n"
     ]
    }
   ],
   "source": [
    "word_index = tokenizer.word_index\n",
    "\n",
    "# embeddings_index = {}\n",
    "# for phrase in X:\n",
    "#     for word in phrase.split():\n",
    "#         try:\n",
    "#             embeddings_index[word] = w2v.wv[word]\n",
    "#         except:\n",
    "#             pass\n",
    "# print('Found %s word vectors.' % len(embeddings_index))\n",
    "\n",
    "embedding_matrix = np.zeros((len(word_index) + 1, w2v_size))\n",
    "for word, i in word_index.items():\n",
    "    embedding_vector = None\n",
    "    try:\n",
    "        embedding_vector = w2v.wv[word]\n",
    "    except:\n",
    "        pass\n",
    "    if embedding_vector is not None:\n",
    "        embedding_matrix[i] = embedding_vector\n",
    "print('Embedding Matrix size:', embedding_matrix.shape)"
   ]
  },
  {
   "cell_type": "code",
   "execution_count": 16,
   "metadata": {
    "ExecuteTime": {
     "end_time": "2020-06-06T20:52:49.857549Z",
     "start_time": "2020-06-06T20:52:49.852340Z"
    }
   },
   "outputs": [],
   "source": [
    "# X_train[0], X_test[0]"
   ]
  },
  {
   "cell_type": "code",
   "execution_count": 35,
   "metadata": {
    "ExecuteTime": {
     "end_time": "2020-06-06T20:56:01.051585Z",
     "start_time": "2020-06-06T20:56:00.699043Z"
    },
    "scrolled": false
   },
   "outputs": [
    {
     "name": "stdout",
     "output_type": "stream",
     "text": [
      "Model: \"WordEmbeddings\"\n",
      "_________________________________________________________________\n",
      "Layer (type)                 Output Shape              Param #   \n",
      "=================================================================\n",
      "embedding_5 (Embedding)      (None, None, 300)         4138200   \n",
      "_________________________________________________________________\n",
      "bidirectional_5 (Bidirection (None, 256)               439296    \n",
      "_________________________________________________________________\n",
      "dense_10 (Dense)             (None, 128)               32896     \n",
      "_________________________________________________________________\n",
      "dropout_6 (Dropout)          (None, 128)               0         \n",
      "_________________________________________________________________\n",
      "dense_11 (Dense)             (None, 1)                 129       \n",
      "=================================================================\n",
      "Total params: 4,610,521\n",
      "Trainable params: 4,610,521\n",
      "Non-trainable params: 0\n",
      "_________________________________________________________________\n"
     ]
    }
   ],
   "source": [
    "model = Sequential(name='WordEmbeddings')\n",
    "model.add(\n",
    "    Embedding(\n",
    "        len(word_index) + 1,\n",
    "        w2v_size, \n",
    "        weights=[embedding_matrix],\n",
    "        trainable=True,\n",
    "    )\n",
    ")\n",
    "# model.add(Dropout(0.5))\n",
    "# model.add(Conv1D(128, 2, padding='valid', activation='relu', strides=1))\n",
    "# model.add(MaxPooling1D())\n",
    "# model.add(Conv1D(128, 2, padding='valid', activation='relu', strides=1))\n",
    "# model.add(MaxPooling1D())\n",
    "# model.add(Conv1D(128, 2, padding='valid', activation='relu', strides=1))\n",
    "# model.add(MaxPooling1D())\n",
    "# model.add(Conv1D(128, 2, padding='valid', activation='relu', strides=1))\n",
    "# model.add(MaxPooling1D())\n",
    "# model.add(BatchNormalization())\n",
    "# model.add(Conv1D(128, 2, padding='valid', activation='relu', strides=1))\n",
    "# model.add(BatchNormalization())\n",
    "# model.add(MaxPooling1D())\n",
    "# model.add(Bidirectional(LSTM(128, return_sequences=True)))\n",
    "# model.add(Dropout(0.5))\n",
    "model.add(Bidirectional(LSTM(128)))\n",
    "# model.add(Dropout(0.5))\n",
    "# model.add(GlobalMaxPooling1D())\n",
    "# model.add(BatchNormalization())\n",
    "# model.add(GlobalAveragePooling1D())\n",
    "# model.add(Flatten())\n",
    "# model.add(Conv1D(128, 2, padding='same', activation='relu', strides=1))\n",
    "# model.add(GlobalMaxPooling1D())\n",
    "# model.add(\n",
    "#     Dense(\n",
    "#         128,\n",
    "#         activation='tanh',\n",
    "#         kernel_regularizer=regularizers.l2(1e-3),\n",
    "#         activity_regularizer=regularizers.l2(1e-3)\n",
    "#     )\n",
    "# )\n",
    "# model.add(Dropout(0.5))\n",
    "model.add(\n",
    "    Dense(\n",
    "        128,\n",
    "        activation='tanh',\n",
    "        kernel_regularizer=regularizers.l2(1e-4),\n",
    "        activity_regularizer=regularizers.l2(1e-4)\n",
    "    )\n",
    ")\n",
    "model.add(Dropout(0.5))\n",
    "model.add(Dense(1, activation='sigmoid'))\n",
    "model.compile(loss='binary_crossentropy', optimizer='adam', metrics=['accuracy'])\n",
    "model.summary()"
   ]
  },
  {
   "cell_type": "code",
   "execution_count": null,
   "metadata": {
    "ExecuteTime": {
     "start_time": "2020-06-06T20:56:01.677Z"
    },
    "scrolled": false
   },
   "outputs": [],
   "source": [
    "epochs = 50\n",
    "checkpoint_filepath = './weights/weights.hdf5'\n",
    "model_checkpoint_callback = ModelCheckpoint(\n",
    "    filepath=checkpoint_filepath,\n",
    "    save_weights_only=True,\n",
    "    monitor='val_accuracy',\n",
    "    mode='max',\n",
    "    verbose=0,\n",
    "    save_best_only=True)\n",
    "\n",
    "history = model.fit(\n",
    "    X_train, y_train, \n",
    "    batch_size=batch_size, \n",
    "    epochs=epochs, \n",
    "    verbose=0,\n",
    "    shuffle=True,\n",
    "    validation_data=(X_test, y_test),\n",
    "    callbacks=[model_checkpoint_callback]\n",
    ")\n",
    "\n",
    "model.load_weights(checkpoint_filepath)\n",
    "score = model.evaluate(X_test, y_test, verbose=1)\n",
    "print('Test loss:', score[0])\n",
    "print('Test accuracy:', f'{round(score[1] * 100)}%')"
   ]
  },
  {
   "cell_type": "code",
   "execution_count": null,
   "metadata": {
    "ExecuteTime": {
     "start_time": "2020-06-06T20:56:02.102Z"
    },
    "scrolled": false
   },
   "outputs": [],
   "source": [
    "pred = (model.predict(X_test) >= .5).astype(np.int).ravel()\n",
    "print(classification_report(y_test, pred))\n",
    "\n",
    "# print(np.unique(y_test, return_counts=True))\n",
    "# print(np.unique(pred, return_counts=True))\n",
    "\n",
    "df_cm = confusion_matrix(y_test, pred)\n",
    "plt.figure(figsize=(6, 4))\n",
    "sn.heatmap(df_cm, annot=True, fmt=\"d\")\n",
    "plt.tight_layout()\n",
    "plt.show()"
   ]
  },
  {
   "cell_type": "code",
   "execution_count": null,
   "metadata": {
    "ExecuteTime": {
     "start_time": "2020-06-06T20:56:02.829Z"
    }
   },
   "outputs": [],
   "source": [
    "plt.figure(figsize=(15, 5))\n",
    "plt.subplot(1, 2, 1)\n",
    "\n",
    "plt.plot(history.history[\"accuracy\"], label=\"Acc\", c=\"C0\")\n",
    "plt.plot(history.history[\"val_accuracy\"], label=\"Val. Acc\", c=\"C2\")\n",
    "plt.legend()\n",
    "plt.subplot(1, 2, 2)\n",
    "plt.plot(history.history[\"loss\"], label=\"Loss\", c=\"C1\")\n",
    "plt.plot(history.history[\"val_loss\"], label=\"Val. Loss\", c=\"C3\")\n",
    "plt.xticks(range(0, epochs, 2))\n",
    "plt.legend()\n",
    "plt.tight_layout()\n",
    "plt.show()"
   ]
  },
  {
   "cell_type": "code",
   "execution_count": 19,
   "metadata": {
    "ExecuteTime": {
     "end_time": "2020-06-06T20:51:08.172125Z",
     "start_time": "2020-06-06T20:51:07.716190Z"
    }
   },
   "outputs": [
    {
     "name": "stdout",
     "output_type": "stream",
     "text": [
      "masculino => [('feminino', 0.898033618927002), ('sexo', 0.8901079893112183)]\n",
      "sexo => [('masculino', 0.8901079893112183), ('feminino', 0.8551668524742126)]\n",
      "montanha => [('neblina', 0.9302738308906555), ('encosta', 0.929534375667572)]\n",
      "oceano => [('atlantico', 0.9544020891189575), ('pacifico', 0.9369432926177979)]\n",
      "lua => [('venus', 0.842562198638916), ('cheia', 0.8365079164505005)]\n",
      "amor => [('felicidade', 0.8958389163017273), ('amar', 0.8797972202301025)]\n",
      "senhor => [('nisso', 0.8721914291381836), ('creio', 0.8680071830749512)]\n",
      "medico => [('converse', 0.7776593565940857), ('avise', 0.7749935388565063)]\n",
      "cimegripe => [('tylenol', 0.975653886795044), ('tylalgin', 0.9647645950317383)]\n",
      "passaro => [('aguia', 0.973773717880249), ('urso', 0.9721156358718872)]\n",
      "doenca => [('enfermidade', 0.7359470129013062), ('doencas', 0.7184326648712158)]\n",
      "coracao => [('bombear', 0.735543966293335), ('peito', 0.7039533257484436)]\n",
      "febre => [('calafrios', 0.7871061563491821), ('gripais', 0.7494380474090576)]\n",
      "nimesulida => [('betaciclodextrina', 0.903750479221344), ('uciton', 0.9022705554962158)]\n",
      "rancor => [('magoa', 0.9759448170661926), ('magoas', 0.9678236246109009)]\n",
      "lobo => [('limbo', 0.8079437017440796), ('casarao', 0.7973708510398865)]\n",
      "mau => [('funcionamento', 0.7810559272766113), ('severo', 0.7482578754425049)]\n",
      "odio => [('compaixao', 0.9369004964828491), ('vinganca', 0.9358893632888794)]\n",
      "dor => [('dores', 0.7975869178771973), ('febres', 0.7919282913208008)]\n",
      "coriza => [('entupido', 0.9591817855834961), ('espirro', 0.9587067365646362)]\n",
      "braco => [('bracos', 0.752810001373291), ('ptz', 0.6825428605079651)]\n"
     ]
    }
   ],
   "source": [
    "for word in [\n",
    "    \"masculino\", \"sexo\", \"montanha\", \"oceano\", \"lua\", \"amor\", \"senhor\", \"medico\", \n",
    "    \"cimegripe\", \"passaro\", \"doenca\", \"coracao\", \"febre\", \"nimesulida\", \"rancor\",\n",
    "    \"lobo\", \"mau\", \"odio\", \"dor\", \"coriza\", \"braco\"\n",
    "]:\n",
    "    print(word, \"=>\", w2v.most_similar(word)[:2])"
   ]
  },
  {
   "cell_type": "markdown",
   "metadata": {},
   "source": [
    "### Do2Vec"
   ]
  },
  {
   "cell_type": "code",
   "execution_count": 115,
   "metadata": {
    "ExecuteTime": {
     "end_time": "2020-06-04T20:55:54.761028Z",
     "start_time": "2020-06-04T20:55:42.699918Z"
    }
   },
   "outputs": [],
   "source": [
    "d2v = Doc2Vec.load(f\"{os.getcwd()}/../../ai/models/d2v.model\")\n",
    "\n",
    "n_textos = []\n",
    "for texto in textos:\n",
    "    doc_vec = d2v.infer_vector(texto[0].split(), epochs=100)\n",
    "    n_textos.append(doc_vec)\n",
    "n_textos = np.asarray(n_textos)"
   ]
  },
  {
   "cell_type": "code",
   "execution_count": 116,
   "metadata": {
    "ExecuteTime": {
     "end_time": "2020-06-04T20:55:54.766996Z",
     "start_time": "2020-06-04T20:55:54.762648Z"
    }
   },
   "outputs": [],
   "source": [
    "X = n_textos\n",
    "y = textos[:, 1].astype(np.int).ravel()\n",
    "\n",
    "X_train, X_test, y_train, y_test = train_test_split(X, y, test_size=0.2, random_state=0)"
   ]
  },
  {
   "cell_type": "code",
   "execution_count": 117,
   "metadata": {
    "ExecuteTime": {
     "end_time": "2020-06-04T20:55:54.942115Z",
     "start_time": "2020-06-04T20:55:54.768605Z"
    }
   },
   "outputs": [
    {
     "name": "stdout",
     "output_type": "stream",
     "text": [
      "(1847, 300)\n",
      "(462, 300)\n"
     ]
    }
   ],
   "source": [
    "# # For Conv & LSTM\n",
    "print(X_train.shape)\n",
    "print(X_test.shape)\n",
    "X_train = X_train.reshape(1847, 300, -1)\n",
    "X_test = X_test.reshape(462, 300, -1)\n",
    "X_train = X_train.astype(np.float32)\n",
    "X_test = X_test.astype(np.float32)"
   ]
  },
  {
   "cell_type": "code",
   "execution_count": 118,
   "metadata": {
    "ExecuteTime": {
     "end_time": "2020-06-04T20:55:55.141727Z",
     "start_time": "2020-06-04T20:55:54.943357Z"
    }
   },
   "outputs": [],
   "source": [
    "model = Sequential(name='Doc2Vec')\n",
    "model.add(Conv1D(128, 2, padding='valid', activation='relu', strides=1))\n",
    "model.add(MaxPooling1D())\n",
    "model.add(Conv1D(128, 2, padding='valid', activation='relu', strides=1))\n",
    "model.add(MaxPooling1D())\n",
    "model.add(Conv1D(128, 2, padding='valid', activation='relu', strides=1))\n",
    "model.add(MaxPooling1D(pool_size=4))\n",
    "model.add(Dropout(0.5))\n",
    "model.add(Bidirectional(LSTM(128, return_sequences=True)))\n",
    "model.add(Bidirectional(LSTM(128)))\n",
    "# model.add(GlobalMaxPooling1D())\n",
    "# model.add(Flatten())\n",
    "model.add(Dense(128, activation='relu'))\n",
    "model.add(Dropout(0.5))\n",
    "model.add(Dense(1, activation='sigmoid'))\n",
    "model.compile(loss='binary_crossentropy', optimizer='adam', metrics=['accuracy'])\n",
    "# model.summary()"
   ]
  },
  {
   "cell_type": "code",
   "execution_count": 119,
   "metadata": {
    "ExecuteTime": {
     "end_time": "2020-06-04T20:56:04.070254Z",
     "start_time": "2020-06-04T20:55:55.143165Z"
    },
    "scrolled": false
   },
   "outputs": [
    {
     "name": "stdout",
     "output_type": "stream",
     "text": [
      "Epoch 1/5\n",
      "58/58 [==============================] - 2s 36ms/step - loss: 0.6665 - accuracy: 0.6053 - val_loss: 0.6743 - val_accuracy: 0.6429\n",
      "Epoch 2/5\n",
      "58/58 [==============================] - 1s 10ms/step - loss: 0.6520 - accuracy: 0.6443 - val_loss: 0.6361 - val_accuracy: 0.6688\n",
      "Epoch 3/5\n",
      "58/58 [==============================] - 1s 10ms/step - loss: 0.6510 - accuracy: 0.6421 - val_loss: 0.6387 - val_accuracy: 0.6515\n",
      "Epoch 4/5\n",
      "58/58 [==============================] - 1s 11ms/step - loss: 0.6358 - accuracy: 0.6616 - val_loss: 0.6267 - val_accuracy: 0.6710\n",
      "Epoch 5/5\n",
      "58/58 [==============================] - 1s 11ms/step - loss: 0.6338 - accuracy: 0.6638 - val_loss: 0.6389 - val_accuracy: 0.6364\n",
      "15/15 [==============================] - 0s 4ms/step - loss: 0.6389 - accuracy: 0.6364\n",
      "Test loss: 0.6389148235321045\n",
      "Test accuracy: 64\n"
     ]
    }
   ],
   "source": [
    "epochs = 5\n",
    "\n",
    "history = model.fit(\n",
    "    X_train, y_train, \n",
    "    batch_size=batch_size, \n",
    "    epochs=epochs, \n",
    "    verbose=1,\n",
    "    shuffle=True,\n",
    "    validation_data=(X_test, y_test)\n",
    ")\n",
    "score = model.evaluate(X_test, y_test, batch_size=batch_size, verbose=1)\n",
    "print('Test loss:', score[0])\n",
    "print('Test accuracy:', round(score[1] * 100))"
   ]
  },
  {
   "cell_type": "code",
   "execution_count": 120,
   "metadata": {
    "ExecuteTime": {
     "end_time": "2020-06-04T20:56:05.143524Z",
     "start_time": "2020-06-04T20:56:04.071495Z"
    }
   },
   "outputs": [
    {
     "name": "stdout",
     "output_type": "stream",
     "text": [
      "              precision    recall  f1-score   support\n",
      "\n",
      "           0       0.70      0.68      0.69       274\n",
      "           1       0.55      0.57      0.56       188\n",
      "\n",
      "    accuracy                           0.64       462\n",
      "   macro avg       0.62      0.63      0.63       462\n",
      "weighted avg       0.64      0.64      0.64       462\n",
      "\n"
     ]
    },
    {
     "data": {
      "image/png": "[encoded data removed]",
      "text/plain": [
       "<Figure size 432x288 with 2 Axes>"
      ]
     },
     "metadata": {
      "needs_background": "light"
     },
     "output_type": "display_data"
    }
   ],
   "source": [
    "pred = (model.predict(X_test) > 0.5).astype(np.int).ravel()\n",
    "print(classification_report(y_test, pred))\n",
    "\n",
    "df_cm = confusion_matrix(y_test, pred)\n",
    "plt.figure(figsize=(6, 4))\n",
    "sn.heatmap(df_cm, annot=True, fmt=\"d\")\n",
    "plt.tight_layout()\n",
    "plt.show()"
   ]
  },
  {
   "cell_type": "code",
   "execution_count": 122,
   "metadata": {
    "ExecuteTime": {
     "end_time": "2020-06-04T20:56:29.682112Z",
     "start_time": "2020-06-04T20:56:29.404574Z"
    }
   },
   "outputs": [
    {
     "data": {
      "image/png": "[encoded data removed]",
      "text/plain": [
       "<Figure size 1080x360 with 2 Axes>"
      ]
     },
     "metadata": {
      "needs_background": "light"
     },
     "output_type": "display_data"
    }
   ],
   "source": [
    "plt.figure(figsize=(15, 5))\n",
    "plt.subplot(1, 2, 1)\n",
    "\n",
    "plt.plot(history.history[\"accuracy\"], label=\"Acc\", c=\"C0\")\n",
    "plt.plot(history.history[\"val_accuracy\"], label=\"Val. Acc\", c=\"C2\")\n",
    "plt.legend()\n",
    "plt.subplot(1, 2, 2)\n",
    "plt.plot(history.history[\"loss\"], label=\"Loss\", c=\"C1\")\n",
    "plt.plot(history.history[\"val_loss\"], label=\"Val. Loss\", c=\"C3\")\n",
    "plt.xticks(range(0, epochs, 2))\n",
    "plt.legend()\n",
    "plt.tight_layout()\n",
    "plt.show()"
   ]
  },
  {
   "cell_type": "code",
   "execution_count": null,
   "metadata": {},
   "outputs": [],
   "source": []
  }
 ],
 "metadata": {
  "hide_input": false,
  "kernelspec": {
   "display_name": "Python 3",
   "language": "python",
   "name": "python3"
  },
  "language_info": {
   "codemirror_mode": {
    "name": "ipython",
    "version": 3
   },
   "file_extension": ".py",
   "mimetype": "text/x-python",
   "name": "python",
   "nbconvert_exporter": "python",
   "pygments_lexer": "ipython3",
   "version": "3.8.3"
  },
  "toc": {
   "base_numbering": 1,
   "nav_menu": {},
   "number_sections": true,
   "sideBar": true,
   "skip_h1_title": false,
   "title_cell": "Table of Contents",
   "title_sidebar": "Contents",
   "toc_cell": false,
   "toc_position": {},
   "toc_section_display": true,
   "toc_window_display": false
  }
 },
 "nbformat": 4,
 "nbformat_minor": 4
}
