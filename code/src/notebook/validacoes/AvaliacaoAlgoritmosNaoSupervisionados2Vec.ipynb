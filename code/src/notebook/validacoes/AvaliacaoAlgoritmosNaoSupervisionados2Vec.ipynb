{
 "cells": [
  {
   "cell_type": "markdown",
   "metadata": {},
   "source": [
    "## Verificacao de Algoritmos\n",
    "\n",
    "Neste notebook sera verificado o uso do algoritmo Word2Vec e Doc2Vec juntamente com o algoritmo de clusterizacao Spectral Clustering para um \"treinamento\" nao supervisionado."
   ]
  },
  {
   "cell_type": "code",
   "execution_count": 1,
   "metadata": {
    "ExecuteTime": {
     "end_time": "2020-06-04T14:12:14.254144Z",
     "start_time": "2020-06-04T14:12:14.251880Z"
    }
   },
   "outputs": [],
   "source": [
    "import os\n",
    "import sys\n",
    "\n",
    "sys.path.append(f\"{os.getcwd()}/../../\")"
   ]
  },
  {
   "cell_type": "code",
   "execution_count": 2,
   "metadata": {
    "ExecuteTime": {
     "end_time": "2020-06-04T14:12:19.974552Z",
     "start_time": "2020-06-04T14:12:15.125178Z"
    }
   },
   "outputs": [],
   "source": [
    "import random\n",
    "import warnings\n",
    "warnings.filterwarnings(\"ignore\")\n",
    "\n",
    "import numpy as np\n",
    "import pandas as pd\n",
    "import matplotlib.pyplot as plt\n",
    "import seaborn as sn\n",
    "\n",
    "from sklearn.metrics.pairwise import (\n",
    "    cosine_distances,\n",
    "    laplacian_kernel, \n",
    "    euclidean_distances, \n",
    "    sigmoid_kernel, \n",
    "    chi2_kernel,\n",
    "    polynomial_kernel,\n",
    "    rbf_kernel\n",
    ")\n",
    "from sklearn.model_selection import cross_val_score\n",
    "from sklearn.metrics import classification_report\n",
    "from sklearn.preprocessing import MinMaxScaler, StandardScaler\n",
    "from sklearn.metrics import confusion_matrix, f1_score, accuracy_score, v_measure_score, silhouette_score\n",
    "from sklearn.model_selection import train_test_split\n",
    "from sklearn.feature_extraction.text import TfidfVectorizer, CountVectorizer\n",
    "from sklearn.cluster import SpectralClustering\n",
    "from sklearn.linear_model import LogisticRegression, SGDClassifier\n",
    "from sklearn.naive_bayes import GaussianNB\n",
    "from sklearn.ensemble import RandomForestClassifier\n",
    "from sklearn.ensemble import VotingClassifier\n",
    "\n",
    "from minisom import MiniSom\n",
    "from gensim.models import Word2Vec, Doc2Vec\n",
    "\n",
    "from processing.utils import CleanUp, RSLP_STEMMER, SNOWBALL_STEMMER, NLP_LEMMATIZER\n",
    "\n",
    "%matplotlib inline\n",
    "\n",
    "clean_up = CleanUp()"
   ]
  },
  {
   "cell_type": "code",
   "execution_count": 3,
   "metadata": {
    "ExecuteTime": {
     "end_time": "2020-06-04T14:12:21.646214Z",
     "start_time": "2020-06-04T14:12:19.975849Z"
    }
   },
   "outputs": [],
   "source": [
    "df = pd.read_csv(f\"{os.getcwd()}/../../../data/dataset.csv\", sep=\"|\")\n",
    "df[\"x\"] = df[\"comentario\"].apply(lambda comment: clean_up.fit(str(comment)))\n",
    "df[\"y\"] = df[\"classificacao\"].apply(lambda clasf: 0 if clasf == \"negativo\" else 1)\n",
    "textos = df[[\"x\", \"y\"]].to_numpy()"
   ]
  },
  {
   "cell_type": "code",
   "execution_count": 4,
   "metadata": {
    "ExecuteTime": {
     "end_time": "2020-06-04T14:12:21.650308Z",
     "start_time": "2020-06-04T14:12:21.647718Z"
    }
   },
   "outputs": [
    {
     "name": "stdout",
     "output_type": "stream",
     "text": [
      "['estou indo trabalhar com mil pessoas quem mandar fazer isolamento social mando meus boletos mando tomar anus coronavirus lockdown'\n",
      " 0]\n",
      "2309\n"
     ]
    }
   ],
   "source": [
    "print(random.choice(textos))\n",
    "print(len(textos))"
   ]
  },
  {
   "cell_type": "markdown",
   "metadata": {},
   "source": [
    "### Unsupervised Learning : Word2Vec +  Spectral Clustering"
   ]
  },
  {
   "cell_type": "code",
   "execution_count": 5,
   "metadata": {
    "ExecuteTime": {
     "end_time": "2020-06-04T14:12:22.380016Z",
     "start_time": "2020-06-04T14:12:21.651789Z"
    }
   },
   "outputs": [
    {
     "name": "stdout",
     "output_type": "stream",
     "text": [
      "Palavras no vocab: 144629\n"
     ]
    }
   ],
   "source": [
    "w2v = Word2Vec.load(f\"{os.getcwd()}/../../ai/models/w2v.model\")\n",
    "print(f\"Palavras no vocab: {len(list(w2v.wv.vocab))}\")\n",
    "\n",
    "# from gensim.models import KeyedVectors\n",
    "# model = KeyedVectors.load_word2vec_format(f\"{os.getcwd()}/../ai/models/skip_s300.txt\")"
   ]
  },
  {
   "cell_type": "code",
   "execution_count": 6,
   "metadata": {
    "ExecuteTime": {
     "end_time": "2020-06-04T14:12:23.275107Z",
     "start_time": "2020-06-04T14:12:23.164662Z"
    },
    "scrolled": false
   },
   "outputs": [],
   "source": [
    "n_textos = []\n",
    "for texto in textos:\n",
    "    doc = []\n",
    "    for palavra in texto[0].split():\n",
    "        try:\n",
    "            doc.append(w2v.wv[palavra])\n",
    "        except:\n",
    "            # print(palavra)\n",
    "            # doc.append(np.zeros((300, )))\n",
    "            pass\n",
    "    doc = np.mean(doc, axis=0)\n",
    "    n_textos.append(doc)\n",
    "n_textos = np.asarray(n_textos)"
   ]
  },
  {
   "cell_type": "code",
   "execution_count": 7,
   "metadata": {
    "ExecuteTime": {
     "end_time": "2020-06-04T14:12:35.434255Z",
     "start_time": "2020-06-04T14:12:27.763151Z"
    },
    "scrolled": false
   },
   "outputs": [],
   "source": [
    "validacoes = []\n",
    "\n",
    "X = n_textos\n",
    "y = textos[:, 1].astype(np.int).ravel()\n",
    "\n",
    "for metric in (\n",
    "    cosine_distances,\n",
    "    euclidean_distances, \n",
    "    sigmoid_kernel, \n",
    "    polynomial_kernel,\n",
    "    rbf_kernel,\n",
    "    laplacian_kernel,\n",
    "):\n",
    "    for assign_labels in [\"discretize\", \"kmeans\"]:\n",
    "        clustering = SpectralClustering(\n",
    "            n_clusters=2,\n",
    "            eigen_solver=\"amg\",\n",
    "            assign_labels=assign_labels,\n",
    "            affinity=\"precomputed_nearest_neighbors\",\n",
    "            random_state=0,\n",
    "            n_jobs=-1\n",
    "        ).fit(metric(X))\n",
    "\n",
    "        pred = clustering.labels_\n",
    "        acc = round(accuracy_score(pred, y) * 100, 2)\n",
    "        f1 = round(f1_score(pred, y) * 100, 2)\n",
    "        validacoes.append((\n",
    "            metric.__name__,\n",
    "            assign_labels,\n",
    "            acc, \n",
    "            f1\n",
    "        ))"
   ]
  },
  {
   "cell_type": "code",
   "execution_count": 8,
   "metadata": {
    "ExecuteTime": {
     "end_time": "2020-06-04T14:12:35.688638Z",
     "start_time": "2020-06-04T14:12:35.435721Z"
    }
   },
   "outputs": [
    {
     "data": {
      "text/html": [
       "<div>\n",
       "<style scoped>\n",
       "    .dataframe tbody tr th:only-of-type {\n",
       "        vertical-align: middle;\n",
       "    }\n",
       "\n",
       "    .dataframe tbody tr th {\n",
       "        vertical-align: top;\n",
       "    }\n",
       "\n",
       "    .dataframe thead th {\n",
       "        text-align: right;\n",
       "    }\n",
       "</style>\n",
       "<table border=\"1\" class=\"dataframe\">\n",
       "  <thead>\n",
       "    <tr style=\"text-align: right;\">\n",
       "      <th></th>\n",
       "      <th>Metric</th>\n",
       "      <th>AssignLabels</th>\n",
       "      <th>Accuracy</th>\n",
       "      <th>F1</th>\n",
       "    </tr>\n",
       "  </thead>\n",
       "  <tbody>\n",
       "    <tr>\n",
       "      <th>4</th>\n",
       "      <td>sigmoid_kernel</td>\n",
       "      <td>discretize</td>\n",
       "      <td>58.21</td>\n",
       "      <td>54.63</td>\n",
       "    </tr>\n",
       "    <tr>\n",
       "      <th>6</th>\n",
       "      <td>polynomial_kernel</td>\n",
       "      <td>discretize</td>\n",
       "      <td>58.21</td>\n",
       "      <td>54.63</td>\n",
       "    </tr>\n",
       "    <tr>\n",
       "      <th>5</th>\n",
       "      <td>sigmoid_kernel</td>\n",
       "      <td>kmeans</td>\n",
       "      <td>58.08</td>\n",
       "      <td>54.38</td>\n",
       "    </tr>\n",
       "    <tr>\n",
       "      <th>7</th>\n",
       "      <td>polynomial_kernel</td>\n",
       "      <td>kmeans</td>\n",
       "      <td>58.08</td>\n",
       "      <td>54.38</td>\n",
       "    </tr>\n",
       "    <tr>\n",
       "      <th>8</th>\n",
       "      <td>rbf_kernel</td>\n",
       "      <td>discretize</td>\n",
       "      <td>60.85</td>\n",
       "      <td>18.41</td>\n",
       "    </tr>\n",
       "    <tr>\n",
       "      <th>10</th>\n",
       "      <td>laplacian_kernel</td>\n",
       "      <td>discretize</td>\n",
       "      <td>60.16</td>\n",
       "      <td>16.21</td>\n",
       "    </tr>\n",
       "    <tr>\n",
       "      <th>9</th>\n",
       "      <td>rbf_kernel</td>\n",
       "      <td>kmeans</td>\n",
       "      <td>58.42</td>\n",
       "      <td>5.88</td>\n",
       "    </tr>\n",
       "    <tr>\n",
       "      <th>11</th>\n",
       "      <td>laplacian_kernel</td>\n",
       "      <td>kmeans</td>\n",
       "      <td>58.03</td>\n",
       "      <td>5.83</td>\n",
       "    </tr>\n",
       "    <tr>\n",
       "      <th>2</th>\n",
       "      <td>euclidean_distances</td>\n",
       "      <td>discretize</td>\n",
       "      <td>60.33</td>\n",
       "      <td>2.14</td>\n",
       "    </tr>\n",
       "    <tr>\n",
       "      <th>3</th>\n",
       "      <td>euclidean_distances</td>\n",
       "      <td>kmeans</td>\n",
       "      <td>60.33</td>\n",
       "      <td>2.14</td>\n",
       "    </tr>\n",
       "    <tr>\n",
       "      <th>0</th>\n",
       "      <td>cosine_distances</td>\n",
       "      <td>discretize</td>\n",
       "      <td>59.46</td>\n",
       "      <td>0.00</td>\n",
       "    </tr>\n",
       "    <tr>\n",
       "      <th>1</th>\n",
       "      <td>cosine_distances</td>\n",
       "      <td>kmeans</td>\n",
       "      <td>59.46</td>\n",
       "      <td>0.00</td>\n",
       "    </tr>\n",
       "  </tbody>\n",
       "</table>\n",
       "</div>"
      ],
      "text/plain": [
       "                 Metric AssignLabels  Accuracy     F1\n",
       "4        sigmoid_kernel   discretize     58.21  54.63\n",
       "6     polynomial_kernel   discretize     58.21  54.63\n",
       "5        sigmoid_kernel       kmeans     58.08  54.38\n",
       "7     polynomial_kernel       kmeans     58.08  54.38\n",
       "8            rbf_kernel   discretize     60.85  18.41\n",
       "10     laplacian_kernel   discretize     60.16  16.21\n",
       "9            rbf_kernel       kmeans     58.42   5.88\n",
       "11     laplacian_kernel       kmeans     58.03   5.83\n",
       "2   euclidean_distances   discretize     60.33   2.14\n",
       "3   euclidean_distances       kmeans     60.33   2.14\n",
       "0      cosine_distances   discretize     59.46   0.00\n",
       "1      cosine_distances       kmeans     59.46   0.00"
      ]
     },
     "execution_count": 8,
     "metadata": {},
     "output_type": "execute_result"
    }
   ],
   "source": [
    "columns = [\"Metric\", \"AssignLabels\", \"Accuracy\", \"F1\"]\n",
    "df = pd.DataFrame(validacoes, columns=columns)\n",
    "df = df.sort_values(by=[\"F1\", \"Accuracy\", \"Metric\"], ascending=False)\n",
    "df.head(25)"
   ]
  },
  {
   "cell_type": "code",
   "execution_count": 9,
   "metadata": {
    "ExecuteTime": {
     "end_time": "2020-06-04T14:12:50.914162Z",
     "start_time": "2020-06-04T14:12:50.352808Z"
    }
   },
   "outputs": [
    {
     "name": "stdout",
     "output_type": "stream",
     "text": [
      "              precision    recall  f1-score   support\n",
      "\n",
      "           0       0.69      0.55      0.61      1383\n",
      "           1       0.48      0.63      0.55       926\n",
      "\n",
      "    accuracy                           0.58      2309\n",
      "   macro avg       0.59      0.59      0.58      2309\n",
      "weighted avg       0.61      0.58      0.59      2309\n",
      "\n"
     ]
    },
    {
     "data": {
      "image/png": "[encoded data removed]",
      "text/plain": [
       "<Figure size 432x288 with 2 Axes>"
      ]
     },
     "metadata": {
      "needs_background": "light"
     },
     "output_type": "display_data"
    }
   ],
   "source": [
    "X = n_textos\n",
    "y = textos[:, 1].astype(np.int).ravel()\n",
    "\n",
    "clustering = SpectralClustering(\n",
    "    n_clusters=2,\n",
    "    eigen_solver=\"amg\",\n",
    "    assign_labels=\"discretize\",\n",
    "    affinity=\"precomputed_nearest_neighbors\",\n",
    "    random_state=0,\n",
    "    n_jobs=-1\n",
    ").fit(sigmoid_kernel(X))\n",
    "\n",
    "pred = clustering.labels_\n",
    "\n",
    "print(classification_report(y, pred))\n",
    "\n",
    "df_cm = confusion_matrix(pred, y)\n",
    "plt.figure(figsize=(6, 4))\n",
    "sn.heatmap(df_cm, annot=True, fmt=\"d\")\n",
    "plt.show()"
   ]
  },
  {
   "cell_type": "markdown",
   "metadata": {},
   "source": [
    "### Unsupervised Learning : Doc2Vec +  Spectral Clustering"
   ]
  },
  {
   "cell_type": "code",
   "execution_count": 10,
   "metadata": {
    "ExecuteTime": {
     "end_time": "2020-06-04T14:12:59.995277Z",
     "start_time": "2020-06-04T14:12:59.270847Z"
    }
   },
   "outputs": [],
   "source": [
    "d2v = Doc2Vec.load(f\"{os.getcwd()}/../../ai/models/d2v.model\")"
   ]
  },
  {
   "cell_type": "code",
   "execution_count": 11,
   "metadata": {
    "ExecuteTime": {
     "end_time": "2020-06-04T14:13:37.334125Z",
     "start_time": "2020-06-04T14:13:00.627054Z"
    }
   },
   "outputs": [],
   "source": [
    "n_textos = []\n",
    "for texto in textos:\n",
    "    doc_vec = d2v.infer_vector(texto[0].split(), epochs=500)\n",
    "    n_textos.append(doc_vec)\n",
    "n_textos = np.asarray(n_textos)"
   ]
  },
  {
   "cell_type": "code",
   "execution_count": 12,
   "metadata": {
    "ExecuteTime": {
     "end_time": "2020-06-04T14:13:42.452555Z",
     "start_time": "2020-06-04T14:13:37.335724Z"
    }
   },
   "outputs": [],
   "source": [
    "validacoes = []\n",
    "\n",
    "X = n_textos\n",
    "y = textos[:, 1].astype(np.int).ravel()\n",
    "\n",
    "for metric in (\n",
    "    cosine_distances,\n",
    "    euclidean_distances, \n",
    "    rbf_kernel,\n",
    "    laplacian_kernel, \n",
    "):\n",
    "    for assign_labels in [\"discretize\", \"kmeans\"]:\n",
    "        clustering = SpectralClustering(\n",
    "            n_clusters=2,\n",
    "            eigen_solver=\"amg\",\n",
    "            assign_labels=assign_labels,\n",
    "            affinity=\"precomputed_nearest_neighbors\",\n",
    "            random_state=0,\n",
    "            n_jobs=-1\n",
    "        ).fit(metric(X))\n",
    "\n",
    "        pred = clustering.labels_\n",
    "        acc = round(accuracy_score(pred, y) * 100, 2)\n",
    "        f1 = round(f1_score(pred, y) * 100, 2)\n",
    "        validacoes.append((\n",
    "            metric.__name__,\n",
    "            assign_labels,\n",
    "            acc, \n",
    "            f1\n",
    "        ))"
   ]
  },
  {
   "cell_type": "code",
   "execution_count": 13,
   "metadata": {
    "ExecuteTime": {
     "end_time": "2020-06-04T14:13:42.466936Z",
     "start_time": "2020-06-04T14:13:42.453850Z"
    }
   },
   "outputs": [
    {
     "data": {
      "text/html": [
       "<div>\n",
       "<style scoped>\n",
       "    .dataframe tbody tr th:only-of-type {\n",
       "        vertical-align: middle;\n",
       "    }\n",
       "\n",
       "    .dataframe tbody tr th {\n",
       "        vertical-align: top;\n",
       "    }\n",
       "\n",
       "    .dataframe thead th {\n",
       "        text-align: right;\n",
       "    }\n",
       "</style>\n",
       "<table border=\"1\" class=\"dataframe\">\n",
       "  <thead>\n",
       "    <tr style=\"text-align: right;\">\n",
       "      <th></th>\n",
       "      <th>index</th>\n",
       "      <th>Metric</th>\n",
       "      <th>AssignLabels</th>\n",
       "      <th>Accuracy</th>\n",
       "      <th>F1</th>\n",
       "    </tr>\n",
       "  </thead>\n",
       "  <tbody>\n",
       "    <tr>\n",
       "      <th>0</th>\n",
       "      <td>6</td>\n",
       "      <td>laplacian_kernel</td>\n",
       "      <td>discretize</td>\n",
       "      <td>46.56</td>\n",
       "      <td>19.56</td>\n",
       "    </tr>\n",
       "    <tr>\n",
       "      <th>1</th>\n",
       "      <td>7</td>\n",
       "      <td>laplacian_kernel</td>\n",
       "      <td>kmeans</td>\n",
       "      <td>50.54</td>\n",
       "      <td>14.78</td>\n",
       "    </tr>\n",
       "    <tr>\n",
       "      <th>2</th>\n",
       "      <td>4</td>\n",
       "      <td>rbf_kernel</td>\n",
       "      <td>discretize</td>\n",
       "      <td>48.12</td>\n",
       "      <td>14.55</td>\n",
       "    </tr>\n",
       "    <tr>\n",
       "      <th>3</th>\n",
       "      <td>5</td>\n",
       "      <td>rbf_kernel</td>\n",
       "      <td>kmeans</td>\n",
       "      <td>51.97</td>\n",
       "      <td>10.06</td>\n",
       "    </tr>\n",
       "    <tr>\n",
       "      <th>4</th>\n",
       "      <td>0</td>\n",
       "      <td>cosine_distances</td>\n",
       "      <td>discretize</td>\n",
       "      <td>58.94</td>\n",
       "      <td>1.25</td>\n",
       "    </tr>\n",
       "    <tr>\n",
       "      <th>5</th>\n",
       "      <td>2</td>\n",
       "      <td>euclidean_distances</td>\n",
       "      <td>discretize</td>\n",
       "      <td>59.16</td>\n",
       "      <td>0.84</td>\n",
       "    </tr>\n",
       "    <tr>\n",
       "      <th>6</th>\n",
       "      <td>3</td>\n",
       "      <td>euclidean_distances</td>\n",
       "      <td>kmeans</td>\n",
       "      <td>59.16</td>\n",
       "      <td>0.84</td>\n",
       "    </tr>\n",
       "    <tr>\n",
       "      <th>7</th>\n",
       "      <td>1</td>\n",
       "      <td>cosine_distances</td>\n",
       "      <td>kmeans</td>\n",
       "      <td>59.16</td>\n",
       "      <td>0.84</td>\n",
       "    </tr>\n",
       "  </tbody>\n",
       "</table>\n",
       "</div>"
      ],
      "text/plain": [
       "   index               Metric AssignLabels  Accuracy     F1\n",
       "0      6     laplacian_kernel   discretize     46.56  19.56\n",
       "1      7     laplacian_kernel       kmeans     50.54  14.78\n",
       "2      4           rbf_kernel   discretize     48.12  14.55\n",
       "3      5           rbf_kernel       kmeans     51.97  10.06\n",
       "4      0     cosine_distances   discretize     58.94   1.25\n",
       "5      2  euclidean_distances   discretize     59.16   0.84\n",
       "6      3  euclidean_distances       kmeans     59.16   0.84\n",
       "7      1     cosine_distances       kmeans     59.16   0.84"
      ]
     },
     "execution_count": 13,
     "metadata": {},
     "output_type": "execute_result"
    }
   ],
   "source": [
    "columns = [\"Metric\", \"AssignLabels\", \"Accuracy\", \"F1\"]\n",
    "df = pd.DataFrame(validacoes, columns=columns)\n",
    "df = df.sort_values(by=[\"F1\", \"Accuracy\", \"Metric\"], ascending=False)\n",
    "df.reset_index().head(25)"
   ]
  },
  {
   "cell_type": "code",
   "execution_count": 14,
   "metadata": {
    "ExecuteTime": {
     "end_time": "2020-06-04T14:13:53.188094Z",
     "start_time": "2020-06-04T14:13:51.931993Z"
    }
   },
   "outputs": [
    {
     "name": "stdout",
     "output_type": "stream",
     "text": [
      "              precision    recall  f1-score   support\n",
      "\n",
      "           0       0.56      0.77      0.65      1383\n",
      "           1       0.24      0.11      0.15       926\n",
      "\n",
      "    accuracy                           0.51      2309\n",
      "   macro avg       0.40      0.44      0.40      2309\n",
      "weighted avg       0.43      0.51      0.45      2309\n",
      "\n"
     ]
    },
    {
     "data": {
      "image/png": "[encoded data removed]",
      "text/plain": [
       "<Figure size 432x288 with 2 Axes>"
      ]
     },
     "metadata": {
      "needs_background": "light"
     },
     "output_type": "display_data"
    }
   ],
   "source": [
    "X = n_textos\n",
    "y = textos[:, 1].astype(np.int).ravel()\n",
    "\n",
    "clustering = SpectralClustering(\n",
    "    n_clusters=2,\n",
    "    eigen_solver=\"amg\",\n",
    "    assign_labels=\"kmeans\",\n",
    "    affinity=\"precomputed_nearest_neighbors\",\n",
    "    random_state=0,\n",
    "    n_jobs=-1\n",
    ").fit(laplacian_kernel(X))\n",
    "\n",
    "pred = clustering.labels_\n",
    "\n",
    "print(classification_report(y, pred))\n",
    "\n",
    "df_cm = confusion_matrix(pred, y)\n",
    "plt.figure(figsize=(6, 4))\n",
    "sn.heatmap(df_cm, annot=True, fmt=\"d\")\n",
    "plt.show()"
   ]
  },
  {
   "cell_type": "markdown",
   "metadata": {},
   "source": [
    "### Unsupervised Learning : Doc2Vec +  SOM"
   ]
  },
  {
   "cell_type": "code",
   "execution_count": 15,
   "metadata": {
    "ExecuteTime": {
     "end_time": "2020-06-04T14:13:56.838764Z",
     "start_time": "2020-06-04T14:13:56.828858Z"
    }
   },
   "outputs": [],
   "source": [
    "def classify(som, data, class_assignments):\n",
    "    \"\"\"Classifies each sample in data in one of the classes definited\n",
    "    using the method labels_map.\n",
    "    Returns a list of the same length of data where the i-th element\n",
    "    is the class assigned to data[i].\n",
    "    \"\"\"\n",
    "    winmap = class_assignments\n",
    "    default_class = np.sum(list(winmap.values())).most_common()[0][0]\n",
    "    result = []\n",
    "    for d in data:\n",
    "        win_position = som.winner(d)\n",
    "        if win_position in winmap:\n",
    "            result.append(winmap[win_position].most_common()[0][0])\n",
    "        else:\n",
    "            result.append(default_class)\n",
    "    return result"
   ]
  },
  {
   "cell_type": "code",
   "execution_count": 29,
   "metadata": {
    "ExecuteTime": {
     "end_time": "2020-06-04T14:52:38.851840Z",
     "start_time": "2020-06-04T14:51:42.797586Z"
    }
   },
   "outputs": [],
   "source": [
    "X = n_textos\n",
    "y = textos[:, 1].astype(np.int).ravel()\n",
    "\n",
    "X_train, X_test, y_train, y_test = train_test_split(X, y, test_size=0.2, random_state=0)\n",
    "\n",
    "som = MiniSom(150, 150, 300, activation_distance=\"cosine\", sigma=1e-3, learning_rate=1e-3)\n",
    "# som.pca_weights_init(X_train)\n",
    "som.train_random(X_train, 1000)"
   ]
  },
  {
   "cell_type": "code",
   "execution_count": 30,
   "metadata": {
    "ExecuteTime": {
     "end_time": "2020-06-04T14:53:37.247719Z",
     "start_time": "2020-06-04T14:52:38.852985Z"
    }
   },
   "outputs": [
    {
     "name": "stdout",
     "output_type": "stream",
     "text": [
      "              precision    recall  f1-score   support\n",
      "\n",
      "           0       0.59      1.00      0.75       274\n",
      "           1       1.00      0.01      0.01       188\n",
      "\n",
      "    accuracy                           0.60       462\n",
      "   macro avg       0.80      0.50      0.38       462\n",
      "weighted avg       0.76      0.60      0.45       462\n",
      "\n"
     ]
    },
    {
     "data": {
      "image/png": "[encoded data removed]",
      "text/plain": [
       "<Figure size 432x288 with 2 Axes>"
      ]
     },
     "metadata": {
      "needs_background": "light"
     },
     "output_type": "display_data"
    }
   ],
   "source": [
    "class_assignments = som.labels_map(X_train, y_train)\n",
    "pred = classify(som, X_test, class_assignments)\n",
    "\n",
    "print(classification_report(y_test, pred))\n",
    "\n",
    "df_cm = confusion_matrix(pred, y_test)\n",
    "plt.figure(figsize=(6, 4))\n",
    "sn.heatmap(df_cm, annot=True, fmt=\"d\")\n",
    "plt.show()"
   ]
  },
  {
   "cell_type": "code",
   "execution_count": 31,
   "metadata": {
    "ExecuteTime": {
     "end_time": "2020-06-04T14:53:50.098738Z",
     "start_time": "2020-06-04T14:53:37.248990Z"
    },
    "scrolled": false
   },
   "outputs": [
    {
     "data": {
      "image/png": "[encoded data removed]",
      "text/plain": [
       "<Figure size 432x432 with 1 Axes>"
      ]
     },
     "metadata": {
      "needs_background": "light"
     },
     "output_type": "display_data"
    }
   ],
   "source": [
    "plt.figure(figsize=(6, 6))\n",
    "wmap = {}\n",
    "im = 0\n",
    "for x, t in zip(X_test, y_test):\n",
    "    w = som.winner(x)\n",
    "    wmap[w] = im\n",
    "    plt. text(w[0]+.5,  w[1]+.5, \"P\" if t == 1 else \"N\",\n",
    "              color=f\"C{t}\", fontdict={'weight': 'bold',  'size': 11})\n",
    "    im = im + 1\n",
    "plt.axis([0, som.get_weights().shape[0], 0,  som.get_weights().shape[1]])\n",
    "plt.show()"
   ]
  },
  {
   "cell_type": "markdown",
   "metadata": {},
   "source": [
    "### Supervised Learning : Doc2Vec + Logistic Regression"
   ]
  },
  {
   "cell_type": "code",
   "execution_count": 32,
   "metadata": {
    "ExecuteTime": {
     "end_time": "2020-06-04T14:53:53.434722Z",
     "start_time": "2020-06-04T14:53:51.945089Z"
    }
   },
   "outputs": [
    {
     "name": "stdout",
     "output_type": "stream",
     "text": [
      "              precision    recall  f1-score   support\n",
      "\n",
      "           0       0.78      0.76      0.77       274\n",
      "           1       0.66      0.68      0.67       188\n",
      "\n",
      "    accuracy                           0.73       462\n",
      "   macro avg       0.72      0.72      0.72       462\n",
      "weighted avg       0.73      0.73      0.73       462\n",
      "\n"
     ]
    },
    {
     "data": {
      "image/png": "[encoded data removed]",
      "text/plain": [
       "<Figure size 432x288 with 2 Axes>"
      ]
     },
     "metadata": {
      "needs_background": "light"
     },
     "output_type": "display_data"
    }
   ],
   "source": [
    "X = n_textos\n",
    "y = textos[:, 1].astype(np.int).ravel()\n",
    "\n",
    "X_train, X_test, y_train, y_test = train_test_split(X, y, test_size=0.2, random_state=0)\n",
    "\n",
    "clf = LogisticRegression(\n",
    "    random_state=0,\n",
    "    n_jobs=-1,\n",
    "    max_iter=1000,\n",
    "    multi_class=\"ovr\"\n",
    ").fit(X_train, y_train)\n",
    "pred = clf.predict(X_test)\n",
    "\n",
    "print(classification_report(y_test, pred))\n",
    "\n",
    "df_cm = confusion_matrix(pred, y_test)\n",
    "plt.figure(figsize=(6, 4))\n",
    "sn.heatmap(df_cm, annot=True, fmt=\"d\")\n",
    "plt.tight_layout()\n",
    "plt.show()"
   ]
  },
  {
   "cell_type": "markdown",
   "metadata": {},
   "source": [
    "### Supervised Learning : Doc2Vec + Ensemble"
   ]
  },
  {
   "cell_type": "code",
   "execution_count": 33,
   "metadata": {
    "ExecuteTime": {
     "end_time": "2020-06-04T14:54:03.417190Z",
     "start_time": "2020-06-04T14:53:53.437494Z"
    }
   },
   "outputs": [
    {
     "name": "stdout",
     "output_type": "stream",
     "text": [
      "Cross Validation accuracy: 0.72 (+/- 0.03)\n",
      "\n",
      "              precision    recall  f1-score   support\n",
      "\n",
      "           0       0.79      0.75      0.77       274\n",
      "           1       0.66      0.71      0.68       188\n",
      "\n",
      "    accuracy                           0.73       462\n",
      "   macro avg       0.73      0.73      0.73       462\n",
      "weighted avg       0.74      0.73      0.73       462\n",
      "\n"
     ]
    },
    {
     "data": {
      "image/png": "[encoded data removed]",
      "text/plain": [
       "<Figure size 432x288 with 2 Axes>"
      ]
     },
     "metadata": {
      "needs_background": "light"
     },
     "output_type": "display_data"
    }
   ],
   "source": [
    "X = n_textos\n",
    "y = textos[:, 1].astype(np.int).ravel()\n",
    "\n",
    "X_train, X_test, y_train, y_test = train_test_split(X, y, test_size=0.2, random_state=0)\n",
    "\n",
    "clf1 = LogisticRegression(random_state=0, n_jobs=-1, max_iter=1000, multi_class=\"ovr\",)\n",
    "clf2 = RandomForestClassifier(n_estimators=100, random_state=0)\n",
    "clf3 = GaussianNB()\n",
    "\n",
    "eclf = VotingClassifier(\n",
    "    estimators=[('lr', clf1), ('rf', clf2), ('gnb', clf3)],\n",
    "    voting='soft', weights=[2, 2, 1], n_jobs=-1\n",
    ").fit(X_train, y_train)\n",
    "pred = eclf.predict(X_test)\n",
    "\n",
    "scores = cross_val_score(eclf, X_train, y_train, cv=5)\n",
    "print(\"Cross Validation accuracy: %0.2f (+/- %0.2f)\" % (scores.mean(), scores.std() * 2))\n",
    "print()\n",
    "\n",
    "print(classification_report(y_test, pred))\n",
    "\n",
    "df_cm = confusion_matrix(pred, y_test)\n",
    "plt.figure(figsize=(6, 4))\n",
    "sn.heatmap(df_cm, annot=True, fmt=\"d\")\n",
    "plt.tight_layout()\n",
    "plt.show()"
   ]
  },
  {
   "cell_type": "code",
   "execution_count": null,
   "metadata": {},
   "outputs": [],
   "source": []
  }
 ],
 "metadata": {
  "hide_input": false,
  "kernelspec": {
   "display_name": "Python 3",
   "language": "python",
   "name": "python3"
  },
  "language_info": {
   "codemirror_mode": {
    "name": "ipython",
    "version": 3
   },
   "file_extension": ".py",
   "mimetype": "text/x-python",
   "name": "python",
   "nbconvert_exporter": "python",
   "pygments_lexer": "ipython3",
   "version": "3.8.3"
  },
  "toc": {
   "base_numbering": 1,
   "nav_menu": {},
   "number_sections": true,
   "sideBar": true,
   "skip_h1_title": false,
   "title_cell": "Table of Contents",
   "title_sidebar": "Contents",
   "toc_cell": false,
   "toc_position": {},
   "toc_section_display": true,
   "toc_window_display": false
  }
 },
 "nbformat": 4,
 "nbformat_minor": 4
}
