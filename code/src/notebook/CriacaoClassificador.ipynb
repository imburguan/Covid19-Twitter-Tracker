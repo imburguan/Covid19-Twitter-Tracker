{
 "cells": [
  {
   "cell_type": "code",
   "execution_count": 1,
   "metadata": {
    "ExecuteTime": {
     "end_time": "2020-06-03T12:05:57.537793Z",
     "start_time": "2020-06-03T12:05:57.535823Z"
    }
   },
   "outputs": [],
   "source": [
    "import os\n",
    "import sys\n",
    "\n",
    "sys.path.append(f\"{os.getcwd()}/../\")"
   ]
  },
  {
   "cell_type": "code",
   "execution_count": 2,
   "metadata": {
    "ExecuteTime": {
     "end_time": "2020-06-03T12:06:00.679981Z",
     "start_time": "2020-06-03T12:05:57.538675Z"
    }
   },
   "outputs": [],
   "source": [
    "import time\n",
    "import random\n",
    "import warnings\n",
    "from multiprocessing import cpu_count\n",
    "from itertools import chain\n",
    "warnings.filterwarnings(\"ignore\")\n",
    "\n",
    "import numpy as np\n",
    "import pandas as pd\n",
    "import matplotlib.pyplot as plt\n",
    "import seaborn as sn\n",
    "import joblib\n",
    "import ray\n",
    "from dask.distributed import Client\n",
    "\n",
    "from sklearn.pipeline import make_pipeline\n",
    "from sklearn.metrics import classification_report\n",
    "from sklearn.metrics import confusion_matrix, f1_score, accuracy_score\n",
    "from sklearn.model_selection import cross_val_score\n",
    "from sklearn.model_selection import train_test_split\n",
    "from sklearn.feature_extraction.text import TfidfVectorizer, CountVectorizer\n",
    "from sklearn.linear_model import SGDClassifier\n",
    "from sklearn.svm import SVC\n",
    "from sklearn.model_selection import GridSearchCV\n",
    "# from sklearn.base import BaseEstimator, TransformerMixin\n",
    "# from sklearn.preprocessing import StandardScaler\n",
    "# from sklearn.neural_network import MLPClassifier\n",
    "# from sklearn.ensemble import RandomForestClassifier\n",
    "# from sklearn.ensemble import VotingClassifier\n",
    "# from gensim.models import Word2Vec\n",
    "\n",
    "from processing.utils import CleanUp, SNOWBALL_STEMMER\n",
    "\n",
    "%matplotlib inline\n",
    "\n",
    "clean_up = CleanUp(stemmer=SNOWBALL_STEMMER)"
   ]
  },
  {
   "cell_type": "code",
   "execution_count": 3,
   "metadata": {
    "ExecuteTime": {
     "end_time": "2020-06-03T12:06:01.151945Z",
     "start_time": "2020-06-03T12:06:00.681153Z"
    }
   },
   "outputs": [
    {
     "name": "stderr",
     "output_type": "stream",
     "text": [
      "2020-06-03 09:06:00,715\tINFO resource_spec.py:204 -- Starting Ray with 8.2 GiB memory available for workers and up to 4.1 GiB for objects. You can adjust these settings with ray.init(memory=<bytes>, object_store_memory=<bytes>).\n"
     ]
    },
    {
     "data": {
      "text/plain": [
       "{'node_ip_address': '10.8.1.29',\n",
       " 'raylet_ip_address': '10.8.1.29',\n",
       " 'redis_address': '10.8.1.29:17715',\n",
       " 'object_store_address': '/tmp/ray/session_2020-06-03_09-06-00_682830_14679/sockets/plasma_store',\n",
       " 'raylet_socket_name': '/tmp/ray/session_2020-06-03_09-06-00_682830_14679/sockets/raylet',\n",
       " 'webui_url': None,\n",
       " 'session_dir': '/tmp/ray/session_2020-06-03_09-06-00_682830_14679'}"
      ]
     },
     "execution_count": 3,
     "metadata": {},
     "output_type": "execute_result"
    }
   ],
   "source": [
    "ray.shutdown()\n",
    "ray.init(num_cpus=cpu_count(), include_webui=False, lru_evict=True)"
   ]
  },
  {
   "cell_type": "code",
   "execution_count": 4,
   "metadata": {
    "ExecuteTime": {
     "end_time": "2020-06-03T12:09:23.363540Z",
     "start_time": "2020-06-03T12:06:01.154374Z"
    },
    "scrolled": false
   },
   "outputs": [],
   "source": [
    "corpus = []\n",
    "\n",
    "filename = f\"{os.getcwd()}/../../data/embedding/corpus.txt\"\n",
    "file_it = pd.read_csv(filename, header=None, iterator=True, names=[\"sentence\"], chunksize=5000,)\n",
    "\n",
    "@ray.remote\n",
    "def carregar_frases(lines):\n",
    "    import os\n",
    "    import sys\n",
    "\n",
    "    sys.path.append(f\"{os.getcwd()}/../\")\n",
    "    from processing.utils import CleanUp, SNOWBALL_STEMMER\n",
    "    clean_up = CleanUp(stemmer=SNOWBALL_STEMMER)\n",
    "    \n",
    "    lines = lines[\"sentence\"].tolist()\n",
    "    return [clean_up.fit(line) for line in lines]\n",
    "\n",
    "# itera = []\n",
    "# i = 0\n",
    "# for lines in file_it:\n",
    "#     itera.append(lines)\n",
    "#     if i == 5:\n",
    "#         break\n",
    "#     i += 1\n",
    "corpus = list(chain(*ray.get([carregar_frases.remote(lines) for lines in file_it])))\n",
    "\n",
    "ray.shutdown()"
   ]
  },
  {
   "cell_type": "code",
   "execution_count": 5,
   "metadata": {
    "ExecuteTime": {
     "end_time": "2020-06-03T12:09:23.368170Z",
     "start_time": "2020-06-03T12:09:23.364989Z"
    }
   },
   "outputs": [
    {
     "data": {
      "text/plain": [
       "723031"
      ]
     },
     "execution_count": 5,
     "metadata": {},
     "output_type": "execute_result"
    }
   ],
   "source": [
    "len(corpus)"
   ]
  },
  {
   "cell_type": "code",
   "execution_count": 6,
   "metadata": {
    "ExecuteTime": {
     "end_time": "2020-06-03T12:09:25.372876Z",
     "start_time": "2020-06-03T12:09:23.369450Z"
    }
   },
   "outputs": [],
   "source": [
    "df = pd.read_csv(f\"{os.getcwd()}/../../data/dataset.csv\", sep=\"|\")\n",
    "df[\"x\"] = df[\"comentario\"].apply(lambda comment: clean_up.fit(str(comment)))\n",
    "df[\"y\"] = df[\"classificacao\"].apply(lambda clasf: 0 if clasf == \"negativo\" else 1)\n",
    "textos = df[[\"x\", \"y\"]].to_numpy()"
   ]
  },
  {
   "cell_type": "code",
   "execution_count": 7,
   "metadata": {
    "ExecuteTime": {
     "end_time": "2020-06-03T12:09:25.377438Z",
     "start_time": "2020-06-03T12:09:25.374072Z"
    }
   },
   "outputs": [
    {
     "name": "stdout",
     "output_type": "stream",
     "text": [
      "['respost furaca por favor precis sej rap meu batimenestous esta aceler falt continu'\n",
      " 1]\n",
      "2232\n"
     ]
    }
   ],
   "source": [
    "print(random.choice(textos))\n",
    "print(len(textos))\n",
    "\n",
    "for item in list(textos[:, 0]):\n",
    "    corpus.append(item)\n",
    "# corpus += textos[:, 0]\n",
    "# print(df[df['x'] == ''].index)\n",
    "# print(df.loc[250])"
   ]
  },
  {
   "cell_type": "code",
   "execution_count": 8,
   "metadata": {
    "ExecuteTime": {
     "end_time": "2020-06-03T12:09:25.562070Z",
     "start_time": "2020-06-03T12:09:25.378565Z"
    }
   },
   "outputs": [],
   "source": [
    "# class Word2VecVectorizer(TransformerMixin, BaseEstimator):\n",
    "    \n",
    "#     def __init__(self):\n",
    "#         self.w2v = Word2Vec.load(f\"{os.getcwd()}/../ai/models/w2v.model\")\n",
    "#         # print(f\"Palavras no vocab: {len(list(self.w2v.wv.vocab))}\")\n",
    "    \n",
    "#     def fit(self, X, y=None):\n",
    "#         return self\n",
    "    \n",
    "#     def transform(self, X):\n",
    "#         n_textos = []\n",
    "#         for texto in X:\n",
    "#             doc = []\n",
    "#             for palavra in texto.split():\n",
    "#                 try:\n",
    "#                     doc.append(self.w2v.wv[palavra])\n",
    "#                 except:\n",
    "#                     doc.append(np.zeros(300, ))\n",
    "#             n_textos.append(np.mean(doc, axis=0))\n",
    "#         return StandardScaler().fit_transform(np.asarray(n_textos)) \n",
    "    \n",
    "#     def fit_transform(self, X, y=None):\n",
    "#         return self.transform(X)"
   ]
  },
  {
   "cell_type": "code",
   "execution_count": 9,
   "metadata": {
    "ExecuteTime": {
     "end_time": "2020-06-03T12:09:25.738694Z",
     "start_time": "2020-06-03T12:09:25.565752Z"
    }
   },
   "outputs": [],
   "source": [
    "# w2v = Word2VecVectorizer()\n",
    "# sgd_w2v = SGDClassifier(\n",
    "#     alpha=1e-7,\n",
    "#     random_state=0,\n",
    "#     n_jobs=-1,\n",
    "#     max_iter=3000,\n",
    "#     n_iter_no_change=50\n",
    "# )\n",
    "\n",
    "# pipe = make_pipeline(w2v, sgd_w2v)\n",
    "\n",
    "# X = textos[:, 0]\n",
    "# y = textos[:, 1].astype(np.int).ravel()\n",
    "\n",
    "# X_train, X_test, y_train, y_test = train_test_split(X, y, test_size=0.2, random_state=0)\n",
    "\n",
    "# pipe.fit(X_train, y_train)\n",
    "# pred = pipe.predict(X_test)\n",
    "\n",
    "# print(classification_report(y_test, pred))\n",
    "\n",
    "# df_cm = confusion_matrix(pred, y_test)\n",
    "# plt.figure(figsize=(6, 4))\n",
    "# sn.heatmap(df_cm, annot=True, fmt=\"d\")\n",
    "# plt.tight_layout()\n",
    "# plt.show()"
   ]
  },
  {
   "cell_type": "code",
   "execution_count": 10,
   "metadata": {
    "ExecuteTime": {
     "end_time": "2020-06-03T12:19:18.032602Z",
     "start_time": "2020-06-03T12:09:25.743365Z"
    }
   },
   "outputs": [],
   "source": [
    "validacoes, N = [], 7\n",
    "for ngram_range in zip(np.ones((N), dtype=np.int), range(1, N)):\n",
    "    acc, f1 = [], []\n",
    "    tfidf = TfidfVectorizer(ngram_range=ngram_range, lowercase=False).fit(corpus)\n",
    "    for _ in range(5):\n",
    "        clf = SVC(kernel=\"linear\", C=5)\n",
    "        pipe = make_pipeline(tfidf, clf)\n",
    "\n",
    "        X = textos[:, 0]\n",
    "        y = textos[:, 1].astype(np.int).ravel()\n",
    "\n",
    "        X_train, X_test, y_train, y_test = train_test_split(X, y, test_size=0.2)\n",
    "\n",
    "        pipe.fit(X_train, y_train)\n",
    "        pred = pipe.predict(X_test)\n",
    "\n",
    "        acc.append(round(accuracy_score(pred, y_test) * 100, 2))\n",
    "        f1.append(round(f1_score(pred, y_test) * 100, 2))\n",
    "\n",
    "    validacoes.append((\n",
    "        ngram_range,\n",
    "        round(np.mean(acc), 2),\n",
    "        np.max(acc),\n",
    "        round(np.mean(f1), 2),\n",
    "        np.max(f1)\n",
    "    ))"
   ]
  },
  {
   "cell_type": "code",
   "execution_count": 11,
   "metadata": {
    "ExecuteTime": {
     "end_time": "2020-06-03T12:19:18.050333Z",
     "start_time": "2020-06-03T12:19:18.033721Z"
    }
   },
   "outputs": [
    {
     "data": {
      "text/html": [
       "<div>\n",
       "<style scoped>\n",
       "    .dataframe tbody tr th:only-of-type {\n",
       "        vertical-align: middle;\n",
       "    }\n",
       "\n",
       "    .dataframe tbody tr th {\n",
       "        vertical-align: top;\n",
       "    }\n",
       "\n",
       "    .dataframe thead th {\n",
       "        text-align: right;\n",
       "    }\n",
       "</style>\n",
       "<table border=\"1\" class=\"dataframe\">\n",
       "  <thead>\n",
       "    <tr style=\"text-align: right;\">\n",
       "      <th></th>\n",
       "      <th>NGram</th>\n",
       "      <th>Accuracy</th>\n",
       "      <th>Acc Max.</th>\n",
       "      <th>F1</th>\n",
       "      <th>F1 Max.</th>\n",
       "    </tr>\n",
       "  </thead>\n",
       "  <tbody>\n",
       "    <tr>\n",
       "      <th>2</th>\n",
       "      <td>(1, 3)</td>\n",
       "      <td>76.87</td>\n",
       "      <td>78.52</td>\n",
       "      <td>72.64</td>\n",
       "      <td>75.51</td>\n",
       "    </tr>\n",
       "    <tr>\n",
       "      <th>4</th>\n",
       "      <td>(1, 5)</td>\n",
       "      <td>76.33</td>\n",
       "      <td>78.08</td>\n",
       "      <td>72.44</td>\n",
       "      <td>73.80</td>\n",
       "    </tr>\n",
       "    <tr>\n",
       "      <th>5</th>\n",
       "      <td>(1, 6)</td>\n",
       "      <td>75.30</td>\n",
       "      <td>77.18</td>\n",
       "      <td>72.03</td>\n",
       "      <td>74.40</td>\n",
       "    </tr>\n",
       "    <tr>\n",
       "      <th>3</th>\n",
       "      <td>(1, 4)</td>\n",
       "      <td>75.75</td>\n",
       "      <td>78.75</td>\n",
       "      <td>71.29</td>\n",
       "      <td>74.53</td>\n",
       "    </tr>\n",
       "    <tr>\n",
       "      <th>1</th>\n",
       "      <td>(1, 2)</td>\n",
       "      <td>75.12</td>\n",
       "      <td>77.18</td>\n",
       "      <td>69.32</td>\n",
       "      <td>72.68</td>\n",
       "    </tr>\n",
       "    <tr>\n",
       "      <th>0</th>\n",
       "      <td>(1, 1)</td>\n",
       "      <td>72.08</td>\n",
       "      <td>76.51</td>\n",
       "      <td>65.39</td>\n",
       "      <td>71.70</td>\n",
       "    </tr>\n",
       "  </tbody>\n",
       "</table>\n",
       "</div>"
      ],
      "text/plain": [
       "    NGram  Accuracy  Acc Max.     F1  F1 Max.\n",
       "2  (1, 3)     76.87     78.52  72.64    75.51\n",
       "4  (1, 5)     76.33     78.08  72.44    73.80\n",
       "5  (1, 6)     75.30     77.18  72.03    74.40\n",
       "3  (1, 4)     75.75     78.75  71.29    74.53\n",
       "1  (1, 2)     75.12     77.18  69.32    72.68\n",
       "0  (1, 1)     72.08     76.51  65.39    71.70"
      ]
     },
     "execution_count": 11,
     "metadata": {},
     "output_type": "execute_result"
    }
   ],
   "source": [
    "columns = [\"NGram\", \"Accuracy\", \"Acc Max.\", \"F1\", \"F1 Max.\"]\n",
    "df = pd.DataFrame(validacoes, columns=columns)\n",
    "df = df.sort_values(by=[\"F1\", \"Accuracy\", \"NGram\"], ascending=False)\n",
    "ngram_range = df.reset_index().loc[0][\"NGram\"]\n",
    "df.head(25)"
   ]
  },
  {
   "cell_type": "markdown",
   "metadata": {},
   "source": [
    "## Modelo final selecionado"
   ]
  },
  {
   "cell_type": "code",
   "execution_count": 12,
   "metadata": {
    "ExecuteTime": {
     "end_time": "2020-06-03T12:20:29.597520Z",
     "start_time": "2020-06-03T12:19:18.051325Z"
    }
   },
   "outputs": [
    {
     "name": "stdout",
     "output_type": "stream",
     "text": [
      "NGram escolhido: (1, 3)\n"
     ]
    }
   ],
   "source": [
    "print(f\"NGram escolhido: {ngram_range}\")\n",
    "tfidf = TfidfVectorizer(ngram_range=ngram_range, lowercase=False).fit(corpus)"
   ]
  },
  {
   "cell_type": "code",
   "execution_count": 22,
   "metadata": {
    "ExecuteTime": {
     "end_time": "2020-06-03T12:35:08.754595Z",
     "start_time": "2020-06-03T12:35:04.990168Z"
    },
    "scrolled": false
   },
   "outputs": [
    {
     "name": "stdout",
     "output_type": "stream",
     "text": [
      "CrossValidation scores: [0.73109244 0.77310924 0.80392157 0.75630252 0.72829132]\n",
      "\n",
      "              precision    recall  f1-score   support\n",
      "\n",
      "           0       0.84      0.79      0.82       274\n",
      "           1       0.70      0.76      0.73       173\n",
      "\n",
      "    accuracy                           0.78       447\n",
      "   macro avg       0.77      0.78      0.77       447\n",
      "weighted avg       0.79      0.78      0.78       447\n",
      "\n"
     ]
    },
    {
     "data": {
      "image/png": "[encoded data removed]",
      "text/plain": [
       "<Figure size 432x288 with 2 Axes>"
      ]
     },
     "metadata": {
      "needs_background": "light"
     },
     "output_type": "display_data"
    }
   ],
   "source": [
    "clf = SVC(kernel=\"linear\", C=5, random_state=0)\n",
    "\n",
    "pipe = make_pipeline(tfidf, clf)\n",
    "\n",
    "X = textos[:, 0]\n",
    "y = textos[:, 1].astype(np.int).ravel()\n",
    "\n",
    "X_train, X_test, y_train, y_test = train_test_split(X, y, test_size=0.2)\n",
    "\n",
    "pipe.fit(X_train, y_train)\n",
    "\n",
    "scores = cross_val_score(pipe, X_train, y_train, cv=5)\n",
    "print(f\"CrossValidation scores: {scores}\")\n",
    "print()\n",
    "\n",
    "pred = pipe.predict(X_test)\n",
    "print(classification_report(y_test, pred))\n",
    "df_cm = confusion_matrix(pred, y_test)\n",
    "plt.figure(figsize=(6, 4))\n",
    "sn.heatmap(df_cm, annot=True, fmt=\"d\")\n",
    "plt.tight_layout()\n",
    "plt.show()"
   ]
  },
  {
   "cell_type": "code",
   "execution_count": 23,
   "metadata": {
    "ExecuteTime": {
     "end_time": "2020-06-03T12:35:25.117474Z",
     "start_time": "2020-06-03T12:35:25.115090Z"
    }
   },
   "outputs": [],
   "source": [
    "# params = {\n",
    "#     'loss': ['hinge', 'log', 'modified_huber', 'squared_hinge', 'perceptron'],\n",
    "#     'alpha': [1e-1, 1e-3, 1e-5, 1e-7],\n",
    "#     'max_iter': [500, 1000, 2000, 3000],\n",
    "#     'n_iter_no_change': [10, 25, 50]\n",
    "# }\n",
    "\n",
    "# clf = make_pipeline(tfidf, \n",
    "#                     GridSearchCV(SGDClassifier(random_state=0, n_jobs=-1,),\n",
    "#                                  params,\n",
    "#                                  cv=5,\n",
    "#                                  refit=True, n_jobs=-1))\n",
    "\n",
    "# params = {\n",
    "#     'kernel': ['linear', 'rbf', 'sigmoid'],\n",
    "#     'C': [0.1, 0.5, 1, 5, 10],\n",
    "#     'tol': [1e-1, 1e-2, 1e-3, 1e-4],\n",
    "#     'decision_function_shape': ['ovo', 'ovr']\n",
    "# }\n",
    "\n",
    "# cv = GridSearchCV(SVC(random_state=0), params, refit=True, n_jobs=-1)\n",
    "# clf = make_pipeline(tfidf, cv)\n",
    "\n",
    "# X = textos[:, 0]\n",
    "# y = textos[:, 1].astype(np.int).ravel()\n",
    "\n",
    "# X_train, X_test, y_train, y_test = train_test_split(X, y, test_size=0.2, random_state=0)\n",
    "\n",
    "# clf.fit(X_train, y_train)\n",
    "# pred = clf.predict(X_test)\n",
    "\n",
    "# print(classification_report(y_test, pred))\n",
    "\n",
    "# df_cm = confusion_matrix(pred, y_test)\n",
    "# plt.figure(figsize=(6, 4))\n",
    "# sn.heatmap(df_cm, annot=True, fmt=\"d\")\n",
    "# plt.tight_layout()\n",
    "# plt.show()"
   ]
  },
  {
   "cell_type": "code",
   "execution_count": 24,
   "metadata": {
    "ExecuteTime": {
     "end_time": "2020-06-03T12:35:26.235128Z",
     "start_time": "2020-06-03T12:35:26.232936Z"
    }
   },
   "outputs": [],
   "source": [
    "# clf1 = make_pipeline(w2v, sgd_w2v)\n",
    "# clf2 = make_pipeline(tfidf, sgd_tfidf)\n",
    "\n",
    "# eclf = VotingClassifier(\n",
    "#     estimators=[('w2v', clf1), ('tfidf', clf2)],\n",
    "#     voting='hard', weights=[1, 1], n_jobs=-1\n",
    "# )\n",
    "\n",
    "# X = textos[:, 0]\n",
    "# y = textos[:, 1].astype(np.int).ravel()\n",
    "\n",
    "# X_train, X_test, y_train, y_test = train_test_split(X, y, test_size=0.2, random_state=0)\n",
    "\n",
    "# eclf.fit(X_train, y_train)\n",
    "# pred = eclf.predict(X_test)\n",
    "\n",
    "# print(classification_report(y_test, pred))\n",
    "\n",
    "# df_cm = confusion_matrix(pred, y_test)\n",
    "# plt.figure(figsize=(6, 4))\n",
    "# sn.heatmap(df_cm, annot=True, fmt=\"d\")\n",
    "# plt.tight_layout()\n",
    "# plt.show()"
   ]
  },
  {
   "cell_type": "code",
   "execution_count": 25,
   "metadata": {
    "ExecuteTime": {
     "end_time": "2020-06-03T12:35:31.668262Z",
     "start_time": "2020-06-03T12:35:30.319261Z"
    }
   },
   "outputs": [
    {
     "data": {
      "text/plain": [
       "['/ssd/programas/Covid19-Twitter-Tracker/code/src/notebook/../ai/models/tweets_classifier.model']"
      ]
     },
     "execution_count": 25,
     "metadata": {},
     "output_type": "execute_result"
    }
   ],
   "source": [
    "clf = SVC(kernel=\"linear\", C=5, random_state=0)\n",
    "pipe = make_pipeline(tfidf, clf)\n",
    "\n",
    "X = textos[:, 0]\n",
    "y = textos[:, 1].astype(np.int).ravel()\n",
    "\n",
    "pipe.fit(X, y)\n",
    "\n",
    "joblib.dump(pipe, f\"{os.getcwd()}/../ai/models/tweets_classifier.model\")"
   ]
  },
  {
   "cell_type": "code",
   "execution_count": null,
   "metadata": {},
   "outputs": [],
   "source": []
  }
 ],
 "metadata": {
  "hide_input": false,
  "kernelspec": {
   "display_name": "Python 3",
   "language": "python",
   "name": "python3"
  },
  "language_info": {
   "codemirror_mode": {
    "name": "ipython",
    "version": 3
   },
   "file_extension": ".py",
   "mimetype": "text/x-python",
   "name": "python",
   "nbconvert_exporter": "python",
   "pygments_lexer": "ipython3",
   "version": "3.8.3"
  },
  "toc": {
   "base_numbering": 1,
   "nav_menu": {},
   "number_sections": true,
   "sideBar": true,
   "skip_h1_title": false,
   "title_cell": "Table of Contents",
   "title_sidebar": "Contents",
   "toc_cell": false,
   "toc_position": {},
   "toc_section_display": true,
   "toc_window_display": false
  }
 },
 "nbformat": 4,
 "nbformat_minor": 4
}
