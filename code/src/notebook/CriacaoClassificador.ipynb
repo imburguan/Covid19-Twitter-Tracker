{
 "cells": [
  {
   "cell_type": "code",
   "execution_count": 1,
   "metadata": {
    "ExecuteTime": {
     "end_time": "2020-05-31T02:17:52.357910Z",
     "start_time": "2020-05-31T02:17:52.354789Z"
    }
   },
   "outputs": [],
   "source": [
    "import os\n",
    "import sys\n",
    "\n",
    "sys.path.append(f\"{os.getcwd()}/../\")"
   ]
  },
  {
   "cell_type": "code",
   "execution_count": 295,
   "metadata": {
    "ExecuteTime": {
     "end_time": "2020-05-31T03:57:23.505432Z",
     "start_time": "2020-05-31T03:57:23.499100Z"
    }
   },
   "outputs": [],
   "source": [
    "import time\n",
    "import random\n",
    "import warnings\n",
    "warnings.filterwarnings(\"ignore\")\n",
    "\n",
    "import numpy as np\n",
    "import pandas as pd\n",
    "import matplotlib.pyplot as plt\n",
    "import seaborn as sn\n",
    "from joblib import dump, load\n",
    "\n",
    "from sklearn.pipeline import make_pipeline\n",
    "from sklearn.metrics import classification_report\n",
    "from sklearn.metrics import confusion_matrix\n",
    "from sklearn.model_selection import train_test_split\n",
    "from sklearn.feature_extraction.text import TfidfVectorizer\n",
    "from sklearn.linear_model import SGDClassifier\n",
    "from sklearn.model_selection import GridSearchCV\n",
    "# from sklearn.base import BaseEstimator, TransformerMixin\n",
    "# from sklearn.preprocessing import StandardScaler\n",
    "# from sklearn.neural_network import MLPClassifier\n",
    "# from sklearn.ensemble import RandomForestClassifier\n",
    "# from sklearn.ensemble import VotingClassifier\n",
    "# from gensim.models import Word2Vec\n",
    "\n",
    "from processing.utils import CleanUp, SNOWBALL_STEMMER\n",
    "\n",
    "%matplotlib inline\n",
    "\n",
    "clean_up = CleanUp(stemmer=SNOWBALL_STEMMER)"
   ]
  },
  {
   "cell_type": "code",
   "execution_count": 305,
   "metadata": {
    "ExecuteTime": {
     "end_time": "2020-05-31T04:12:58.538335Z",
     "start_time": "2020-05-31T04:07:58.062447Z"
    }
   },
   "outputs": [],
   "source": [
    "corpus = []\n",
    "\n",
    "filename = f\"{os.getcwd()}/../../data/embedding/corpus.txt\"\n",
    "file_it = pd.read_csv(filename, header=None, iterator=True, names=[\"sentence\"], chunksize=15000,)\n",
    "\n",
    "i = 0\n",
    "for lines in file_it:\n",
    "    if i == 20:\n",
    "        break\n",
    "    for line in lines[\"sentence\"].tolist():\n",
    "        corpus.append(clean_up.fit(line))\n",
    "    i += 1"
   ]
  },
  {
   "cell_type": "code",
   "execution_count": 306,
   "metadata": {
    "ExecuteTime": {
     "end_time": "2020-05-31T04:13:00.138752Z",
     "start_time": "2020-05-31T04:12:58.539668Z"
    }
   },
   "outputs": [],
   "source": [
    "df = pd.read_csv(f\"{os.getcwd()}/../../data/dataset.csv\", sep=\"|\")\n",
    "df[\"x\"] = df[\"comentario\"].apply(lambda comment: clean_up.fit(str(comment)))\n",
    "df[\"y\"] = df[\"classificacao\"].apply(lambda clasf: 0 if clasf == \"negativo\" else 1)\n",
    "textos = df[[\"x\", \"y\"]].to_numpy()"
   ]
  },
  {
   "cell_type": "code",
   "execution_count": 307,
   "metadata": {
    "ExecuteTime": {
     "end_time": "2020-05-31T04:13:00.142787Z",
     "start_time": "2020-05-31T04:13:00.140223Z"
    }
   },
   "outputs": [
    {
     "name": "stdout",
     "output_type": "stream",
     "text": [
      "['nao estou com covid muit men algu minh famil estou algum red soc porqu estav afim'\n",
      " 0]\n",
      "2044\n"
     ]
    }
   ],
   "source": [
    "print(random.choice(textos))\n",
    "print(len(textos))\n",
    "# print(df[df['x'] == ''].index)\n",
    "# print(df.loc[250])"
   ]
  },
  {
   "cell_type": "code",
   "execution_count": 308,
   "metadata": {
    "ExecuteTime": {
     "end_time": "2020-05-31T04:13:00.313432Z",
     "start_time": "2020-05-31T04:13:00.143937Z"
    }
   },
   "outputs": [],
   "source": [
    "# class Word2VecVectorizer(TransformerMixin, BaseEstimator):\n",
    "    \n",
    "#     def __init__(self):\n",
    "#         self.w2v = Word2Vec.load(f\"{os.getcwd()}/../ai/models/w2v.model\")\n",
    "#         # print(f\"Palavras no vocab: {len(list(self.w2v.wv.vocab))}\")\n",
    "    \n",
    "#     def fit(self, X, y=None):\n",
    "#         return self\n",
    "    \n",
    "#     def transform(self, X):\n",
    "#         n_textos = []\n",
    "#         for texto in X:\n",
    "#             doc = []\n",
    "#             for palavra in texto.split():\n",
    "#                 try:\n",
    "#                     doc.append(self.w2v.wv[palavra])\n",
    "#                 except:\n",
    "#                     doc.append(np.zeros(300, ))\n",
    "#             n_textos.append(np.mean(doc, axis=0))\n",
    "#         return StandardScaler().fit_transform(np.asarray(n_textos)) \n",
    "    \n",
    "#     def fit_transform(self, X, y=None):\n",
    "#         return self.transform(X)"
   ]
  },
  {
   "cell_type": "code",
   "execution_count": 309,
   "metadata": {
    "ExecuteTime": {
     "end_time": "2020-05-31T04:13:00.512419Z",
     "start_time": "2020-05-31T04:13:00.317553Z"
    }
   },
   "outputs": [],
   "source": [
    "# w2v = Word2VecVectorizer()\n",
    "# sgd_w2v = SGDClassifier(\n",
    "#     alpha=1e-7,\n",
    "#     random_state=0,\n",
    "#     n_jobs=-1,\n",
    "#     max_iter=3000,\n",
    "#     n_iter_no_change=50\n",
    "# )\n",
    "\n",
    "# pipe = make_pipeline(w2v, sgd_w2v)\n",
    "\n",
    "# X = textos[:, 0]\n",
    "# y = textos[:, 1].astype(np.int).ravel()\n",
    "\n",
    "# X_train, X_test, y_train, y_test = train_test_split(X, y, test_size=0.2, random_state=0)\n",
    "\n",
    "# pipe.fit(X_train, y_train)\n",
    "# pred = pipe.predict(X_test)\n",
    "\n",
    "# print(classification_report(y_test, pred))\n",
    "\n",
    "# df_cm = confusion_matrix(pred, y_test)\n",
    "# plt.figure(figsize=(6, 4))\n",
    "# sn.heatmap(df_cm, annot=True, fmt=\"d\")\n",
    "# plt.tight_layout()\n",
    "# plt.show()"
   ]
  },
  {
   "cell_type": "code",
   "execution_count": 310,
   "metadata": {
    "ExecuteTime": {
     "end_time": "2020-05-31T04:13:34.373737Z",
     "start_time": "2020-05-31T04:13:00.513974Z"
    }
   },
   "outputs": [],
   "source": [
    "tfidf = TfidfVectorizer(ngram_range=(1, 3)).fit(corpus)"
   ]
  },
  {
   "cell_type": "code",
   "execution_count": 311,
   "metadata": {
    "ExecuteTime": {
     "end_time": "2020-05-31T04:13:34.377202Z",
     "start_time": "2020-05-31T04:13:34.374833Z"
    }
   },
   "outputs": [],
   "source": [
    "sgd_tfidf = SGDClassifier(\n",
    "    alpha=1e-5,\n",
    "    random_state=0,\n",
    "    n_jobs=-1,\n",
    "    max_iter=3000,\n",
    "    n_iter_no_change=50\n",
    ")"
   ]
  },
  {
   "cell_type": "code",
   "execution_count": 312,
   "metadata": {
    "ExecuteTime": {
     "end_time": "2020-05-31T04:13:34.545247Z",
     "start_time": "2020-05-31T04:13:34.378717Z"
    }
   },
   "outputs": [],
   "source": [
    "# params = {\n",
    "#     'loss': ['hinge', 'log', 'modified_huber', 'squared_hinge', 'perceptron'],\n",
    "#     'alpha': [1e-1, 1e-3, 1e-5, 1e-7],\n",
    "#     'max_iter': [500, 1000, 2000, 3000],\n",
    "#     'n_iter_no_change': [10, 25, 50]\n",
    "# }\n",
    "\n",
    "# clf = make_pipeline(tfidf, \n",
    "#                     GridSearchCV(SGDClassifier(random_state=0, n_jobs=-1,),\n",
    "#                                  params,\n",
    "#                                  cv=5,\n",
    "#                                  refit=True))\n",
    "# X = textos[:, 0]\n",
    "# y = textos[:, 1].astype(np.int).ravel()\n",
    "\n",
    "# X_train, X_test, y_train, y_test = train_test_split(X, y, test_size=0.2, random_state=0)\n",
    "\n",
    "# clf.fit(X_train, y_train)\n",
    "# pred = clf.predict(X_test)\n",
    "\n",
    "# print(classification_report(y_test, pred))\n",
    "\n",
    "# df_cm = confusion_matrix(pred, y_test)\n",
    "# plt.figure(figsize=(6, 4))\n",
    "# sn.heatmap(df_cm, annot=True, fmt=\"d\")\n",
    "# plt.tight_layout()\n",
    "# plt.show()"
   ]
  },
  {
   "cell_type": "code",
   "execution_count": 329,
   "metadata": {
    "ExecuteTime": {
     "end_time": "2020-05-31T04:16:08.785273Z",
     "start_time": "2020-05-31T04:16:08.376905Z"
    },
    "scrolled": false
   },
   "outputs": [
    {
     "name": "stdout",
     "output_type": "stream",
     "text": [
      "              precision    recall  f1-score   support\n",
      "\n",
      "           0       0.85      0.73      0.78       255\n",
      "           1       0.63      0.78      0.70       154\n",
      "\n",
      "    accuracy                           0.75       409\n",
      "   macro avg       0.74      0.75      0.74       409\n",
      "weighted avg       0.77      0.75      0.75       409\n",
      "\n"
     ]
    },
    {
     "data": {
      "image/png": "[encoded data removed]",
      "text/plain": [
       "<Figure size 432x288 with 2 Axes>"
      ]
     },
     "metadata": {
      "needs_background": "light"
     },
     "output_type": "display_data"
    }
   ],
   "source": [
    "pipe = make_pipeline(tfidf, sgd_tfidf)\n",
    "\n",
    "X = textos[:, 0]\n",
    "y = textos[:, 1].astype(np.int).ravel()\n",
    "\n",
    "X_train, X_test, y_train, y_test = train_test_split(X, y, test_size=0.2, random_state=0)\n",
    "\n",
    "pipe.fit(X_train, y_train)\n",
    "pred = pipe.predict(X_test)\n",
    "\n",
    "print(classification_report(y_test, pred))\n",
    "\n",
    "df_cm = confusion_matrix(pred, y_test)\n",
    "plt.figure(figsize=(6, 4))\n",
    "sn.heatmap(df_cm, annot=True, fmt=\"d\")\n",
    "plt.tight_layout()\n",
    "plt.show()"
   ]
  },
  {
   "cell_type": "code",
   "execution_count": 321,
   "metadata": {
    "ExecuteTime": {
     "end_time": "2020-05-31T04:14:48.372118Z",
     "start_time": "2020-05-31T04:14:48.361863Z"
    }
   },
   "outputs": [],
   "source": [
    "# clf1 = make_pipeline(w2v, sgd_w2v)\n",
    "# clf2 = make_pipeline(tfidf, sgd_tfidf)\n",
    "\n",
    "# eclf = VotingClassifier(\n",
    "#     estimators=[('w2v', clf1), ('tfidf', clf2)],\n",
    "#     voting='hard', weights=[1, 1], n_jobs=-1\n",
    "# )\n",
    "\n",
    "# X = textos[:, 0]\n",
    "# y = textos[:, 1].astype(np.int).ravel()\n",
    "\n",
    "# X_train, X_test, y_train, y_test = train_test_split(X, y, test_size=0.2, random_state=0)\n",
    "\n",
    "# eclf.fit(X_train, y_train)\n",
    "# pred = eclf.predict(X_test)\n",
    "\n",
    "# print(classification_report(y_test, pred))\n",
    "\n",
    "# df_cm = confusion_matrix(pred, y_test)\n",
    "# plt.figure(figsize=(6, 4))\n",
    "# sn.heatmap(df_cm, annot=True, fmt=\"d\")\n",
    "# plt.tight_layout()\n",
    "# plt.show()"
   ]
  },
  {
   "cell_type": "code",
   "execution_count": 324,
   "metadata": {
    "ExecuteTime": {
     "end_time": "2020-05-31T04:15:29.679428Z",
     "start_time": "2020-05-31T04:15:29.179377Z"
    }
   },
   "outputs": [
    {
     "data": {
      "text/plain": [
       "['/ssd/programas/Covid19-Twitter-Tracker/code/src/notebook/../ai/models/tfidf_sgd_classifier.model']"
      ]
     },
     "execution_count": 324,
     "metadata": {},
     "output_type": "execute_result"
    }
   ],
   "source": [
    "pipe = make_pipeline(tfidf, sgd_tfidf)\n",
    "\n",
    "X = textos[:, 0]\n",
    "y = textos[:, 1].astype(np.int).ravel()\n",
    "\n",
    "pipe.fit(X, y)\n",
    "\n",
    "dump(pipe, f\"{os.getcwd()}/../ai/models/tfidf_sgd_classifier.model\")"
   ]
  },
  {
   "cell_type": "code",
   "execution_count": null,
   "metadata": {},
   "outputs": [],
   "source": []
  }
 ],
 "metadata": {
  "hide_input": false,
  "kernelspec": {
   "display_name": "Python 3",
   "language": "python",
   "name": "python3"
  },
  "language_info": {
   "codemirror_mode": {
    "name": "ipython",
    "version": 3
   },
   "file_extension": ".py",
   "mimetype": "text/x-python",
   "name": "python",
   "nbconvert_exporter": "python",
   "pygments_lexer": "ipython3",
   "version": "3.8.3"
  },
  "toc": {
   "base_numbering": 1,
   "nav_menu": {},
   "number_sections": true,
   "sideBar": true,
   "skip_h1_title": false,
   "title_cell": "Table of Contents",
   "title_sidebar": "Contents",
   "toc_cell": false,
   "toc_position": {},
   "toc_section_display": true,
   "toc_window_display": false
  }
 },
 "nbformat": 4,
 "nbformat_minor": 4
}
