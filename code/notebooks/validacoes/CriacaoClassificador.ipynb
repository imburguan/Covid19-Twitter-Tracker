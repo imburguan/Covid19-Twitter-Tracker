{
 "cells": [
  {
   "cell_type": "code",
   "execution_count": 1,
   "metadata": {
    "ExecuteTime": {
     "end_time": "2020-06-12T13:40:04.296294Z",
     "start_time": "2020-06-12T13:40:04.294221Z"
    }
   },
   "outputs": [],
   "source": [
    "import os\n",
    "import sys\n",
    "\n",
    "sys.path.append(f\"{os.getcwd()}/../../\")"
   ]
  },
  {
   "cell_type": "code",
   "execution_count": 2,
   "metadata": {
    "ExecuteTime": {
     "end_time": "2020-06-12T13:40:42.309136Z",
     "start_time": "2020-06-12T13:40:12.029913Z"
    }
   },
   "outputs": [],
   "source": [
    "import time\n",
    "import random\n",
    "import warnings\n",
    "from multiprocessing import cpu_count\n",
    "from itertools import chain\n",
    "warnings.filterwarnings(\"ignore\")\n",
    "\n",
    "import numpy as np\n",
    "import pandas as pd\n",
    "import matplotlib.pyplot as plt\n",
    "import seaborn as sn\n",
    "import joblib\n",
    "import ray\n",
    "\n",
    "from sklearn.pipeline import make_pipeline\n",
    "from sklearn.metrics import classification_report\n",
    "from sklearn.metrics import confusion_matrix, f1_score, accuracy_score\n",
    "from sklearn.model_selection import cross_val_score\n",
    "from sklearn.model_selection import train_test_split\n",
    "from sklearn.feature_extraction.text import TfidfVectorizer, CountVectorizer\n",
    "from sklearn.linear_model import SGDClassifier\n",
    "from sklearn.svm import SVC\n",
    "from sklearn.model_selection import GridSearchCV\n",
    "\n",
    "from src.data.processing.utils import CleanUp, RSLP_STEMMER, SNOWBALL_STEMMER, NLP_LEMMATIZER\n",
    "\n",
    "%matplotlib inline\n",
    "\n",
    "clean_up = CleanUp(stemmer=SNOWBALL_STEMMER)\n",
    "\n",
    "corpus = []"
   ]
  },
  {
   "cell_type": "code",
   "execution_count": 4,
   "metadata": {
    "ExecuteTime": {
     "end_time": "2020-06-09T14:03:03.310997Z",
     "start_time": "2020-06-09T14:03:03.032621Z"
    }
   },
   "outputs": [
    {
     "data": {
      "text/plain": [
       "'respost forc deus febr fibr'"
      ]
     },
     "execution_count": 4,
     "metadata": {},
     "output_type": "execute_result"
    }
   ],
   "source": [
    "# len(corpus)\n",
    "clean_up.fit(\"Em resposta a @lucamtm da força,da fé,da febre e da fibra\")"
   ]
  },
  {
   "cell_type": "code",
   "execution_count": 5,
   "metadata": {
    "ExecuteTime": {
     "end_time": "2020-06-09T14:03:03.328360Z",
     "start_time": "2020-06-09T14:03:03.314970Z"
    }
   },
   "outputs": [],
   "source": [
    "# import re\n",
    "# re.sub(r\"(kkk)+\", \" rir \", \"rindo muito jkkkkkkkkkkl\")"
   ]
  },
  {
   "cell_type": "code",
   "execution_count": 3,
   "metadata": {
    "ExecuteTime": {
     "end_time": "2020-06-12T13:40:51.345004Z",
     "start_time": "2020-06-12T13:40:47.939599Z"
    }
   },
   "outputs": [],
   "source": [
    "df = pd.read_csv(f\"{os.getcwd()}/../../data/processed/dataset.csv\", sep=\"|\")\n",
    "df[\"x\"] = df[\"comentario\"].apply(lambda comment: clean_up.fit(str(comment)))\n",
    "df[\"y\"] = df[\"classificacao\"].apply(lambda clasf: 0 if clasf == \"negativo\" else 1)\n",
    "textos = df[[\"x\", \"y\"]].to_numpy()"
   ]
  },
  {
   "cell_type": "code",
   "execution_count": 7,
   "metadata": {
    "ExecuteTime": {
     "end_time": "2020-06-09T14:03:19.433323Z",
     "start_time": "2020-06-09T14:03:19.406980Z"
    }
   },
   "outputs": [
    {
     "name": "stdout",
     "output_type": "stream",
     "text": [
      "['atest acab toss continu febr volt dev preocup duv' 1]\n",
      "2560\n"
     ]
    }
   ],
   "source": [
    "print(random.choice(textos))\n",
    "print(len(textos))\n",
    "\n",
    "for item in list(textos[:, 0]):\n",
    "    corpus.append(item)\n",
    "# corpus += textos[:, 0]\n",
    "# print(df[df['x'] == ''].index)\n",
    "# print(df.loc[250])"
   ]
  },
  {
   "cell_type": "code",
   "execution_count": 8,
   "metadata": {
    "ExecuteTime": {
     "end_time": "2020-06-09T14:03:58.206508Z",
     "start_time": "2020-06-09T14:03:58.201934Z"
    }
   },
   "outputs": [],
   "source": [
    "# class Word2VecVectorizer(TransformerMixin, BaseEstimator):\n",
    "    \n",
    "#     def __init__(self):\n",
    "#         self.w2v = Word2Vec.load(f\"{os.getcwd()}/../ai/models/w2v.model\")\n",
    "#         # print(f\"Palavras no vocab: {len(list(self.w2v.wv.vocab))}\")\n",
    "    \n",
    "#     def fit(self, X, y=None):\n",
    "#         return self\n",
    "    \n",
    "#     def transform(self, X):\n",
    "#         n_textos = []\n",
    "#         for texto in X:\n",
    "#             doc = []\n",
    "#             for palavra in texto.split():\n",
    "#                 try:\n",
    "#                     doc.append(self.w2v.wv[palavra])\n",
    "#                 except:\n",
    "#                     doc.append(np.zeros(300, ))\n",
    "#             n_textos.append(np.mean(doc, axis=0))\n",
    "#         return StandardScaler().fit_transform(np.asarray(n_textos)) \n",
    "    \n",
    "#     def fit_transform(self, X, y=None):\n",
    "#         return self.transform(X)"
   ]
  },
  {
   "cell_type": "code",
   "execution_count": 9,
   "metadata": {
    "ExecuteTime": {
     "end_time": "2020-06-09T14:03:59.311931Z",
     "start_time": "2020-06-09T14:03:59.307315Z"
    }
   },
   "outputs": [],
   "source": [
    "# w2v = Word2VecVectorizer()\n",
    "# sgd_w2v = SGDClassifier(\n",
    "#     alpha=1e-7,\n",
    "#     random_state=0,\n",
    "#     n_jobs=-1,\n",
    "#     max_iter=3000,\n",
    "#     n_iter_no_change=50\n",
    "# )\n",
    "\n",
    "# pipe = make_pipeline(w2v, sgd_w2v)\n",
    "\n",
    "# X = textos[:, 0]\n",
    "# y = textos[:, 1].astype(np.int).ravel()\n",
    "\n",
    "# X_train, X_test, y_train, y_test = train_test_split(X, y, test_size=0.2, random_state=0)\n",
    "\n",
    "# pipe.fit(X_train, y_train)\n",
    "# pred = pipe.predict(X_test)\n",
    "\n",
    "# print(classification_report(y_test, pred))\n",
    "\n",
    "# df_cm = confusion_matrix(pred, y_test)\n",
    "# plt.figure(figsize=(6, 4))\n",
    "# sn.heatmap(df_cm, annot=True, fmt=\"d\")\n",
    "# plt.tight_layout()\n",
    "# plt.show()"
   ]
  },
  {
   "cell_type": "code",
   "execution_count": 10,
   "metadata": {
    "ExecuteTime": {
     "end_time": "2020-06-09T16:26:09.649286Z",
     "start_time": "2020-06-09T16:25:40.140836Z"
    }
   },
   "outputs": [],
   "source": [
    "validacoes, N = [], 6\n",
    "for ngram_range in zip(np.ones((N), dtype=np.int), range(1, N)):\n",
    "    acc, f1 = [], []\n",
    "    tfidf = TfidfVectorizer(ngram_range=ngram_range, lowercase=False).fit(corpus)\n",
    "    for _ in range(5):\n",
    "        clf = SVC(kernel=\"linear\", C=5, random_state=0)\n",
    "        pipe = make_pipeline(tfidf, clf)\n",
    "\n",
    "        X = textos[:, 0]\n",
    "        y = textos[:, 1].astype(np.int).ravel()\n",
    "\n",
    "        X_train, X_test, y_train, y_test = train_test_split(X, y, test_size=0.2)\n",
    "\n",
    "        pipe.fit(X_train, y_train)\n",
    "        pred = pipe.predict(X_test)\n",
    "\n",
    "        acc.append(round(accuracy_score(pred, y_test) * 100, 2))\n",
    "        f1.append(round(f1_score(pred, y_test) * 100, 2))\n",
    "\n",
    "    validacoes.append((\n",
    "        ngram_range,\n",
    "        round(np.mean(acc), 2),\n",
    "        np.max(acc),\n",
    "        round(np.mean(f1), 2),\n",
    "        np.max(f1)\n",
    "    ))"
   ]
  },
  {
   "cell_type": "code",
   "execution_count": 11,
   "metadata": {
    "ExecuteTime": {
     "end_time": "2020-06-09T16:26:09.853423Z",
     "start_time": "2020-06-09T16:26:09.650552Z"
    }
   },
   "outputs": [
    {
     "data": {
      "text/html": [
       "<div>\n",
       "<style scoped>\n",
       "    .dataframe tbody tr th:only-of-type {\n",
       "        vertical-align: middle;\n",
       "    }\n",
       "\n",
       "    .dataframe tbody tr th {\n",
       "        vertical-align: top;\n",
       "    }\n",
       "\n",
       "    .dataframe thead th {\n",
       "        text-align: right;\n",
       "    }\n",
       "</style>\n",
       "<table border=\"1\" class=\"dataframe\">\n",
       "  <thead>\n",
       "    <tr style=\"text-align: right;\">\n",
       "      <th></th>\n",
       "      <th>NGram</th>\n",
       "      <th>Accuracy</th>\n",
       "      <th>Acc Max.</th>\n",
       "      <th>F1</th>\n",
       "      <th>F1 Max.</th>\n",
       "    </tr>\n",
       "  </thead>\n",
       "  <tbody>\n",
       "    <tr>\n",
       "      <th>3</th>\n",
       "      <td>(1, 4)</td>\n",
       "      <td>77.97</td>\n",
       "      <td>80.27</td>\n",
       "      <td>74.52</td>\n",
       "      <td>77.80</td>\n",
       "    </tr>\n",
       "    <tr>\n",
       "      <th>2</th>\n",
       "      <td>(1, 3)</td>\n",
       "      <td>77.11</td>\n",
       "      <td>79.30</td>\n",
       "      <td>73.09</td>\n",
       "      <td>75.80</td>\n",
       "    </tr>\n",
       "    <tr>\n",
       "      <th>4</th>\n",
       "      <td>(1, 5)</td>\n",
       "      <td>75.78</td>\n",
       "      <td>78.71</td>\n",
       "      <td>72.32</td>\n",
       "      <td>75.72</td>\n",
       "    </tr>\n",
       "    <tr>\n",
       "      <th>1</th>\n",
       "      <td>(1, 2)</td>\n",
       "      <td>77.54</td>\n",
       "      <td>79.10</td>\n",
       "      <td>71.72</td>\n",
       "      <td>74.70</td>\n",
       "    </tr>\n",
       "    <tr>\n",
       "      <th>0</th>\n",
       "      <td>(1, 1)</td>\n",
       "      <td>75.23</td>\n",
       "      <td>76.95</td>\n",
       "      <td>67.20</td>\n",
       "      <td>69.72</td>\n",
       "    </tr>\n",
       "  </tbody>\n",
       "</table>\n",
       "</div>"
      ],
      "text/plain": [
       "    NGram  Accuracy  Acc Max.     F1  F1 Max.\n",
       "3  (1, 4)     77.97     80.27  74.52    77.80\n",
       "2  (1, 3)     77.11     79.30  73.09    75.80\n",
       "4  (1, 5)     75.78     78.71  72.32    75.72\n",
       "1  (1, 2)     77.54     79.10  71.72    74.70\n",
       "0  (1, 1)     75.23     76.95  67.20    69.72"
      ]
     },
     "execution_count": 11,
     "metadata": {},
     "output_type": "execute_result"
    }
   ],
   "source": [
    "columns = [\"NGram\", \"Accuracy\", \"Acc Max.\", \"F1\", \"F1 Max.\"]\n",
    "df = pd.DataFrame(validacoes, columns=columns)\n",
    "df = df.sort_values(by=[\"F1 Max.\", \"Acc Max.\", \"NGram\"], ascending=False)\n",
    "ngram_range = df.reset_index().loc[0][\"NGram\"]\n",
    "df.head(25)"
   ]
  },
  {
   "cell_type": "markdown",
   "metadata": {},
   "source": [
    "## Modelo final selecionado"
   ]
  },
  {
   "cell_type": "code",
   "execution_count": 12,
   "metadata": {
    "ExecuteTime": {
     "end_time": "2020-06-09T16:26:10.213430Z",
     "start_time": "2020-06-09T16:26:09.854770Z"
    }
   },
   "outputs": [
    {
     "name": "stdout",
     "output_type": "stream",
     "text": [
      "NGram escolhido: (1, 4)\n"
     ]
    }
   ],
   "source": [
    "# ngram_range = (1, 2)\n",
    "print(f\"NGram escolhido: {ngram_range}\")\n",
    "tfidf = TfidfVectorizer(ngram_range=ngram_range, lowercase=False).fit(corpus)"
   ]
  },
  {
   "cell_type": "code",
   "execution_count": 13,
   "metadata": {
    "ExecuteTime": {
     "end_time": "2020-06-09T16:26:10.216384Z",
     "start_time": "2020-06-09T16:26:10.214683Z"
    }
   },
   "outputs": [],
   "source": [
    "# parameters = {\n",
    "#     'kernel': ('linear', 'rbf'), \n",
    "#     'gamma': [0.1, 0.5, 1, 2], \n",
    "#     'C': [0.1, 0.5, 1, 5, 7, 15],\n",
    "#     'random_state': [0, 10, 100, 1000]\n",
    "# }\n",
    "\n",
    "# X = textos[:, 0]\n",
    "# y = textos[:, 1].astype(np.int).ravel()\n",
    "\n",
    "# X = tfidf.transform(X)\n",
    "\n",
    "# svc = SVC()\n",
    "# clf = GridSearchCV(svc, parameters, cv=5, n_jobs=-1)\n",
    "# clf.fit(X, y)"
   ]
  },
  {
   "cell_type": "code",
   "execution_count": 14,
   "metadata": {
    "ExecuteTime": {
     "end_time": "2020-06-09T16:26:10.400569Z",
     "start_time": "2020-06-09T16:26:10.217530Z"
    },
    "scrolled": false
   },
   "outputs": [],
   "source": [
    "# result = []\n",
    "# for param, score in zip(clf.cv_results_['params'], clf.cv_results_['split0_test_score']):\n",
    "#     result.append((score, param))\n",
    "# sorted(result, key=lambda x: x[0], reverse=True)"
   ]
  },
  {
   "cell_type": "code",
   "execution_count": 15,
   "metadata": {
    "ExecuteTime": {
     "end_time": "2020-06-09T16:26:19.896220Z",
     "start_time": "2020-06-09T16:26:10.401640Z"
    },
    "scrolled": false
   },
   "outputs": [
    {
     "name": "stdout",
     "output_type": "stream",
     "text": [
      "Cross Validation accuracy: 0.77 (+/- 0.02)\n",
      "[0.77133106 0.77474403 0.76791809 0.77133106 0.73972603 0.77054795\n",
      " 0.76712329]\n",
      "\n",
      "              precision    recall  f1-score   support\n",
      "\n",
      "           0       0.86      0.76      0.81       302\n",
      "           1       0.70      0.81      0.75       210\n",
      "\n",
      "    accuracy                           0.78       512\n",
      "   macro avg       0.78      0.79      0.78       512\n",
      "weighted avg       0.79      0.78      0.78       512\n",
      "\n"
     ]
    },
    {
     "data": {
      "image/png": "[encoded data removed]",
      "text/plain": [
       "<Figure size 432x288 with 2 Axes>"
      ]
     },
     "metadata": {
      "needs_background": "light"
     },
     "output_type": "display_data"
    }
   ],
   "source": [
    "clf = SVC(kernel=\"linear\", C=5, random_state=0)\n",
    "\n",
    "pipe = make_pipeline(tfidf, clf)\n",
    "\n",
    "X = textos[:, 0]\n",
    "y = textos[:, 1].astype(np.int).ravel()\n",
    "\n",
    "X_train, X_test, y_train, y_test = train_test_split(X, y, test_size=0.2, random_state=0)\n",
    "\n",
    "pipe.fit(X_train, y_train)\n",
    "\n",
    "scores = cross_val_score(pipe, X_train, y_train, cv=7)\n",
    "print(\"Cross Validation accuracy: %0.2f (+/- %0.2f)\" % (scores.mean(), scores.std() * 2))\n",
    "print(scores)\n",
    "print()\n",
    "\n",
    "pred = pipe.predict(X_test)\n",
    "print(classification_report(y_test, pred))\n",
    "df_cm = confusion_matrix(pred, y_test)\n",
    "plt.figure(figsize=(6, 4))\n",
    "sn.heatmap(df_cm, annot=True, fmt=\"d\")\n",
    "plt.tight_layout()\n",
    "plt.show()"
   ]
  },
  {
   "cell_type": "code",
   "execution_count": 16,
   "metadata": {
    "ExecuteTime": {
     "end_time": "2020-06-09T16:26:19.900751Z",
     "start_time": "2020-06-09T16:26:19.897709Z"
    }
   },
   "outputs": [],
   "source": [
    "# params = {\n",
    "#     'loss': ['hinge', 'log', 'modified_huber', 'squared_hinge', 'perceptron'],\n",
    "#     'alpha': [1e-1, 1e-3, 1e-5, 1e-7],\n",
    "#     'max_iter': [500, 1000, 2000, 3000],\n",
    "#     'n_iter_no_change': [10, 25, 50]\n",
    "# }\n",
    "\n",
    "# clf = make_pipeline(tfidf, \n",
    "#                     GridSearchCV(SGDClassifier(random_state=0, n_jobs=-1,),\n",
    "#                                  params,\n",
    "#                                  cv=5,\n",
    "#                                  refit=True, n_jobs=-1))\n",
    "\n",
    "# params = {\n",
    "#     'kernel': ['linear', 'rbf', 'sigmoid'],\n",
    "#     'C': [0.1, 0.5, 1, 5, 10],\n",
    "#     'tol': [1e-1, 1e-2, 1e-3, 1e-4],\n",
    "#     'decision_function_shape': ['ovo', 'ovr']\n",
    "# }\n",
    "\n",
    "# cv = GridSearchCV(SVC(random_state=0), params, refit=True, n_jobs=-1)\n",
    "# clf = make_pipeline(tfidf, cv)\n",
    "\n",
    "# X = textos[:, 0]\n",
    "# y = textos[:, 1].astype(np.int).ravel()\n",
    "\n",
    "# X_train, X_test, y_train, y_test = train_test_split(X, y, test_size=0.2, random_state=0)\n",
    "\n",
    "# clf.fit(X_train, y_train)\n",
    "# pred = clf.predict(X_test)\n",
    "\n",
    "# print(classification_report(y_test, pred))\n",
    "\n",
    "# df_cm = confusion_matrix(pred, y_test)\n",
    "# plt.figure(figsize=(6, 4))\n",
    "# sn.heatmap(df_cm, annot=True, fmt=\"d\")\n",
    "# plt.tight_layout()\n",
    "# plt.show()"
   ]
  },
  {
   "cell_type": "code",
   "execution_count": 17,
   "metadata": {
    "ExecuteTime": {
     "end_time": "2020-06-09T16:26:20.133743Z",
     "start_time": "2020-06-09T16:26:19.902899Z"
    }
   },
   "outputs": [],
   "source": [
    "# clf1 = make_pipeline(w2v, sgd_w2v)\n",
    "# clf2 = make_pipeline(tfidf, sgd_tfidf)\n",
    "\n",
    "# eclf = VotingClassifier(\n",
    "#     estimators=[('w2v', clf1), ('tfidf', clf2)],\n",
    "#     voting='hard', weights=[1, 1], n_jobs=-1\n",
    "# )\n",
    "\n",
    "# X = textos[:, 0]\n",
    "# y = textos[:, 1].astype(np.int).ravel()\n",
    "\n",
    "# X_train, X_test, y_train, y_test = train_test_split(X, y, test_size=0.2, random_state=0)\n",
    "\n",
    "# eclf.fit(X_train, y_train)\n",
    "# pred = eclf.predict(X_test)\n",
    "\n",
    "# print(classification_report(y_test, pred))\n",
    "\n",
    "# df_cm = confusion_matrix(pred, y_test)\n",
    "# plt.figure(figsize=(6, 4))\n",
    "# sn.heatmap(df_cm, annot=True, fmt=\"d\")\n",
    "# plt.tight_layout()\n",
    "# plt.show()"
   ]
  },
  {
   "cell_type": "code",
   "execution_count": 17,
   "metadata": {
    "ExecuteTime": {
     "end_time": "2020-06-08T03:36:46.974450Z",
     "start_time": "2020-06-08T03:36:46.776094Z"
    }
   },
   "outputs": [],
   "source": [
    "# clf = SVC(kernel=\"linear\", C=5, random_state=0)\n",
    "# pipe = make_pipeline(tfidf, clf)\n",
    "\n",
    "# X = textos[:, 0]\n",
    "# y = textos[:, 1].astype(np.int).ravel()\n",
    "\n",
    "# pipe.fit(X, y)\n",
    "\n",
    "# joblib.dump(pipe, f\"{os.getcwd()}/../../ai/models/tweets_classifier.model\")"
   ]
  },
  {
   "cell_type": "code",
   "execution_count": null,
   "metadata": {},
   "outputs": [],
   "source": []
  }
 ],
 "metadata": {
  "hide_input": false,
  "kernelspec": {
   "display_name": "Python 3",
   "language": "python",
   "name": "python3"
  },
  "language_info": {
   "codemirror_mode": {
    "name": "ipython",
    "version": 3
   },
   "file_extension": ".py",
   "mimetype": "text/x-python",
   "name": "python",
   "nbconvert_exporter": "python",
   "pygments_lexer": "ipython3",
   "version": "3.8.3"
  },
  "toc": {
   "base_numbering": 1,
   "nav_menu": {},
   "number_sections": true,
   "sideBar": true,
   "skip_h1_title": false,
   "title_cell": "Table of Contents",
   "title_sidebar": "Contents",
   "toc_cell": false,
   "toc_position": {},
   "toc_section_display": true,
   "toc_window_display": false
  }
 },
 "nbformat": 4,
 "nbformat_minor": 4
}
